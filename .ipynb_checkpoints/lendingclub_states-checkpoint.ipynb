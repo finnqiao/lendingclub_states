{
 "cells": [
  {
   "cell_type": "markdown",
   "metadata": {},
   "source": [
    "### Lending Club P2P loans 2018 Q1"
   ]
  },
  {
   "cell_type": "markdown",
   "metadata": {},
   "source": [
    "The rise of peer-to-peer (P2P) lending in recent years has contributed greatly to democratizing access to financing for previously underserved population groups. What are the characteristics of such borrowers and what can we learn about their credit habits?\n",
    "\n",
    "Thankfully, Lending Club releases quarterly data on loans issued during a particular period. I will be using the most recent loan data on 2018 Q1 to look at the most recent batch of borrowers. Understandably, due to the recency of the data, repayment information is still incomplete. It would be interesting down the road to look at an older data set with more repayment information or at the declined loans data that Lending Club provides."
   ]
  },
  {
   "cell_type": "code",
   "execution_count": 2,
   "metadata": {
    "collapsed": true
   },
   "outputs": [],
   "source": [
    "import pandas as pd\n",
    "import seaborn as sb\n",
    "import numpy as np\n",
    "import matplotlib\n",
    "import matplotlib.pyplot as plt\n",
    "import missingno as msno\n",
    "from itertools import islice\n",
    "import csv"
   ]
  },
  {
   "cell_type": "code",
   "execution_count": 3,
   "metadata": {},
   "outputs": [
    {
     "data": {
      "text/html": [
       "<div>\n",
       "<style>\n",
       "    .dataframe thead tr:only-child th {\n",
       "        text-align: right;\n",
       "    }\n",
       "\n",
       "    .dataframe thead th {\n",
       "        text-align: left;\n",
       "    }\n",
       "\n",
       "    .dataframe tbody tr th {\n",
       "        vertical-align: top;\n",
       "    }\n",
       "</style>\n",
       "<table border=\"1\" class=\"dataframe\">\n",
       "  <thead>\n",
       "    <tr style=\"text-align: right;\">\n",
       "      <th></th>\n",
       "      <th>id</th>\n",
       "      <th>member_id</th>\n",
       "      <th>loan_amnt</th>\n",
       "      <th>funded_amnt</th>\n",
       "      <th>funded_amnt_inv</th>\n",
       "      <th>term</th>\n",
       "      <th>int_rate</th>\n",
       "      <th>installment</th>\n",
       "      <th>grade</th>\n",
       "      <th>sub_grade</th>\n",
       "      <th>...</th>\n",
       "      <th>hardship_payoff_balance_amount</th>\n",
       "      <th>hardship_last_payment_amount</th>\n",
       "      <th>disbursement_method</th>\n",
       "      <th>debt_settlement_flag</th>\n",
       "      <th>debt_settlement_flag_date</th>\n",
       "      <th>settlement_status</th>\n",
       "      <th>settlement_date</th>\n",
       "      <th>settlement_amount</th>\n",
       "      <th>settlement_percentage</th>\n",
       "      <th>settlement_term</th>\n",
       "    </tr>\n",
       "  </thead>\n",
       "  <tbody>\n",
       "    <tr>\n",
       "      <th>1</th>\n",
       "      <td></td>\n",
       "      <td></td>\n",
       "      <td>3000</td>\n",
       "      <td>3000</td>\n",
       "      <td>3000</td>\n",
       "      <td>36 months</td>\n",
       "      <td>10.41%</td>\n",
       "      <td>97.39</td>\n",
       "      <td>B</td>\n",
       "      <td>B3</td>\n",
       "      <td>...</td>\n",
       "      <td></td>\n",
       "      <td></td>\n",
       "      <td>Cash</td>\n",
       "      <td>N</td>\n",
       "      <td></td>\n",
       "      <td></td>\n",
       "      <td></td>\n",
       "      <td></td>\n",
       "      <td></td>\n",
       "      <td></td>\n",
       "    </tr>\n",
       "    <tr>\n",
       "      <th>2</th>\n",
       "      <td></td>\n",
       "      <td></td>\n",
       "      <td>14100</td>\n",
       "      <td>14100</td>\n",
       "      <td>14100</td>\n",
       "      <td>36 months</td>\n",
       "      <td>23.87%</td>\n",
       "      <td>552.23</td>\n",
       "      <td>E</td>\n",
       "      <td>E2</td>\n",
       "      <td>...</td>\n",
       "      <td></td>\n",
       "      <td></td>\n",
       "      <td>Cash</td>\n",
       "      <td>N</td>\n",
       "      <td></td>\n",
       "      <td></td>\n",
       "      <td></td>\n",
       "      <td></td>\n",
       "      <td></td>\n",
       "      <td></td>\n",
       "    </tr>\n",
       "    <tr>\n",
       "      <th>3</th>\n",
       "      <td></td>\n",
       "      <td></td>\n",
       "      <td>10000</td>\n",
       "      <td>10000</td>\n",
       "      <td>10000</td>\n",
       "      <td>36 months</td>\n",
       "      <td>6.07%</td>\n",
       "      <td>304.54</td>\n",
       "      <td>A</td>\n",
       "      <td>A2</td>\n",
       "      <td>...</td>\n",
       "      <td></td>\n",
       "      <td></td>\n",
       "      <td>Cash</td>\n",
       "      <td>N</td>\n",
       "      <td></td>\n",
       "      <td></td>\n",
       "      <td></td>\n",
       "      <td></td>\n",
       "      <td></td>\n",
       "      <td></td>\n",
       "    </tr>\n",
       "    <tr>\n",
       "      <th>4</th>\n",
       "      <td></td>\n",
       "      <td></td>\n",
       "      <td>40000</td>\n",
       "      <td>40000</td>\n",
       "      <td>40000</td>\n",
       "      <td>60 months</td>\n",
       "      <td>9.43%</td>\n",
       "      <td>838.71</td>\n",
       "      <td>B</td>\n",
       "      <td>B1</td>\n",
       "      <td>...</td>\n",
       "      <td></td>\n",
       "      <td></td>\n",
       "      <td>Cash</td>\n",
       "      <td>N</td>\n",
       "      <td></td>\n",
       "      <td></td>\n",
       "      <td></td>\n",
       "      <td></td>\n",
       "      <td></td>\n",
       "      <td></td>\n",
       "    </tr>\n",
       "    <tr>\n",
       "      <th>5</th>\n",
       "      <td></td>\n",
       "      <td></td>\n",
       "      <td>6300</td>\n",
       "      <td>6300</td>\n",
       "      <td>6300</td>\n",
       "      <td>36 months</td>\n",
       "      <td>9.43%</td>\n",
       "      <td>201.61</td>\n",
       "      <td>B</td>\n",
       "      <td>B1</td>\n",
       "      <td>...</td>\n",
       "      <td></td>\n",
       "      <td></td>\n",
       "      <td>Cash</td>\n",
       "      <td>N</td>\n",
       "      <td></td>\n",
       "      <td></td>\n",
       "      <td></td>\n",
       "      <td></td>\n",
       "      <td></td>\n",
       "      <td></td>\n",
       "    </tr>\n",
       "  </tbody>\n",
       "</table>\n",
       "<p>5 rows × 145 columns</p>\n",
       "</div>"
      ],
      "text/plain": [
       "0 id member_id loan_amnt funded_amnt funded_amnt_inv        term int_rate  \\\n",
       "1                   3000        3000            3000   36 months   10.41%   \n",
       "2                  14100       14100           14100   36 months   23.87%   \n",
       "3                  10000       10000           10000   36 months    6.07%   \n",
       "4                  40000       40000           40000   60 months    9.43%   \n",
       "5                   6300        6300            6300   36 months    9.43%   \n",
       "\n",
       "0 installment grade sub_grade       ...       hardship_payoff_balance_amount  \\\n",
       "1       97.39     B        B3       ...                                        \n",
       "2      552.23     E        E2       ...                                        \n",
       "3      304.54     A        A2       ...                                        \n",
       "4      838.71     B        B1       ...                                        \n",
       "5      201.61     B        B1       ...                                        \n",
       "\n",
       "0 hardship_last_payment_amount disbursement_method debt_settlement_flag  \\\n",
       "1                                             Cash                    N   \n",
       "2                                             Cash                    N   \n",
       "3                                             Cash                    N   \n",
       "4                                             Cash                    N   \n",
       "5                                             Cash                    N   \n",
       "\n",
       "0 debt_settlement_flag_date settlement_status settlement_date  \\\n",
       "1                                                               \n",
       "2                                                               \n",
       "3                                                               \n",
       "4                                                               \n",
       "5                                                               \n",
       "\n",
       "0 settlement_amount settlement_percentage settlement_term  \n",
       "1                                                          \n",
       "2                                                          \n",
       "3                                                          \n",
       "4                                                          \n",
       "5                                                          \n",
       "\n",
       "[5 rows x 145 columns]"
      ]
     },
     "execution_count": 3,
     "metadata": {},
     "output_type": "execute_result"
    }
   ],
   "source": [
    "all_data = []\n",
    "with open('LoanStats_2018Q1.csv') as data:\n",
    "    for row in islice(csv.reader(data), 1, None):\n",
    "        all_data.append(np.array(row))\n",
    "        \n",
    "df = pd.DataFrame(all_data)\n",
    "df.columns = df.iloc[0]\n",
    "df = df.drop([0])\n",
    "df.head()"
   ]
  },
  {
   "cell_type": "code",
   "execution_count": 4,
   "metadata": {},
   "outputs": [
    {
     "data": {
      "text/plain": [
       "(107868, 145)"
      ]
     },
     "execution_count": 4,
     "metadata": {},
     "output_type": "execute_result"
    }
   ],
   "source": [
    "df.shape"
   ]
  },
  {
   "cell_type": "markdown",
   "metadata": {},
   "source": [
    "A look at the shape reveals 107,868 loans originated in Q1 of 2018. There are 145 columns with some columns that are completely empty.\n",
    "\n",
    "Some empty columns such as id and member_id are understandeable they are personally identifiable information. Many of the variables also relate to detailed loan information. For the purposes of this analysis, we focus on a few demographic variables and basic loan information:\n",
    "\n",
    "1. loan_amnt\n",
    "2. funded_amnt\n",
    "3. term\n",
    "4. int_rate\n",
    "5. grade\n",
    "6. emp_length\n",
    "7. home_ownership\n",
    "8. annual_inc\n",
    "9. title\n",
    "10. addr_state\n",
    "11. dti\n",
    "12. open_acc\n",
    "13. total_acc\n",
    "14. pub_rec"
   ]
  },
  {
   "cell_type": "code",
   "execution_count": 5,
   "metadata": {},
   "outputs": [
    {
     "data": {
      "text/html": [
       "<div>\n",
       "<style>\n",
       "    .dataframe thead tr:only-child th {\n",
       "        text-align: right;\n",
       "    }\n",
       "\n",
       "    .dataframe thead th {\n",
       "        text-align: left;\n",
       "    }\n",
       "\n",
       "    .dataframe tbody tr th {\n",
       "        vertical-align: top;\n",
       "    }\n",
       "</style>\n",
       "<table border=\"1\" class=\"dataframe\">\n",
       "  <thead>\n",
       "    <tr style=\"text-align: right;\">\n",
       "      <th></th>\n",
       "      <th>loan_amnt</th>\n",
       "      <th>funded_amnt</th>\n",
       "      <th>term</th>\n",
       "      <th>int_rate</th>\n",
       "      <th>grade</th>\n",
       "      <th>emp_length</th>\n",
       "      <th>home_ownership</th>\n",
       "      <th>annual_inc</th>\n",
       "      <th>title</th>\n",
       "      <th>addr_state</th>\n",
       "      <th>dti</th>\n",
       "      <th>open_acc</th>\n",
       "      <th>total_acc</th>\n",
       "      <th>pub_rec</th>\n",
       "    </tr>\n",
       "  </thead>\n",
       "  <tbody>\n",
       "    <tr>\n",
       "      <th>1</th>\n",
       "      <td>3000</td>\n",
       "      <td>3000</td>\n",
       "      <td>36 months</td>\n",
       "      <td>10.41%</td>\n",
       "      <td>B</td>\n",
       "      <td>10+ years</td>\n",
       "      <td>MORTGAGE</td>\n",
       "      <td>60000</td>\n",
       "      <td>Debt consolidation</td>\n",
       "      <td>MO</td>\n",
       "      <td>27.94</td>\n",
       "      <td>20</td>\n",
       "      <td>36</td>\n",
       "      <td>0</td>\n",
       "    </tr>\n",
       "    <tr>\n",
       "      <th>2</th>\n",
       "      <td>14100</td>\n",
       "      <td>14100</td>\n",
       "      <td>36 months</td>\n",
       "      <td>23.87%</td>\n",
       "      <td>E</td>\n",
       "      <td>&lt; 1 year</td>\n",
       "      <td>OWN</td>\n",
       "      <td>128000</td>\n",
       "      <td>Debt consolidation</td>\n",
       "      <td>NC</td>\n",
       "      <td>14.12</td>\n",
       "      <td>12</td>\n",
       "      <td>32</td>\n",
       "      <td>0</td>\n",
       "    </tr>\n",
       "    <tr>\n",
       "      <th>3</th>\n",
       "      <td>10000</td>\n",
       "      <td>10000</td>\n",
       "      <td>36 months</td>\n",
       "      <td>6.07%</td>\n",
       "      <td>A</td>\n",
       "      <td>5 years</td>\n",
       "      <td>OWN</td>\n",
       "      <td>50000</td>\n",
       "      <td>Credit card refinancing</td>\n",
       "      <td>WI</td>\n",
       "      <td>8.93</td>\n",
       "      <td>9</td>\n",
       "      <td>16</td>\n",
       "      <td>1</td>\n",
       "    </tr>\n",
       "    <tr>\n",
       "      <th>4</th>\n",
       "      <td>40000</td>\n",
       "      <td>40000</td>\n",
       "      <td>60 months</td>\n",
       "      <td>9.43%</td>\n",
       "      <td>B</td>\n",
       "      <td>10+ years</td>\n",
       "      <td>MORTGAGE</td>\n",
       "      <td>150000</td>\n",
       "      <td>Debt consolidation</td>\n",
       "      <td>NY</td>\n",
       "      <td>4.09</td>\n",
       "      <td>6</td>\n",
       "      <td>9</td>\n",
       "      <td>1</td>\n",
       "    </tr>\n",
       "    <tr>\n",
       "      <th>5</th>\n",
       "      <td>6300</td>\n",
       "      <td>6300</td>\n",
       "      <td>36 months</td>\n",
       "      <td>9.43%</td>\n",
       "      <td>B</td>\n",
       "      <td>6 years</td>\n",
       "      <td>RENT</td>\n",
       "      <td>60000</td>\n",
       "      <td>Credit card refinancing</td>\n",
       "      <td>WV</td>\n",
       "      <td>13.36</td>\n",
       "      <td>7</td>\n",
       "      <td>32</td>\n",
       "      <td>1</td>\n",
       "    </tr>\n",
       "  </tbody>\n",
       "</table>\n",
       "</div>"
      ],
      "text/plain": [
       "0 loan_amnt funded_amnt        term int_rate grade emp_length home_ownership  \\\n",
       "1      3000        3000   36 months   10.41%     B  10+ years       MORTGAGE   \n",
       "2     14100       14100   36 months   23.87%     E   < 1 year            OWN   \n",
       "3     10000       10000   36 months    6.07%     A    5 years            OWN   \n",
       "4     40000       40000   60 months    9.43%     B  10+ years       MORTGAGE   \n",
       "5      6300        6300   36 months    9.43%     B    6 years           RENT   \n",
       "\n",
       "0 annual_inc                    title addr_state    dti open_acc total_acc  \\\n",
       "1      60000       Debt consolidation         MO  27.94       20        36   \n",
       "2     128000       Debt consolidation         NC  14.12       12        32   \n",
       "3      50000  Credit card refinancing         WI   8.93        9        16   \n",
       "4     150000       Debt consolidation         NY   4.09        6         9   \n",
       "5      60000  Credit card refinancing         WV  13.36        7        32   \n",
       "\n",
       "0 pub_rec  \n",
       "1       0  \n",
       "2       0  \n",
       "3       1  \n",
       "4       1  \n",
       "5       1  "
      ]
     },
     "execution_count": 5,
     "metadata": {},
     "output_type": "execute_result"
    }
   ],
   "source": [
    "cols = ['loan_amnt','funded_amnt','term','int_rate','grade','emp_length','home_ownership','annual_inc','title','addr_state','dti','open_acc','total_acc','pub_rec']\n",
    "new_df = df[cols]\n",
    "new_df.head()"
   ]
  },
  {
   "cell_type": "code",
   "execution_count": 6,
   "metadata": {},
   "outputs": [
    {
     "name": "stdout",
     "output_type": "stream",
     "text": [
      "<class 'pandas.core.frame.DataFrame'>\n",
      "Int64Index: 107868 entries, 1 to 107868\n",
      "Data columns (total 14 columns):\n",
      "loan_amnt         107864 non-null object\n",
      "funded_amnt       107864 non-null object\n",
      "term              107864 non-null object\n",
      "int_rate          107864 non-null object\n",
      "grade             107864 non-null object\n",
      "emp_length        107864 non-null object\n",
      "home_ownership    107864 non-null object\n",
      "annual_inc        107864 non-null object\n",
      "title             107864 non-null object\n",
      "addr_state        107864 non-null object\n",
      "dti               107864 non-null object\n",
      "open_acc          107864 non-null object\n",
      "total_acc         107864 non-null object\n",
      "pub_rec           107864 non-null object\n",
      "dtypes: object(14)\n",
      "memory usage: 12.3+ MB\n"
     ]
    }
   ],
   "source": [
    "new_df.info()"
   ]
  },
  {
   "cell_type": "markdown",
   "metadata": {},
   "source": [
    "Looking at the data types for the variables, they are currently all non-null objects. For variables that should indicate a sense of scale or order, the data should be changed accordingly."
   ]
  },
  {
   "cell_type": "code",
   "execution_count": 7,
   "metadata": {
    "collapsed": true
   },
   "outputs": [],
   "source": [
    "new_df = new_df.replace(['',None,'n/a'], np.nan, regex = True)"
   ]
  },
  {
   "cell_type": "code",
   "execution_count": 8,
   "metadata": {},
   "outputs": [
    {
     "data": {
      "text/plain": [
       "<matplotlib.axes._subplots.AxesSubplot at 0x1a5c47c7f0>"
      ]
     },
     "execution_count": 8,
     "metadata": {},
     "output_type": "execute_result"
    },
    {
     "data": {
      "image/png": "[encoded data removed]",
      "text/plain": [
       "<matplotlib.figure.Figure at 0x108dc1a20>"
      ]
     },
     "metadata": {},
     "output_type": "display_data"
    }
   ],
   "source": [
    "%matplotlib inline\n",
    "msno.bar(new_df)"
   ]
  },
  {
   "cell_type": "code",
   "execution_count": 9,
   "metadata": {
    "collapsed": true
   },
   "outputs": [],
   "source": [
    "new_df = new_df.dropna()"
   ]
  },
  {
   "cell_type": "markdown",
   "metadata": {},
   "source": [
    "A look at individual entries reveal that empty data is represented by an empty string object, a Nonetype object, or a string 'n/a'. By replacing those with NaN and running missingno, we see a large number of missing fields under 'emp_length'. \n",
    "\n",
    "Dropping the records with missing data yield 98,424 rows, not a large dilution of the initial number.\n",
    "\n",
    "Based on the nature of the individual variables, they have to be converted to the following data types to be useful in any subsequent analysis:\n",
    "\n",
    "Integer data type:\n",
    "- loan_amnt\n",
    "- funded_amnt\n",
    "- term\n",
    "- open_acc\n",
    "- total_acc\n",
    "- pub_rec\n",
    "\n",
    "Float data type:\n",
    "- int_rate\n",
    "- dti\n",
    "\n",
    "Ordered category data type:\n",
    "- grade\n",
    "- emp_length\n",
    "- annual_inc"
   ]
  },
  {
   "cell_type": "markdown",
   "metadata": {},
   "source": [
    "### Integer data types\n",
    "\n",
    "For most of the integer type conversions, a simple conversion is possible with 'astype'. However, the 'term' variable is currently represented by '36 Months' and '60 Months'. Additional transformation will have to be applied on it."
   ]
  },
  {
   "cell_type": "code",
   "execution_count": 10,
   "metadata": {},
   "outputs": [
    {
     "data": {
      "text/plain": [
       "array([' 36 months', ' 60 months'], dtype=object)"
      ]
     },
     "execution_count": 10,
     "metadata": {},
     "output_type": "execute_result"
    }
   ],
   "source": [
    "new_df['term'].unique()"
   ]
  },
  {
   "cell_type": "code",
   "execution_count": 11,
   "metadata": {
    "collapsed": true
   },
   "outputs": [],
   "source": [
    "new_df['term'] = new_df['term'].map({' 36 months':np.int(36),' 60 months':np.int(60)})"
   ]
  },
  {
   "cell_type": "code",
   "execution_count": 12,
   "metadata": {
    "collapsed": true
   },
   "outputs": [],
   "source": [
    "int_cols = ['loan_amnt','funded_amnt','open_acc','total_acc','pub_rec']\n",
    "for col in int_cols:\n",
    "    new_df[col] = new_df[col].astype(int)"
   ]
  },
  {
   "cell_type": "markdown",
   "metadata": {},
   "source": [
    "### Float data types\n",
    "\n",
    "The interest rate column has to be sanitized before conversion to float due to the spaces and percentage symbol."
   ]
  },
  {
   "cell_type": "code",
   "execution_count": 13,
   "metadata": {
    "collapsed": true
   },
   "outputs": [],
   "source": [
    "new_df['int_rate'] = new_df['int_rate'].replace([' ','%'],'',regex = True)"
   ]
  },
  {
   "cell_type": "code",
   "execution_count": 14,
   "metadata": {
    "collapsed": true
   },
   "outputs": [],
   "source": [
    "float_cols = ['int_rate','dti']\n",
    "for col in float_cols:\n",
    "    new_df[col] = new_df[col].astype(float)"
   ]
  },
  {
   "cell_type": "markdown",
   "metadata": {},
   "source": [
    "### Ordered categorical data types\n",
    "\n",
    "Categorical data types are slightly trickier and we will go through them one by one.\n",
    "\n",
    "For the 'grade' variable, the order matters and a grade of A conveys the highest loan quality. The categorical variable is thus ordered as such."
   ]
  },
  {
   "cell_type": "code",
   "execution_count": 15,
   "metadata": {},
   "outputs": [
    {
     "data": {
      "text/plain": [
       "array(['B', 'E', 'A', 'C', 'D', 'G', 'F'], dtype=object)"
      ]
     },
     "execution_count": 15,
     "metadata": {},
     "output_type": "execute_result"
    }
   ],
   "source": [
    "new_df['grade'].unique()"
   ]
  },
  {
   "cell_type": "code",
   "execution_count": 16,
   "metadata": {
    "collapsed": true
   },
   "outputs": [],
   "source": [
    "ordered_grade = ['G','F','E','D','C','B','A']\n",
    "new_df['grade'] = new_df['grade'].astype('category', ordered = True, categories=ordered_grade).cat.codes"
   ]
  },
  {
   "cell_type": "markdown",
   "metadata": {},
   "source": [
    "By the same process, we can convert employment length to an ordinal variable as well since the entire '>1 year' and '10+ years' don't convey the necessary information."
   ]
  },
  {
   "cell_type": "code",
   "execution_count": 17,
   "metadata": {},
   "outputs": [
    {
     "data": {
      "text/plain": [
       "array(['10+ years', '< 1 year', '5 years', '6 years', '3 years', '2 years',\n",
       "       '7 years', '4 years', '1 year', '9 years', '8 years'], dtype=object)"
      ]
     },
     "execution_count": 17,
     "metadata": {},
     "output_type": "execute_result"
    }
   ],
   "source": [
    "new_df['emp_length'].unique()"
   ]
  },
  {
   "cell_type": "code",
   "execution_count": 18,
   "metadata": {
    "collapsed": true
   },
   "outputs": [],
   "source": [
    "ordered_emp = ['< 1 year','1 year','2 years','3 years','4 years',\n",
    "               '5 years', '6 years', '7 years','8 years','9 years',\n",
    "                '10+ years']\n",
    "new_df['emp_length'] = new_df['emp_length'].astype('category', ordered = True, categories=ordered_emp).cat.codes"
   ]
  },
  {
   "cell_type": "code",
   "execution_count": 19,
   "metadata": {},
   "outputs": [
    {
     "data": {
      "text/plain": [
       "array(['MORTGAGE', 'OWN', 'RENT', 'ANY'], dtype=object)"
      ]
     },
     "execution_count": 19,
     "metadata": {},
     "output_type": "execute_result"
    }
   ],
   "source": [
    "new_df['home_ownership'].unique()"
   ]
  },
  {
   "cell_type": "code",
   "execution_count": 20,
   "metadata": {},
   "outputs": [
    {
     "data": {
      "text/plain": [
       "count    9.842400e+04\n",
       "mean     8.163789e+04\n",
       "std      7.906254e+04\n",
       "min      3.300000e+01\n",
       "25%      4.800000e+04\n",
       "50%      6.800000e+04\n",
       "75%      9.800000e+04\n",
       "max      8.365188e+06\n",
       "Name: annual_inc, dtype: float64"
      ]
     },
     "execution_count": 20,
     "metadata": {},
     "output_type": "execute_result"
    }
   ],
   "source": [
    "new_df['annual_inc'] = new_df['annual_inc'].astype(float)\n",
    "new_df['annual_inc'].describe()"
   ]
  },
  {
   "cell_type": "code",
   "execution_count": 21,
   "metadata": {},
   "outputs": [
    {
     "data": {
      "text/plain": [
       "8365188.0"
      ]
     },
     "execution_count": 21,
     "metadata": {},
     "output_type": "execute_result"
    }
   ],
   "source": [
    "new_df['annual_inc'].max()"
   ]
  },
  {
   "cell_type": "markdown",
   "metadata": {},
   "source": [
    "As there are too many unique values in annual income, it is more useful to separate them into categories based on the value band that they fall in. I have used pd.qcut in this case to allocate a bin for each range of values.\n",
    "\n",
    "'qcut' will divide the items such that there are an equal number of items in each bin. Note that there is another method called pd.cut. 'cut' allocates items to bins by the values, regardless of the number of items in each bin. \n",
    "\n",
    "While my initial inclination was to use cut to get a better perspective of the income ranges, it turns out that there were multiple outliers that skewed the data greatly. As seen from the number of items in each bin, using 'cut' provided a balanced view of the income data."
   ]
  },
  {
   "cell_type": "code",
   "execution_count": 22,
   "metadata": {},
   "outputs": [
    {
     "name": "stdout",
     "output_type": "stream",
     "text": [
      "(-8332.155, 1673064.0]    98409\n",
      "(1673064.0, 3346095.0]        9\n",
      "(6692157.0, 8365188.0]        3\n",
      "(3346095.0, 5019126.0]        2\n",
      "(5019126.0, 6692157.0]        1\n",
      "Name: annual_inc, dtype: int64\n"
     ]
    }
   ],
   "source": [
    "income_bins = [1,2,3,4,5]\n",
    "print(pd.cut(new_df['annual_inc'],5).value_counts())"
   ]
  },
  {
   "cell_type": "code",
   "execution_count": 23,
   "metadata": {},
   "outputs": [
    {
     "name": "stdout",
     "output_type": "stream",
     "text": [
      "(44000.0, 60000.0]       22121\n",
      "(32.999, 44000.0]        19739\n",
      "(107000.0, 8365188.0]    19535\n",
      "(78000.0, 107000.0]      19400\n",
      "(60000.0, 78000.0]       17629\n",
      "Name: annual_inc, dtype: int64\n"
     ]
    }
   ],
   "source": [
    "print(pd.qcut(new_df['annual_inc'],5).value_counts())"
   ]
  },
  {
   "cell_type": "code",
   "execution_count": 24,
   "metadata": {},
   "outputs": [
    {
     "data": {
      "text/plain": [
       "1    1\n",
       "2    4\n",
       "3    1\n",
       "4    4\n",
       "5    1\n",
       "Name: income_bins, dtype: int8"
      ]
     },
     "execution_count": 24,
     "metadata": {},
     "output_type": "execute_result"
    }
   ],
   "source": [
    "new_df['income_bins'] = pd.qcut(new_df['annual_inc'],5,income_bins).cat.codes\n",
    "new_df['income_bins'].head()"
   ]
  },
  {
   "cell_type": "code",
   "execution_count": 25,
   "metadata": {},
   "outputs": [
    {
     "data": {
      "text/plain": [
       "array(['Debt consolidation', 'Credit card refinancing', 'Major purchase',\n",
       "       'Home improvement', 'Home buying', 'Other', 'Car financing',\n",
       "       'Business', 'Medical expenses', 'Moving and relocation', 'Vacation',\n",
       "       'Green loan'], dtype=object)"
      ]
     },
     "execution_count": 25,
     "metadata": {},
     "output_type": "execute_result"
    }
   ],
   "source": [
    "new_df['title'].unique()"
   ]
  },
  {
   "cell_type": "code",
   "execution_count": 26,
   "metadata": {},
   "outputs": [
    {
     "data": {
      "text/plain": [
       "array(['MO', 'NC', 'WI', 'NY', 'WV', 'LA', 'TX', 'NJ', 'FL', 'TN', 'GA',\n",
       "       'WA', 'AR', 'IL', 'CA', 'WY', 'MN', 'CO', 'DC', 'PA', 'ME', 'IN',\n",
       "       'MI', 'OR', 'OK', 'UT', 'AL', 'NV', 'AZ', 'CT', 'OH', 'VA', 'HI',\n",
       "       'NM', 'MD', 'MA', 'KY', 'NH', 'ND', 'MS', 'DE', 'SC', 'KS', 'NE',\n",
       "       'AK', 'RI', 'VT', 'MT', 'ID', 'SD'], dtype=object)"
      ]
     },
     "execution_count": 26,
     "metadata": {},
     "output_type": "execute_result"
    }
   ],
   "source": [
    "new_df['addr_state'].unique()"
   ]
  },
  {
   "cell_type": "code",
   "execution_count": 27,
   "metadata": {},
   "outputs": [
    {
     "name": "stdout",
     "output_type": "stream",
     "text": [
      "<class 'pandas.core.frame.DataFrame'>\n",
      "Int64Index: 98424 entries, 1 to 107864\n",
      "Data columns (total 15 columns):\n",
      "loan_amnt         98424 non-null int64\n",
      "funded_amnt       98424 non-null int64\n",
      "term              98424 non-null int64\n",
      "int_rate          98424 non-null float64\n",
      "grade             98424 non-null int8\n",
      "emp_length        98424 non-null int8\n",
      "home_ownership    98424 non-null object\n",
      "annual_inc        98424 non-null float64\n",
      "title             98424 non-null object\n",
      "addr_state        98424 non-null object\n",
      "dti               98424 non-null float64\n",
      "open_acc          98424 non-null int64\n",
      "total_acc         98424 non-null int64\n",
      "pub_rec           98424 non-null int64\n",
      "income_bins       98424 non-null int8\n",
      "dtypes: float64(3), int64(6), int8(3), object(3)\n",
      "memory usage: 10.0+ MB\n"
     ]
    }
   ],
   "source": [
    "new_df.info()"
   ]
  },
  {
   "cell_type": "markdown",
   "metadata": {},
   "source": [
    "## Initial Analysis\n",
    "\n",
    "What does this processed data tell us?\n",
    "\n",
    "### Distributions"
   ]
  },
  {
   "cell_type": "markdown",
   "metadata": {},
   "source": [
    "It seemed like the distributions of loan amounts, interest rates, debt-income-ratio would be interesting to plot. \n",
    "\n",
    "The skewedness and kurtosis for loan amounts and interest rates deviate from that of a normal distribution but are quite low. A low skewedness value indicates that there isn't a drastic difference between the weight of the two tails. The values do not lean towards a particular direction. A low kurtosis value indicates a low combined weight of both tails, indicating a weak presence of outliers."
   ]
  },
  {
   "cell_type": "code",
   "execution_count": 28,
   "metadata": {},
   "outputs": [
    {
     "name": "stdout",
     "output_type": "stream",
     "text": [
      "Skewness: 0.711074\n",
      "Kurtosis: -0.416018\n"
     ]
    },
    {
     "data": {
      "image/png": "[encoded data removed]",
      "text/plain": [
       "<matplotlib.figure.Figure at 0x108d9ccf8>"
      ]
     },
     "metadata": {},
     "output_type": "display_data"
    }
   ],
   "source": [
    "%matplotlib inline\n",
    "sb.distplot(new_df['loan_amnt'])\n",
    "print('Skewness: %f' % new_df['loan_amnt'].skew())\n",
    "print('Kurtosis: %f'% new_df['loan_amnt'].kurt())"
   ]
  },
  {
   "cell_type": "markdown",
   "metadata": {},
   "source": [
    "It is interesting to note the spikes for loan amounts happen in intervals of $5000. Could step-wise pricing strategies be possible given this preference for nice whole numbers?"
   ]
  },
  {
   "cell_type": "code",
   "execution_count": 29,
   "metadata": {},
   "outputs": [
    {
     "name": "stdout",
     "output_type": "stream",
     "text": [
      "Skewness: 0.865625\n",
      "Kurtosis: 0.595596\n"
     ]
    },
    {
     "data": {
      "image/png": "[encoded data removed]",
      "text/plain": [
       "<matplotlib.figure.Figure at 0x1a7f8a3a90>"
      ]
     },
     "metadata": {},
     "output_type": "display_data"
    }
   ],
   "source": [
    "sb.distplot(new_df['int_rate'])\n",
    "print('Skewness: %f' % new_df['int_rate'].skew())\n",
    "print('Kurtosis: %f'% new_df['int_rate'].kurt())"
   ]
  },
  {
   "cell_type": "markdown",
   "metadata": {},
   "source": [
    "There is a noticeable peak for interest rates right under a yield of 10%. This would seem to make sense given that high yielding corporate bonds hover around 7.5% and P2P loans have to justify their risk profile with higher rates."
   ]
  },
  {
   "cell_type": "code",
   "execution_count": 30,
   "metadata": {},
   "outputs": [
    {
     "name": "stdout",
     "output_type": "stream",
     "text": [
      "Skewness: 26.326967\n",
      "Kurtosis: 1247.763865\n"
     ]
    },
    {
     "data": {
      "image/png": "[encoded data removed]",
      "text/plain": [
       "<matplotlib.figure.Figure at 0x1a74a65f98>"
      ]
     },
     "metadata": {},
     "output_type": "display_data"
    }
   ],
   "source": [
    "sb.distplot(new_df['dti'])\n",
    "print('Skewness: %f' % new_df['dti'].skew())\n",
    "print('Kurtosis: %f'% new_df['dti'].kurt())"
   ]
  },
  {
   "cell_type": "code",
   "execution_count": 31,
   "metadata": {},
   "outputs": [
    {
     "data": {
      "text/plain": [
       "count    98424.000000\n",
       "mean        19.149704\n",
       "std         18.011049\n",
       "min          0.000000\n",
       "25%         11.200000\n",
       "50%         17.520000\n",
       "75%         24.760000\n",
       "max        999.000000\n",
       "Name: dti, dtype: float64"
      ]
     },
     "execution_count": 31,
     "metadata": {},
     "output_type": "execute_result"
    }
   ],
   "source": [
    "new_df['dti'].describe()"
   ]
  },
  {
   "cell_type": "markdown",
   "metadata": {},
   "source": [
    "The distribution for debt-to-income ratio is remarkably skewed, with very heavy tails. It would be interesting to examine individual outlier cases for how loans were granted to such risky individuals."
   ]
  },
  {
   "cell_type": "markdown",
   "metadata": {},
   "source": [
    "### Correlations"
   ]
  },
  {
   "cell_type": "code",
   "execution_count": 32,
   "metadata": {},
   "outputs": [
    {
     "data": {
      "text/plain": [
       "<matplotlib.axes._subplots.AxesSubplot at 0x1a74b07278>"
      ]
     },
     "execution_count": 32,
     "metadata": {},
     "output_type": "execute_result"
    },
    {
     "data": {
      "image/png": "[encoded data removed]",
      "text/plain": [
       "<matplotlib.figure.Figure at 0x1a6bd7d4a8>"
      ]
     },
     "metadata": {},
     "output_type": "display_data"
    }
   ],
   "source": [
    "%matplotlib inline\n",
    "sb.heatmap(new_df.corr())"
   ]
  },
  {
   "cell_type": "markdown",
   "metadata": {},
   "source": [
    "Judging by the correlation matrix, it would seem that the ordered category types have been processed correctly. Most notably, there is a heavy negative correlation between the interest rate and grade of an individual loan. This would make sense as the lower the grade of the loan, the higher the interest rate necessary to justify the increased risk."
   ]
  },
  {
   "cell_type": "markdown",
   "metadata": {},
   "source": [
    "### Home Ownership and Home-Related Lending\n",
    "\n"
   ]
  },
  {
   "cell_type": "code",
   "execution_count": 33,
   "metadata": {},
   "outputs": [
    {
     "data": {
      "text/plain": [
       "array(['Debt consolidation', 'Credit card refinancing', 'Major purchase',\n",
       "       'Home improvement', 'Home buying', 'Other', 'Car financing',\n",
       "       'Business', 'Medical expenses', 'Moving and relocation', 'Vacation',\n",
       "       'Green loan'], dtype=object)"
      ]
     },
     "execution_count": 33,
     "metadata": {},
     "output_type": "execute_result"
    }
   ],
   "source": [
    "new_df['title'].unique()"
   ]
  },
  {
   "cell_type": "code",
   "execution_count": 34,
   "metadata": {},
   "outputs": [
    {
     "data": {
      "text/plain": [
       "array(['MORTGAGE', 'OWN', 'RENT', 'ANY'], dtype=object)"
      ]
     },
     "execution_count": 34,
     "metadata": {},
     "output_type": "execute_result"
    }
   ],
   "source": [
    "new_df['home_ownership'].unique()"
   ]
  },
  {
   "cell_type": "code",
   "execution_count": 35,
   "metadata": {},
   "outputs": [
    {
     "data": {
      "text/plain": [
       "<matplotlib.axes._subplots.AxesSubplot at 0x1a73985908>"
      ]
     },
     "execution_count": 35,
     "metadata": {},
     "output_type": "execute_result"
    },
    {
     "data": {
      "image/png": "[encoded data removed]",
      "text/plain": [
       "<matplotlib.figure.Figure at 0x1a73bcf2b0>"
      ]
     },
     "metadata": {},
     "output_type": "display_data"
    }
   ],
   "source": [
    "housing_titles = ['Home buying', 'Home improvement', 'Moving and relocation']\n",
    "housing_df = new_df.loc[new_df['title'].isin(housing_titles)]\n",
    "%matplotlib inline\n",
    "sb.countplot(data=housing_df, x = 'home_ownership', hue = 'title')"
   ]
  },
  {
   "cell_type": "markdown",
   "metadata": {},
   "source": [
    "Looking at the types of loans, there were specific home-related loan types that stood out. Given that there was information on the home ownership status of borrowers, I created a new dataframe with home specific loans to look for interesting trends.\n",
    "\n",
    "At first glance, there is an overwhelming number of borrowers with mortgages that are taking out loans for home improvement, almost 5X that of home owners and renters. They are also the group with the most number of loans taken out for the purposes of buying a home.\n",
    "\n",
    "Do home owners that take out mortgages just really like repainting houses and installing chandeliers? One explanation could be that these home improvements are not for themselves but for increasing property values before they flip it. These fix and flip operations are not new and there are in-depth reports of this phenomenon at Attom. It would make sense for such temporary home owners to frequent P2P lenders for home improvement loans. A public dataset for home flipping activity across states would have made for a more insightful look at the borrower composition of this P2P loan.\n",
    "\n",
    "Another interesting observation was that of 'Moving and relocation' loans for renters. While the number of such loans are close to negligible for the other groups, home renters would have more need for such loans due to the short term nature of their living arrangements."
   ]
  },
  {
   "cell_type": "markdown",
   "metadata": {},
   "source": [
    "### Loan Grades Across Different Loan Types"
   ]
  },
  {
   "cell_type": "code",
   "execution_count": 36,
   "metadata": {},
   "outputs": [
    {
     "data": {
      "text/plain": [
       "<matplotlib.axes._subplots.AxesSubplot at 0x1a7f567c88>"
      ]
     },
     "execution_count": 36,
     "metadata": {},
     "output_type": "execute_result"
    },
    {
     "data": {
      "image/png": "[encoded data removed]",
      "text/plain": [
       "<matplotlib.figure.Figure at 0x1a74ada048>"
      ]
     },
     "metadata": {},
     "output_type": "display_data"
    }
   ],
   "source": [
    "%matplotlib inline\n",
    "plt.figure(figsize=(25,10))\n",
    "sb.countplot(data=new_df, x='title', hue='grade')"
   ]
  },
  {
   "cell_type": "markdown",
   "metadata": {},
   "source": [
    "### Number of Loans Across States\n",
    "\n",
    "A plot of both the number of loans and the total P2P loan amount show that California has a voracious appetite for this form of credit. It took out around 40% more P2P loans than Texas, the next state on the list. There are a few explanations to this massive gap.\n",
    "\n",
    "There are reports such as the one from smartasset that show that richer states generally have a propensity to take on more debt. California has the highest debt-to-income ratio across states that is also evident in our dataset. \n",
    "\n",
    "Furthermore, California is one of the most technologically adept states in the US and would likely have had more exposure to alternative financing solutions such as P2P lending platforms. Indeed, the top states for total P2P loans comprise of two of the top existing Fintech ecosystems (CA, NY), and two of the fastest growing Fintech hubs (TX, FL)."
   ]
  },
  {
   "cell_type": "code",
   "execution_count": 144,
   "metadata": {},
   "outputs": [
    {
     "name": "stdout",
     "output_type": "stream",
     "text": [
      "Index(['CA', 'TX', 'NY', 'FL', 'IL', 'NJ', 'GA', 'OH', 'PA', 'NC', 'VA', 'MI',\n",
      "       'MD', 'CO', 'AZ', 'MA', 'WA', 'IN', 'MN', 'TN', 'CT', 'MO', 'NV', 'WI',\n",
      "       'SC', 'OR', 'AL', 'LA', 'KY', 'OK', 'KS', 'AR', 'UT', 'MS', 'WV', 'NE',\n",
      "       'NH', 'NM', 'RI', 'HI', 'ID', 'MT', 'ME', 'DE', 'AK', 'VT', 'WY', 'ND',\n",
      "       'SD', 'DC'],\n",
      "      dtype='object')\n",
      "8299\n"
     ]
    }
   ],
   "source": [
    "loans_no = new_df['addr_state'].value_counts()\n",
    "print(loans_no.keys())\n",
    "print(loans_no['TX'])"
   ]
  },
  {
   "cell_type": "code",
   "execution_count": 38,
   "metadata": {
    "scrolled": false
   },
   "outputs": [
    {
     "data": {
      "text/plain": [
       "<matplotlib.axes._subplots.AxesSubplot at 0x1a7f626be0>"
      ]
     },
     "execution_count": 38,
     "metadata": {},
     "output_type": "execute_result"
    },
    {
     "data": {
      "image/png": "[encoded data removed]",
      "text/plain": [
       "<matplotlib.figure.Figure at 0x1a7f626f60>"
      ]
     },
     "metadata": {},
     "output_type": "display_data"
    }
   ],
   "source": [
    "%matplotlib inline\n",
    "plt.figure(figsize=(20,10))\n",
    "sb.countplot(data=new_df, x='addr_state', order = new_df['addr_state'].value_counts().index)"
   ]
  },
  {
   "cell_type": "code",
   "execution_count": 135,
   "metadata": {},
   "outputs": [
    {
     "data": {
      "text/html": [
       "<iframe id=\"igraph\" scrolling=\"no\" style=\"border:none;\" seamless=\"seamless\" src=\"https://plot.ly/~FinnQiao/4.embed\" height=\"525px\" width=\"100%\"></iframe>"
      ],
      "text/plain": [
       "<plotly.tools.PlotlyDisplay object>"
      ]
     },
     "execution_count": 135,
     "metadata": {},
     "output_type": "execute_result"
    }
   ],
   "source": [
    "import plotly.plotly as py\n",
    "\n",
    "scl = [[0.0, 'FDF5EE'],[0.1, 'FBEBDE'],[0.2, 'FAE2CD'],[0.3, 'F8D8BD'],[0.4, 'F7CFAD'],[0.5, 'F5C59C'],[0.6, 'F4BC8C'],[0.7, 'F2B27C'],[0.8, 'F1A96B'],[0.9, 'EF9F5B'],[1.0, 'EE964B']]\n",
    "\n",
    "data = [ dict(\n",
    "        type='choropleth',\n",
    "        colorscale = scl,\n",
    "        autocolorscale = False,\n",
    "        locations = loans_no.keys(),\n",
    "        z = loans_no,\n",
    "        locationmode = 'USA-states',\n",
    "        text = loans_no.astype('str'),\n",
    "        marker = dict(\n",
    "            line = dict (\n",
    "                color = 'rgb(255,255,255)',\n",
    "                width = 2\n",
    "            ) ),\n",
    "        colorbar = dict(\n",
    "            title = \"No. of Loans\")\n",
    "        ) ]\n",
    "\n",
    "layout = dict(\n",
    "        title = '2018Q1 Total P2P Loans by State',\n",
    "        geo = dict(\n",
    "            scope='usa',\n",
    "            projection=dict( type='albers usa' ),\n",
    "            showlakes = True,\n",
    "            lakecolor = 'rgb(255, 255, 255)'),\n",
    "             )\n",
    "    \n",
    "fig = dict( data=data, layout=layout )\n",
    "py.iplot( fig, filename='d3-cloropleth-map' )"
   ]
  },
  {
   "cell_type": "markdown",
   "metadata": {},
   "source": [
    "### Home Loan Dataframe"
   ]
  },
  {
   "cell_type": "code",
   "execution_count": 40,
   "metadata": {
    "collapsed": true
   },
   "outputs": [],
   "source": [
    "home_buying = new_df[new_df['title'] == 'Home buying'].groupby('addr_state').count()['title']\n",
    "home_improvement = new_df[new_df['title'] == 'Home improvement'].groupby('addr_state').count()['title']\n",
    "moving = new_df[new_df['title'] == 'Moving and relocation'].groupby('addr_state').count()['title']\n",
    "moving['AK'] = 0\n",
    "moving['ME'] = 0\n",
    "home_related_loans = home_buying + home_improvement + moving"
   ]
  },
  {
   "cell_type": "code",
   "execution_count": 41,
   "metadata": {
    "collapsed": true
   },
   "outputs": [],
   "source": [
    "home_df = pd.DataFrame({'home_buying': home_buying,'home_improvement': home_improvement, 'moving':moving, 'home_related_loans':home_related_loans})"
   ]
  },
  {
   "cell_type": "code",
   "execution_count": 42,
   "metadata": {},
   "outputs": [
    {
     "data": {
      "text/html": [
       "<div>\n",
       "<style>\n",
       "    .dataframe thead tr:only-child th {\n",
       "        text-align: right;\n",
       "    }\n",
       "\n",
       "    .dataframe thead th {\n",
       "        text-align: left;\n",
       "    }\n",
       "\n",
       "    .dataframe tbody tr th {\n",
       "        vertical-align: top;\n",
       "    }\n",
       "</style>\n",
       "<table border=\"1\" class=\"dataframe\">\n",
       "  <thead>\n",
       "    <tr style=\"text-align: right;\">\n",
       "      <th></th>\n",
       "      <th>home_buying</th>\n",
       "      <th>home_improvement</th>\n",
       "      <th>home_related_loans</th>\n",
       "      <th>moving</th>\n",
       "    </tr>\n",
       "  </thead>\n",
       "  <tbody>\n",
       "    <tr>\n",
       "      <th>AK</th>\n",
       "      <td>4</td>\n",
       "      <td>13</td>\n",
       "      <td>17</td>\n",
       "      <td>0</td>\n",
       "    </tr>\n",
       "    <tr>\n",
       "      <th>AL</th>\n",
       "      <td>19</td>\n",
       "      <td>92</td>\n",
       "      <td>116</td>\n",
       "      <td>5</td>\n",
       "    </tr>\n",
       "    <tr>\n",
       "      <th>AR</th>\n",
       "      <td>10</td>\n",
       "      <td>48</td>\n",
       "      <td>61</td>\n",
       "      <td>3</td>\n",
       "    </tr>\n",
       "    <tr>\n",
       "      <th>AZ</th>\n",
       "      <td>33</td>\n",
       "      <td>185</td>\n",
       "      <td>239</td>\n",
       "      <td>21</td>\n",
       "    </tr>\n",
       "    <tr>\n",
       "      <th>CA</th>\n",
       "      <td>146</td>\n",
       "      <td>774</td>\n",
       "      <td>1014</td>\n",
       "      <td>94</td>\n",
       "    </tr>\n",
       "  </tbody>\n",
       "</table>\n",
       "</div>"
      ],
      "text/plain": [
       "    home_buying  home_improvement  home_related_loans  moving\n",
       "AK            4                13                  17       0\n",
       "AL           19                92                 116       5\n",
       "AR           10                48                  61       3\n",
       "AZ           33               185                 239      21\n",
       "CA          146               774                1014      94"
      ]
     },
     "execution_count": 42,
     "metadata": {},
     "output_type": "execute_result"
    }
   ],
   "source": [
    "home_df.head()"
   ]
  },
  {
   "cell_type": "markdown",
   "metadata": {},
   "source": [
    "### Total Loan Amounts Across States"
   ]
  },
  {
   "cell_type": "code",
   "execution_count": 94,
   "metadata": {},
   "outputs": [
    {
     "data": {
      "text/plain": [
       "Index(['Business', 'Car financing', 'Credit card refinancing',\n",
       "       'Debt consolidation', 'Green loan', 'Home buying', 'Home improvement',\n",
       "       'Major purchase', 'Medical expenses', 'Moving and relocation', 'Other',\n",
       "       'Vacation'],\n",
       "      dtype='object', name='title')"
      ]
     },
     "execution_count": 94,
     "metadata": {},
     "output_type": "execute_result"
    }
   ],
   "source": [
    "loan_amounts = new_df.groupby('title')['loan_amnt'].sum()\n",
    "loan_amounts.index"
   ]
  },
  {
   "cell_type": "code",
   "execution_count": 114,
   "metadata": {},
   "outputs": [
    {
     "data": {
      "text/plain": [
       "<matplotlib.axes._subplots.AxesSubplot at 0x1a808ee0f0>"
      ]
     },
     "execution_count": 114,
     "metadata": {},
     "output_type": "execute_result"
    },
    {
     "data": {
      "image/png": "[encoded data removed]",
      "text/plain": [
       "<matplotlib.figure.Figure at 0x1c8709c6d8>"
      ]
     },
     "metadata": {},
     "output_type": "display_data"
    }
   ],
   "source": [
    "amounts = pd.DataFrame(loan_amounts)\n",
    "amounts = amounts.sort_values(['loan_amnt'], ascending=False)\n",
    "%matplotlib inline\n",
    "plt.figure(figsize=(25,10))\n",
    "sb.barplot(data = amounts, x=amounts.index, y = 'loan_amnt')"
   ]
  },
  {
   "cell_type": "code",
   "execution_count": 118,
   "metadata": {},
   "outputs": [
    {
     "data": {
      "text/plain": [
       "<matplotlib.axes._subplots.AxesSubplot at 0x1c85a20898>"
      ]
     },
     "execution_count": 118,
     "metadata": {},
     "output_type": "execute_result"
    },
    {
     "data": {
      "image/png": "[encoded data removed]",
      "text/plain": [
       "<matplotlib.figure.Figure at 0x1c8709c5c0>"
      ]
     },
     "metadata": {},
     "output_type": "display_data"
    }
   ],
   "source": [
    "state_amounts = new_df.groupby('addr_state')['loan_amnt'].sum()\n",
    "state_amounts_df = pd.DataFrame(state_amounts)\n",
    "state_amounts_df = state_amounts_df.sort_values('loan_amnt', ascending = False)\n",
    "\n",
    "%matplotlib inline\n",
    "plt.figure(figsize = (25,10))\n",
    "sb.barplot(data = state_amounts_df, x = state_amounts_df.index, y = 'loan_amnt')"
   ]
  },
  {
   "cell_type": "code",
   "execution_count": 134,
   "metadata": {},
   "outputs": [
    {
     "name": "stdout",
     "output_type": "stream",
     "text": [
      "addr_state\n",
      "AK      5321050\n",
      "AL     17513275\n",
      "AR     10708600\n",
      "AZ     36222500\n",
      "CA    229164825\n",
      "CO     38389625\n",
      "CT     26634875\n",
      "DC      3275050\n",
      "DE      4356925\n",
      "FL    113894625\n",
      "GA     54423075\n",
      "HI      6682575\n",
      "ID      5306975\n",
      "IL     65857525\n",
      "IN     27588025\n",
      "KS     12582875\n",
      "KY     13881950\n",
      "LA     15701325\n",
      "MA     37262100\n",
      "MD     41414400\n",
      "ME      4685950\n",
      "MI     39447500\n",
      "MN     28162950\n",
      "MO     24946675\n",
      "MS     10252575\n",
      "MT      4471725\n",
      "NC     44328075\n",
      "ND      3874600\n",
      "NE      7205350\n",
      "NH      7998450\n",
      "NJ     60210725\n",
      "NM      7421950\n",
      "NV     23141600\n",
      "NY    128391875\n",
      "OH     49134975\n",
      "OK     14925475\n",
      "OR     18761150\n",
      "PA     48736350\n",
      "RI      6152600\n",
      "SC     21149800\n",
      "SD      3235250\n",
      "TN     26138775\n",
      "TX    140985075\n",
      "UT     10428850\n",
      "VA     45636775\n",
      "VT      3635550\n",
      "WA     35534400\n",
      "WI     20618925\n",
      "WV      9437425\n",
      "WY      3494025\n",
      "Name: loan_amnt, dtype: int64\n"
     ]
    }
   ],
   "source": [
    "type(loans_no) == type(state_amounts)\n",
    "print(state_amounts)"
   ]
  },
  {
   "cell_type": "code",
   "execution_count": 138,
   "metadata": {},
   "outputs": [
    {
     "ename": "TypeError",
     "evalue": "Object of type 'method' is not JSON serializable",
     "output_type": "error",
     "traceback": [
      "\u001b[0;31m---------------------------------------------------------------------------\u001b[0m",
      "\u001b[0;31mTypeError\u001b[0m                                 Traceback (most recent call last)",
      "\u001b[0;32m<ipython-input-138-93b7949487c2>\u001b[0m in \u001b[0;36m<module>\u001b[0;34m()\u001b[0m\n\u001b[1;32m     28\u001b[0m \u001b[0;34m\u001b[0m\u001b[0m\n\u001b[1;32m     29\u001b[0m \u001b[0mfig\u001b[0m \u001b[0;34m=\u001b[0m \u001b[0mdict\u001b[0m\u001b[0;34m(\u001b[0m \u001b[0mdata\u001b[0m\u001b[0;34m=\u001b[0m\u001b[0mdata\u001b[0m\u001b[0;34m,\u001b[0m \u001b[0mlayout\u001b[0m\u001b[0;34m=\u001b[0m\u001b[0mlayout\u001b[0m \u001b[0;34m)\u001b[0m\u001b[0;34m\u001b[0m\u001b[0m\n\u001b[0;32m---> 30\u001b[0;31m \u001b[0mpy\u001b[0m\u001b[0;34m.\u001b[0m\u001b[0miplot\u001b[0m\u001b[0;34m(\u001b[0m \u001b[0mfig\u001b[0m\u001b[0;34m,\u001b[0m \u001b[0mfilename\u001b[0m\u001b[0;34m=\u001b[0m\u001b[0;34m'd3-cloropleth-map'\u001b[0m \u001b[0;34m)\u001b[0m\u001b[0;34m\u001b[0m\u001b[0m\n\u001b[0m",
      "\u001b[0;32m/Applications/anaconda3/lib/python3.6/site-packages/plotly/plotly/plotly.py\u001b[0m in \u001b[0;36miplot\u001b[0;34m(figure_or_data, **plot_options)\u001b[0m\n\u001b[1;32m    138\u001b[0m     \u001b[0;32mif\u001b[0m \u001b[0;34m'auto_open'\u001b[0m \u001b[0;32mnot\u001b[0m \u001b[0;32min\u001b[0m \u001b[0mplot_options\u001b[0m\u001b[0;34m:\u001b[0m\u001b[0;34m\u001b[0m\u001b[0m\n\u001b[1;32m    139\u001b[0m         \u001b[0mplot_options\u001b[0m\u001b[0;34m[\u001b[0m\u001b[0;34m'auto_open'\u001b[0m\u001b[0;34m]\u001b[0m \u001b[0;34m=\u001b[0m \u001b[0;32mFalse\u001b[0m\u001b[0;34m\u001b[0m\u001b[0m\n\u001b[0;32m--> 140\u001b[0;31m     \u001b[0murl\u001b[0m \u001b[0;34m=\u001b[0m \u001b[0mplot\u001b[0m\u001b[0;34m(\u001b[0m\u001b[0mfigure_or_data\u001b[0m\u001b[0;34m,\u001b[0m \u001b[0;34m**\u001b[0m\u001b[0mplot_options\u001b[0m\u001b[0;34m)\u001b[0m\u001b[0;34m\u001b[0m\u001b[0m\n\u001b[0m\u001b[1;32m    141\u001b[0m \u001b[0;34m\u001b[0m\u001b[0m\n\u001b[1;32m    142\u001b[0m     \u001b[0;32mif\u001b[0m \u001b[0misinstance\u001b[0m\u001b[0;34m(\u001b[0m\u001b[0mfigure_or_data\u001b[0m\u001b[0;34m,\u001b[0m \u001b[0mdict\u001b[0m\u001b[0;34m)\u001b[0m\u001b[0;34m:\u001b[0m\u001b[0;34m\u001b[0m\u001b[0m\n",
      "\u001b[0;32m/Applications/anaconda3/lib/python3.6/site-packages/plotly/plotly/plotly.py\u001b[0m in \u001b[0;36mplot\u001b[0;34m(figure_or_data, validate, **plot_options)\u001b[0m\n\u001b[1;32m    231\u001b[0m     \u001b[0mdata\u001b[0m \u001b[0;34m=\u001b[0m \u001b[0mfig\u001b[0m\u001b[0;34m.\u001b[0m\u001b[0mget\u001b[0m\u001b[0;34m(\u001b[0m\u001b[0;34m'data'\u001b[0m\u001b[0;34m,\u001b[0m \u001b[0;34m[\u001b[0m\u001b[0;34m]\u001b[0m\u001b[0;34m)\u001b[0m\u001b[0;34m\u001b[0m\u001b[0m\n\u001b[1;32m    232\u001b[0m     \u001b[0mplot_options\u001b[0m\u001b[0;34m[\u001b[0m\u001b[0;34m'layout'\u001b[0m\u001b[0;34m]\u001b[0m \u001b[0;34m=\u001b[0m \u001b[0mfig\u001b[0m\u001b[0;34m.\u001b[0m\u001b[0mget\u001b[0m\u001b[0;34m(\u001b[0m\u001b[0;34m'layout'\u001b[0m\u001b[0;34m,\u001b[0m \u001b[0;34m{\u001b[0m\u001b[0;34m}\u001b[0m\u001b[0;34m)\u001b[0m\u001b[0;34m\u001b[0m\u001b[0m\n\u001b[0;32m--> 233\u001b[0;31m     \u001b[0mresponse\u001b[0m \u001b[0;34m=\u001b[0m \u001b[0mv1\u001b[0m\u001b[0;34m.\u001b[0m\u001b[0mclientresp\u001b[0m\u001b[0;34m(\u001b[0m\u001b[0mdata\u001b[0m\u001b[0;34m,\u001b[0m \u001b[0;34m**\u001b[0m\u001b[0mplot_options\u001b[0m\u001b[0;34m)\u001b[0m\u001b[0;34m\u001b[0m\u001b[0m\n\u001b[0m\u001b[1;32m    234\u001b[0m \u001b[0;34m\u001b[0m\u001b[0m\n\u001b[1;32m    235\u001b[0m     \u001b[0;31m# Check if the url needs a secret key\u001b[0m\u001b[0;34m\u001b[0m\u001b[0;34m\u001b[0m\u001b[0m\n",
      "\u001b[0;32m/Applications/anaconda3/lib/python3.6/site-packages/plotly/api/v1/clientresp.py\u001b[0m in \u001b[0;36mclientresp\u001b[0;34m(data, **kwargs)\u001b[0m\n\u001b[1;32m     27\u001b[0m     payload = {\n\u001b[1;32m     28\u001b[0m         \u001b[0;34m'platform'\u001b[0m\u001b[0;34m:\u001b[0m \u001b[0;34m'python'\u001b[0m\u001b[0;34m,\u001b[0m \u001b[0;34m'version'\u001b[0m\u001b[0;34m:\u001b[0m \u001b[0mversion\u001b[0m\u001b[0;34m.\u001b[0m\u001b[0m__version__\u001b[0m\u001b[0;34m,\u001b[0m\u001b[0;34m\u001b[0m\u001b[0m\n\u001b[0;32m---> 29\u001b[0;31m         \u001b[0;34m'args'\u001b[0m\u001b[0;34m:\u001b[0m \u001b[0m_json\u001b[0m\u001b[0;34m.\u001b[0m\u001b[0mdumps\u001b[0m\u001b[0;34m(\u001b[0m\u001b[0mdata\u001b[0m\u001b[0;34m,\u001b[0m \u001b[0;34m**\u001b[0m\u001b[0mdumps_kwargs\u001b[0m\u001b[0;34m)\u001b[0m\u001b[0;34m,\u001b[0m\u001b[0;34m\u001b[0m\u001b[0m\n\u001b[0m\u001b[1;32m     30\u001b[0m         \u001b[0;34m'un'\u001b[0m\u001b[0;34m:\u001b[0m \u001b[0mcreds\u001b[0m\u001b[0;34m[\u001b[0m\u001b[0;34m'username'\u001b[0m\u001b[0;34m]\u001b[0m\u001b[0;34m,\u001b[0m \u001b[0;34m'key'\u001b[0m\u001b[0;34m:\u001b[0m \u001b[0mcreds\u001b[0m\u001b[0;34m[\u001b[0m\u001b[0;34m'api_key'\u001b[0m\u001b[0;34m]\u001b[0m\u001b[0;34m,\u001b[0m \u001b[0;34m'origin'\u001b[0m\u001b[0;34m:\u001b[0m \u001b[0;34m'plot'\u001b[0m\u001b[0;34m,\u001b[0m\u001b[0;34m\u001b[0m\u001b[0m\n\u001b[1;32m     31\u001b[0m         \u001b[0;34m'kwargs'\u001b[0m\u001b[0;34m:\u001b[0m \u001b[0m_json\u001b[0m\u001b[0;34m.\u001b[0m\u001b[0mdumps\u001b[0m\u001b[0;34m(\u001b[0m\u001b[0mkwargs\u001b[0m\u001b[0;34m,\u001b[0m \u001b[0;34m**\u001b[0m\u001b[0mdumps_kwargs\u001b[0m\u001b[0;34m)\u001b[0m\u001b[0;34m\u001b[0m\u001b[0m\n",
      "\u001b[0;32m/Applications/anaconda3/lib/python3.6/json/__init__.py\u001b[0m in \u001b[0;36mdumps\u001b[0;34m(obj, skipkeys, ensure_ascii, check_circular, allow_nan, cls, indent, separators, default, sort_keys, **kw)\u001b[0m\n\u001b[1;32m    236\u001b[0m         \u001b[0mcheck_circular\u001b[0m\u001b[0;34m=\u001b[0m\u001b[0mcheck_circular\u001b[0m\u001b[0;34m,\u001b[0m \u001b[0mallow_nan\u001b[0m\u001b[0;34m=\u001b[0m\u001b[0mallow_nan\u001b[0m\u001b[0;34m,\u001b[0m \u001b[0mindent\u001b[0m\u001b[0;34m=\u001b[0m\u001b[0mindent\u001b[0m\u001b[0;34m,\u001b[0m\u001b[0;34m\u001b[0m\u001b[0m\n\u001b[1;32m    237\u001b[0m         \u001b[0mseparators\u001b[0m\u001b[0;34m=\u001b[0m\u001b[0mseparators\u001b[0m\u001b[0;34m,\u001b[0m \u001b[0mdefault\u001b[0m\u001b[0;34m=\u001b[0m\u001b[0mdefault\u001b[0m\u001b[0;34m,\u001b[0m \u001b[0msort_keys\u001b[0m\u001b[0;34m=\u001b[0m\u001b[0msort_keys\u001b[0m\u001b[0;34m,\u001b[0m\u001b[0;34m\u001b[0m\u001b[0m\n\u001b[0;32m--> 238\u001b[0;31m         **kw).encode(obj)\n\u001b[0m\u001b[1;32m    239\u001b[0m \u001b[0;34m\u001b[0m\u001b[0m\n\u001b[1;32m    240\u001b[0m \u001b[0;34m\u001b[0m\u001b[0m\n",
      "\u001b[0;32m/Applications/anaconda3/lib/python3.6/site-packages/plotly/utils.py\u001b[0m in \u001b[0;36mencode\u001b[0;34m(self, o)\u001b[0m\n\u001b[1;32m    134\u001b[0m \u001b[0;34m\u001b[0m\u001b[0m\n\u001b[1;32m    135\u001b[0m         \u001b[0;31m# this will raise errors in a normal-expected way\u001b[0m\u001b[0;34m\u001b[0m\u001b[0;34m\u001b[0m\u001b[0m\n\u001b[0;32m--> 136\u001b[0;31m         \u001b[0mencoded_o\u001b[0m \u001b[0;34m=\u001b[0m \u001b[0msuper\u001b[0m\u001b[0;34m(\u001b[0m\u001b[0mPlotlyJSONEncoder\u001b[0m\u001b[0;34m,\u001b[0m \u001b[0mself\u001b[0m\u001b[0;34m)\u001b[0m\u001b[0;34m.\u001b[0m\u001b[0mencode\u001b[0m\u001b[0;34m(\u001b[0m\u001b[0mo\u001b[0m\u001b[0;34m)\u001b[0m\u001b[0;34m\u001b[0m\u001b[0m\n\u001b[0m\u001b[1;32m    137\u001b[0m \u001b[0;34m\u001b[0m\u001b[0m\n\u001b[1;32m    138\u001b[0m         \u001b[0;31m# now:\u001b[0m\u001b[0;34m\u001b[0m\u001b[0;34m\u001b[0m\u001b[0m\n",
      "\u001b[0;32m/Applications/anaconda3/lib/python3.6/json/encoder.py\u001b[0m in \u001b[0;36mencode\u001b[0;34m(self, o)\u001b[0m\n\u001b[1;32m    197\u001b[0m         \u001b[0;31m# exceptions aren't as detailed.  The list call should be roughly\u001b[0m\u001b[0;34m\u001b[0m\u001b[0;34m\u001b[0m\u001b[0m\n\u001b[1;32m    198\u001b[0m         \u001b[0;31m# equivalent to the PySequence_Fast that ''.join() would do.\u001b[0m\u001b[0;34m\u001b[0m\u001b[0;34m\u001b[0m\u001b[0m\n\u001b[0;32m--> 199\u001b[0;31m         \u001b[0mchunks\u001b[0m \u001b[0;34m=\u001b[0m \u001b[0mself\u001b[0m\u001b[0;34m.\u001b[0m\u001b[0miterencode\u001b[0m\u001b[0;34m(\u001b[0m\u001b[0mo\u001b[0m\u001b[0;34m,\u001b[0m \u001b[0m_one_shot\u001b[0m\u001b[0;34m=\u001b[0m\u001b[0;32mTrue\u001b[0m\u001b[0;34m)\u001b[0m\u001b[0;34m\u001b[0m\u001b[0m\n\u001b[0m\u001b[1;32m    200\u001b[0m         \u001b[0;32mif\u001b[0m \u001b[0;32mnot\u001b[0m \u001b[0misinstance\u001b[0m\u001b[0;34m(\u001b[0m\u001b[0mchunks\u001b[0m\u001b[0;34m,\u001b[0m \u001b[0;34m(\u001b[0m\u001b[0mlist\u001b[0m\u001b[0;34m,\u001b[0m \u001b[0mtuple\u001b[0m\u001b[0;34m)\u001b[0m\u001b[0;34m)\u001b[0m\u001b[0;34m:\u001b[0m\u001b[0;34m\u001b[0m\u001b[0m\n\u001b[1;32m    201\u001b[0m             \u001b[0mchunks\u001b[0m \u001b[0;34m=\u001b[0m \u001b[0mlist\u001b[0m\u001b[0;34m(\u001b[0m\u001b[0mchunks\u001b[0m\u001b[0;34m)\u001b[0m\u001b[0;34m\u001b[0m\u001b[0m\n",
      "\u001b[0;32m/Applications/anaconda3/lib/python3.6/json/encoder.py\u001b[0m in \u001b[0;36miterencode\u001b[0;34m(self, o, _one_shot)\u001b[0m\n\u001b[1;32m    255\u001b[0m                 \u001b[0mself\u001b[0m\u001b[0;34m.\u001b[0m\u001b[0mkey_separator\u001b[0m\u001b[0;34m,\u001b[0m \u001b[0mself\u001b[0m\u001b[0;34m.\u001b[0m\u001b[0mitem_separator\u001b[0m\u001b[0;34m,\u001b[0m \u001b[0mself\u001b[0m\u001b[0;34m.\u001b[0m\u001b[0msort_keys\u001b[0m\u001b[0;34m,\u001b[0m\u001b[0;34m\u001b[0m\u001b[0m\n\u001b[1;32m    256\u001b[0m                 self.skipkeys, _one_shot)\n\u001b[0;32m--> 257\u001b[0;31m         \u001b[0;32mreturn\u001b[0m \u001b[0m_iterencode\u001b[0m\u001b[0;34m(\u001b[0m\u001b[0mo\u001b[0m\u001b[0;34m,\u001b[0m \u001b[0;36m0\u001b[0m\u001b[0;34m)\u001b[0m\u001b[0;34m\u001b[0m\u001b[0m\n\u001b[0m\u001b[1;32m    258\u001b[0m \u001b[0;34m\u001b[0m\u001b[0m\n\u001b[1;32m    259\u001b[0m def _make_iterencode(markers, _default, _encoder, _indent, _floatstr,\n",
      "\u001b[0;32m/Applications/anaconda3/lib/python3.6/site-packages/plotly/utils.py\u001b[0m in \u001b[0;36mdefault\u001b[0;34m(self, obj)\u001b[0m\n\u001b[1;32m    202\u001b[0m             \u001b[0;32mexcept\u001b[0m \u001b[0mNotEncodable\u001b[0m\u001b[0;34m:\u001b[0m\u001b[0;34m\u001b[0m\u001b[0m\n\u001b[1;32m    203\u001b[0m                 \u001b[0;32mpass\u001b[0m\u001b[0;34m\u001b[0m\u001b[0m\n\u001b[0;32m--> 204\u001b[0;31m         \u001b[0;32mreturn\u001b[0m \u001b[0m_json\u001b[0m\u001b[0;34m.\u001b[0m\u001b[0mJSONEncoder\u001b[0m\u001b[0;34m.\u001b[0m\u001b[0mdefault\u001b[0m\u001b[0;34m(\u001b[0m\u001b[0mself\u001b[0m\u001b[0;34m,\u001b[0m \u001b[0mobj\u001b[0m\u001b[0;34m)\u001b[0m\u001b[0;34m\u001b[0m\u001b[0m\n\u001b[0m\u001b[1;32m    205\u001b[0m \u001b[0;34m\u001b[0m\u001b[0m\n\u001b[1;32m    206\u001b[0m     \u001b[0;34m@\u001b[0m\u001b[0mstaticmethod\u001b[0m\u001b[0;34m\u001b[0m\u001b[0m\n",
      "\u001b[0;32m/Applications/anaconda3/lib/python3.6/json/encoder.py\u001b[0m in \u001b[0;36mdefault\u001b[0;34m(self, o)\u001b[0m\n\u001b[1;32m    178\u001b[0m         \"\"\"\n\u001b[1;32m    179\u001b[0m         raise TypeError(\"Object of type '%s' is not JSON serializable\" %\n\u001b[0;32m--> 180\u001b[0;31m                         o.__class__.__name__)\n\u001b[0m\u001b[1;32m    181\u001b[0m \u001b[0;34m\u001b[0m\u001b[0m\n\u001b[1;32m    182\u001b[0m     \u001b[0;32mdef\u001b[0m \u001b[0mencode\u001b[0m\u001b[0;34m(\u001b[0m\u001b[0mself\u001b[0m\u001b[0;34m,\u001b[0m \u001b[0mo\u001b[0m\u001b[0;34m)\u001b[0m\u001b[0;34m:\u001b[0m\u001b[0;34m\u001b[0m\u001b[0m\n",
      "\u001b[0;31mTypeError\u001b[0m: Object of type 'method' is not JSON serializable"
     ]
    }
   ],
   "source": [
    "scl = [[0.0, 'FDF5EE'],[0.1, 'FBEBDE'],[0.2, 'FAE2CD'],[0.3, 'F8D8BD'],[0.4, 'F7CFAD'],[0.5, 'F5C59C'],[0.6, 'F4BC8C'],[0.7, 'F2B27C'],[0.8, 'F1A96B'],[0.9, 'EF9F5B'],[1.0, 'EE964B']]\n",
    "\n",
    "data = [ dict(\n",
    "        type='choropleth',\n",
    "        colorscale = scl,\n",
    "        autocolorscale = False,\n",
    "        locations = state_amounts.keys,\n",
    "        z = state_amounts,\n",
    "        locationmode = 'USA-states',\n",
    "        text = state_amounts.astype('str'),\n",
    "        marker = dict(\n",
    "            line = dict (\n",
    "                color = 'rgb(255,255,255)',\n",
    "                width = 2\n",
    "            ) ),\n",
    "        colorbar = dict(\n",
    "            title = \"Total Loan Amount\")\n",
    "        ) ]\n",
    "\n",
    "layout = dict(\n",
    "        title = '2018Q1 Total P2P Loan Amounts by State',\n",
    "        geo = dict(\n",
    "            scope='usa',\n",
    "            projection=dict( type='albers usa' ),\n",
    "            showlakes = True,\n",
    "            lakecolor = 'rgb(255, 255, 255)'),\n",
    "             )\n",
    "    \n",
    "fig = dict( data=data, layout=layout )\n",
    "py.iplot( fig, filename='d3-cloropleth-map' )"
   ]
  },
  {
   "cell_type": "markdown",
   "metadata": {},
   "source": [
    "### Loan Amount Concentrations"
   ]
  },
  {
   "cell_type": "code",
   "execution_count": 137,
   "metadata": {},
   "outputs": [
    {
     "data": {
      "text/plain": [
       "<matplotlib.axes._subplots.AxesSubplot at 0x1c8756dcc0>"
      ]
     },
     "execution_count": 137,
     "metadata": {},
     "output_type": "execute_result"
    },
    {
     "data": {
      "image/png": "[encoded data removed]",
      "text/plain": [
       "<matplotlib.figure.Figure at 0x1c86f4e6a0>"
      ]
     },
     "metadata": {},
     "output_type": "display_data"
    }
   ],
   "source": [
    "%matplotlib inline\n",
    "plt.figure(figsize=(25,10))\n",
    "sb.stripplot(data = new_df, x='title', y='loan_amnt', hue = 'term', jitter = True)"
   ]
  },
  {
   "cell_type": "markdown",
   "metadata": {},
   "source": [
    "There seems to be a concentration of high value loans above the median value in the debt consolidation, credit card refinancing, and home improvement categories. Given that debt consolidation is usually meant for individuals with a high level of unsecured loans or too many credit facilities, the high loan amounts make sense.\n",
    "\n",
    "Judging by the distribution of the hues, there is a noticeable concentration of a term of 60 months for high value loans. This would fit reliably in the assumption that borrowers would prefer to pay off a large loan in more installments."
   ]
  },
  {
   "cell_type": "markdown",
   "metadata": {},
   "source": [
    "### External data\n",
    "\n",
    "Given the above state level grouping, why not go one step further in analyzing some state level data?\n",
    "\n",
    "I went to www.census.gov and scraped state level data that ranged from demographic to economic figures."
   ]
  },
  {
   "cell_type": "code",
   "execution_count": 44,
   "metadata": {
    "collapsed": true
   },
   "outputs": [],
   "source": [
    "state_codes = new_df['addr_state'].unique()"
   ]
  },
  {
   "cell_type": "code",
   "execution_count": 45,
   "metadata": {},
   "outputs": [
    {
     "data": {
      "text/plain": [
       "array(['MO', 'NC', 'WI', 'NY', 'WV', 'LA', 'TX', 'NJ', 'FL', 'TN', 'GA',\n",
       "       'WA', 'AR', 'IL', 'CA', 'WY', 'MN', 'CO', 'DC', 'PA', 'ME', 'IN',\n",
       "       'MI', 'OR', 'OK', 'UT', 'AL', 'NV', 'AZ', 'CT', 'OH', 'VA', 'HI',\n",
       "       'NM', 'MD', 'MA', 'KY', 'NH', 'ND', 'MS', 'DE', 'SC', 'KS', 'NE',\n",
       "       'AK', 'RI', 'VT', 'MT', 'ID', 'SD'], dtype=object)"
      ]
     },
     "execution_count": 45,
     "metadata": {},
     "output_type": "execute_result"
    }
   ],
   "source": [
    "state_codes"
   ]
  },
  {
   "cell_type": "code",
   "execution_count": 47,
   "metadata": {
    "collapsed": true
   },
   "outputs": [],
   "source": [
    "%store -r states_data"
   ]
  },
  {
   "cell_type": "code",
   "execution_count": 48,
   "metadata": {},
   "outputs": [
    {
     "data": {
      "text/html": [
       "<div>\n",
       "<style>\n",
       "    .dataframe thead tr:only-child th {\n",
       "        text-align: right;\n",
       "    }\n",
       "\n",
       "    .dataframe thead th {\n",
       "        text-align: left;\n",
       "    }\n",
       "\n",
       "    .dataframe tbody tr th {\n",
       "        vertical-align: top;\n",
       "    }\n",
       "</style>\n",
       "<table border=\"1\" class=\"dataframe\">\n",
       "  <thead>\n",
       "    <tr style=\"text-align: right;\">\n",
       "      <th>Fact</th>\n",
       "      <th>Population estimates, July 1, 2017,  (V2017)</th>\n",
       "      <th>Population estimates base, April 1, 2010,  (V2017)</th>\n",
       "      <th>Population, percent change - April 1, 2010 (estimates base) to July 1, 2017,  (V2017)</th>\n",
       "      <th>Population, Census, April 1, 2010</th>\n",
       "      <th>Persons under 5 years, percent</th>\n",
       "      <th>Persons under 18 years, percent</th>\n",
       "      <th>Persons 65 years and over, percent</th>\n",
       "      <th>Female persons, percent</th>\n",
       "      <th>White alone, percent</th>\n",
       "      <th>Black or African American alone, percent</th>\n",
       "      <th>...</th>\n",
       "      <th>Men-owned firms, 2012</th>\n",
       "      <th>Women-owned firms, 2012</th>\n",
       "      <th>Minority-owned firms, 2012</th>\n",
       "      <th>Nonminority-owned firms, 2012</th>\n",
       "      <th>Veteran-owned firms, 2012</th>\n",
       "      <th>Nonveteran-owned firms, 2012</th>\n",
       "      <th>Population per square mile, 2010</th>\n",
       "      <th>Land area in square miles, 2010</th>\n",
       "      <th>state_name</th>\n",
       "      <th>addr_state</th>\n",
       "    </tr>\n",
       "  </thead>\n",
       "  <tbody>\n",
       "    <tr>\n",
       "      <th>Missouri</th>\n",
       "      <td>6,113,532</td>\n",
       "      <td>5,988,925</td>\n",
       "      <td>2.1%</td>\n",
       "      <td>5,988,927</td>\n",
       "      <td>6.1%</td>\n",
       "      <td>22.6%</td>\n",
       "      <td>16.5%</td>\n",
       "      <td>50.9%</td>\n",
       "      <td>83.1%</td>\n",
       "      <td>11.8%</td>\n",
       "      <td>...</td>\n",
       "      <td>257,948</td>\n",
       "      <td>162,616</td>\n",
       "      <td>61,035</td>\n",
       "      <td>415,972</td>\n",
       "      <td>49,217</td>\n",
       "      <td>415,542</td>\n",
       "      <td>87.1</td>\n",
       "      <td>68,741.52</td>\n",
       "      <td>Missouri</td>\n",
       "      <td>MO</td>\n",
       "    </tr>\n",
       "    <tr>\n",
       "      <th>North Carolina</th>\n",
       "      <td>10,273,419</td>\n",
       "      <td>9,535,721</td>\n",
       "      <td>7.7%</td>\n",
       "      <td>9,535,483</td>\n",
       "      <td>5.9%</td>\n",
       "      <td>22.4%</td>\n",
       "      <td>15.9%</td>\n",
       "      <td>51.3%</td>\n",
       "      <td>70.8%</td>\n",
       "      <td>22.2%</td>\n",
       "      <td>...</td>\n",
       "      <td>435,677</td>\n",
       "      <td>287,058</td>\n",
       "      <td>183,380</td>\n",
       "      <td>603,182</td>\n",
       "      <td>86,571</td>\n",
       "      <td>684,743</td>\n",
       "      <td>196.1</td>\n",
       "      <td>48,617.91</td>\n",
       "      <td>North Carolina</td>\n",
       "      <td>NC</td>\n",
       "    </tr>\n",
       "    <tr>\n",
       "      <th>Wisconsin</th>\n",
       "      <td>5,795,483</td>\n",
       "      <td>5,687,288</td>\n",
       "      <td>1.9%</td>\n",
       "      <td>5,686,986</td>\n",
       "      <td>5.8%</td>\n",
       "      <td>22.1%</td>\n",
       "      <td>16.5%</td>\n",
       "      <td>50.3%</td>\n",
       "      <td>87.3%</td>\n",
       "      <td>6.7%</td>\n",
       "      <td>...</td>\n",
       "      <td>236,252</td>\n",
       "      <td>133,859</td>\n",
       "      <td>40,507</td>\n",
       "      <td>379,934</td>\n",
       "      <td>39,830</td>\n",
       "      <td>370,755</td>\n",
       "      <td>105.0</td>\n",
       "      <td>54,157.80</td>\n",
       "      <td>Wisconsin</td>\n",
       "      <td>WI</td>\n",
       "    </tr>\n",
       "    <tr>\n",
       "      <th>New York</th>\n",
       "      <td>19,849,399</td>\n",
       "      <td>19,378,110</td>\n",
       "      <td>2.4%</td>\n",
       "      <td>19,378,102</td>\n",
       "      <td>5.9%</td>\n",
       "      <td>20.9%</td>\n",
       "      <td>15.9%</td>\n",
       "      <td>51.4%</td>\n",
       "      <td>69.6%</td>\n",
       "      <td>17.7%</td>\n",
       "      <td>...</td>\n",
       "      <td>1,139,910</td>\n",
       "      <td>725,709</td>\n",
       "      <td>709,021</td>\n",
       "      <td>1,248,304</td>\n",
       "      <td>137,532</td>\n",
       "      <td>1,811,544</td>\n",
       "      <td>411.2</td>\n",
       "      <td>47,126.40</td>\n",
       "      <td>New York</td>\n",
       "      <td>NY</td>\n",
       "    </tr>\n",
       "    <tr>\n",
       "      <th>West Virginia</th>\n",
       "      <td>1,815,857</td>\n",
       "      <td>1,853,006</td>\n",
       "      <td>-2.0%</td>\n",
       "      <td>1,852,994</td>\n",
       "      <td>5.4%</td>\n",
       "      <td>20.4%</td>\n",
       "      <td>19.4%</td>\n",
       "      <td>50.5%</td>\n",
       "      <td>93.6%</td>\n",
       "      <td>3.6%</td>\n",
       "      <td>...</td>\n",
       "      <td>63,112</td>\n",
       "      <td>39,065</td>\n",
       "      <td>5,777</td>\n",
       "      <td>104,785</td>\n",
       "      <td>12,912</td>\n",
       "      <td>94,960</td>\n",
       "      <td>77.1</td>\n",
       "      <td>24,038.21</td>\n",
       "      <td>West Virginia</td>\n",
       "      <td>WV</td>\n",
       "    </tr>\n",
       "  </tbody>\n",
       "</table>\n",
       "<p>5 rows × 61 columns</p>\n",
       "</div>"
      ],
      "text/plain": [
       "Fact           Population estimates, July 1, 2017,  (V2017)  \\\n",
       "Missouri                                          6,113,532   \n",
       "North Carolina                                   10,273,419   \n",
       "Wisconsin                                         5,795,483   \n",
       "New York                                         19,849,399   \n",
       "West Virginia                                     1,815,857   \n",
       "\n",
       "Fact           Population estimates base, April 1, 2010,  (V2017)  \\\n",
       "Missouri                                                5,988,925   \n",
       "North Carolina                                          9,535,721   \n",
       "Wisconsin                                               5,687,288   \n",
       "New York                                               19,378,110   \n",
       "West Virginia                                           1,853,006   \n",
       "\n",
       "Fact           Population, percent change - April 1, 2010 (estimates base) to July 1, 2017,  (V2017)  \\\n",
       "Missouri                                                     2.1%                                      \n",
       "North Carolina                                               7.7%                                      \n",
       "Wisconsin                                                    1.9%                                      \n",
       "New York                                                     2.4%                                      \n",
       "West Virginia                                               -2.0%                                      \n",
       "\n",
       "Fact           Population, Census, April 1, 2010  \\\n",
       "Missouri                               5,988,927   \n",
       "North Carolina                         9,535,483   \n",
       "Wisconsin                              5,686,986   \n",
       "New York                              19,378,102   \n",
       "West Virginia                          1,852,994   \n",
       "\n",
       "Fact           Persons under 5 years, percent Persons under 18 years, percent  \\\n",
       "Missouri                                 6.1%                           22.6%   \n",
       "North Carolina                           5.9%                           22.4%   \n",
       "Wisconsin                                5.8%                           22.1%   \n",
       "New York                                 5.9%                           20.9%   \n",
       "West Virginia                            5.4%                           20.4%   \n",
       "\n",
       "Fact           Persons 65 years and over, percent Female persons, percent  \\\n",
       "Missouri                                    16.5%                   50.9%   \n",
       "North Carolina                              15.9%                   51.3%   \n",
       "Wisconsin                                   16.5%                   50.3%   \n",
       "New York                                    15.9%                   51.4%   \n",
       "West Virginia                               19.4%                   50.5%   \n",
       "\n",
       "Fact           White alone, percent Black or African American alone, percent  \\\n",
       "Missouri                      83.1%                                    11.8%   \n",
       "North Carolina                70.8%                                    22.2%   \n",
       "Wisconsin                     87.3%                                     6.7%   \n",
       "New York                      69.6%                                    17.7%   \n",
       "West Virginia                 93.6%                                     3.6%   \n",
       "\n",
       "Fact              ...     Men-owned firms, 2012 Women-owned firms, 2012  \\\n",
       "Missouri          ...                   257,948                 162,616   \n",
       "North Carolina    ...                   435,677                 287,058   \n",
       "Wisconsin         ...                   236,252                 133,859   \n",
       "New York          ...                 1,139,910                 725,709   \n",
       "West Virginia     ...                    63,112                  39,065   \n",
       "\n",
       "Fact           Minority-owned firms, 2012 Nonminority-owned firms, 2012  \\\n",
       "Missouri                           61,035                       415,972   \n",
       "North Carolina                    183,380                       603,182   \n",
       "Wisconsin                          40,507                       379,934   \n",
       "New York                          709,021                     1,248,304   \n",
       "West Virginia                       5,777                       104,785   \n",
       "\n",
       "Fact           Veteran-owned firms, 2012 Nonveteran-owned firms, 2012  \\\n",
       "Missouri                          49,217                      415,542   \n",
       "North Carolina                    86,571                      684,743   \n",
       "Wisconsin                         39,830                      370,755   \n",
       "New York                         137,532                    1,811,544   \n",
       "West Virginia                     12,912                       94,960   \n",
       "\n",
       "Fact           Population per square mile, 2010  \\\n",
       "Missouri                                   87.1   \n",
       "North Carolina                            196.1   \n",
       "Wisconsin                                 105.0   \n",
       "New York                                  411.2   \n",
       "West Virginia                              77.1   \n",
       "\n",
       "Fact           Land area in square miles, 2010      state_name addr_state  \n",
       "Missouri                             68,741.52        Missouri         MO  \n",
       "North Carolina                       48,617.91  North Carolina         NC  \n",
       "Wisconsin                            54,157.80       Wisconsin         WI  \n",
       "New York                             47,126.40        New York         NY  \n",
       "West Virginia                        24,038.21   West Virginia         WV  \n",
       "\n",
       "[5 rows x 61 columns]"
      ]
     },
     "execution_count": 48,
     "metadata": {},
     "output_type": "execute_result"
    }
   ],
   "source": [
    "states_data.head()"
   ]
  },
  {
   "cell_type": "code",
   "execution_count": 49,
   "metadata": {},
   "outputs": [
    {
     "data": {
      "text/html": [
       "<div>\n",
       "<style>\n",
       "    .dataframe thead tr:only-child th {\n",
       "        text-align: right;\n",
       "    }\n",
       "\n",
       "    .dataframe thead th {\n",
       "        text-align: left;\n",
       "    }\n",
       "\n",
       "    .dataframe tbody tr th {\n",
       "        vertical-align: top;\n",
       "    }\n",
       "</style>\n",
       "<table border=\"1\" class=\"dataframe\">\n",
       "  <thead>\n",
       "    <tr style=\"text-align: right;\">\n",
       "      <th></th>\n",
       "      <th>Series ID</th>\n",
       "      <th>Region Name</th>\n",
       "      <th>Region Code</th>\n",
       "      <th>2016 Q1</th>\n",
       "      <th>2016 Q2</th>\n",
       "      <th>2016 Q3</th>\n",
       "      <th>2016 Q4</th>\n",
       "      <th>2017 Q1</th>\n",
       "      <th>2017 Q2</th>\n",
       "      <th>2017 Q3</th>\n",
       "      <th>2017 Q4</th>\n",
       "      <th>2018 Q1</th>\n",
       "    </tr>\n",
       "  </thead>\n",
       "  <tbody>\n",
       "    <tr>\n",
       "      <th>1</th>\n",
       "      <td>ALSTHPI</td>\n",
       "      <td>Alabama</td>\n",
       "      <td>01</td>\n",
       "      <td>292.16</td>\n",
       "      <td>295.87</td>\n",
       "      <td>301.13</td>\n",
       "      <td>300.46</td>\n",
       "      <td>301.85</td>\n",
       "      <td>306.78</td>\n",
       "      <td>310.11</td>\n",
       "      <td>312.49</td>\n",
       "      <td>313.29</td>\n",
       "    </tr>\n",
       "    <tr>\n",
       "      <th>2</th>\n",
       "      <td>AKSTHPI</td>\n",
       "      <td>Alaska</td>\n",
       "      <td>02</td>\n",
       "      <td>311.61</td>\n",
       "      <td>315.18</td>\n",
       "      <td>315.29</td>\n",
       "      <td>313.66</td>\n",
       "      <td>315.67</td>\n",
       "      <td>317.61</td>\n",
       "      <td>322.27</td>\n",
       "      <td>324.48</td>\n",
       "      <td>321.37</td>\n",
       "    </tr>\n",
       "    <tr>\n",
       "      <th>3</th>\n",
       "      <td>AZSTHPI</td>\n",
       "      <td>Arizona</td>\n",
       "      <td>04</td>\n",
       "      <td>334.77</td>\n",
       "      <td>342.43</td>\n",
       "      <td>347.88</td>\n",
       "      <td>354.04</td>\n",
       "      <td>361.23</td>\n",
       "      <td>372.35</td>\n",
       "      <td>381.15</td>\n",
       "      <td>385.16</td>\n",
       "      <td>393.77</td>\n",
       "    </tr>\n",
       "    <tr>\n",
       "      <th>4</th>\n",
       "      <td>ARSTHPI</td>\n",
       "      <td>Arkansas</td>\n",
       "      <td>05</td>\n",
       "      <td>259.32</td>\n",
       "      <td>262.81</td>\n",
       "      <td>266.81</td>\n",
       "      <td>269.01</td>\n",
       "      <td>271.11</td>\n",
       "      <td>273.96</td>\n",
       "      <td>276.88</td>\n",
       "      <td>280.14</td>\n",
       "      <td>279.76</td>\n",
       "    </tr>\n",
       "    <tr>\n",
       "      <th>5</th>\n",
       "      <td>CASTHPI</td>\n",
       "      <td>California</td>\n",
       "      <td>06</td>\n",
       "      <td>549.18</td>\n",
       "      <td>558.87</td>\n",
       "      <td>570.17</td>\n",
       "      <td>578.89</td>\n",
       "      <td>590.62</td>\n",
       "      <td>604.36</td>\n",
       "      <td>616.05</td>\n",
       "      <td>627.1</td>\n",
       "      <td>638.37</td>\n",
       "    </tr>\n",
       "  </tbody>\n",
       "</table>\n",
       "</div>"
      ],
      "text/plain": [
       "0 Series ID Region Name Region Code 2016 Q1 2016 Q2 2016 Q3 2016 Q4 2017 Q1  \\\n",
       "1   ALSTHPI     Alabama          01  292.16  295.87  301.13  300.46  301.85   \n",
       "2   AKSTHPI      Alaska          02  311.61  315.18  315.29  313.66  315.67   \n",
       "3   AZSTHPI     Arizona          04  334.77  342.43  347.88  354.04  361.23   \n",
       "4   ARSTHPI    Arkansas          05  259.32  262.81  266.81  269.01  271.11   \n",
       "5   CASTHPI  California          06  549.18  558.87  570.17  578.89  590.62   \n",
       "\n",
       "0 2017 Q2 2017 Q3 2017 Q4 2018 Q1  \n",
       "1  306.78  310.11  312.49  313.29  \n",
       "2  317.61  322.27  324.48  321.37  \n",
       "3  372.35  381.15  385.16  393.77  \n",
       "4  273.96  276.88  280.14  279.76  \n",
       "5  604.36  616.05   627.1  638.37  "
      ]
     },
     "execution_count": 49,
     "metadata": {},
     "output_type": "execute_result"
    }
   ],
   "source": [
    "house_df = pd.read_excel('house_price.xls')\n",
    "house_df.columns = house_df.iloc[0]\n",
    "house_df = house_df.drop([0])\n",
    "house_df.head()"
   ]
  },
  {
   "cell_type": "code",
   "execution_count": 50,
   "metadata": {},
   "outputs": [
    {
     "data": {
      "text/html": [
       "<div>\n",
       "<style>\n",
       "    .dataframe thead tr:only-child th {\n",
       "        text-align: right;\n",
       "    }\n",
       "\n",
       "    .dataframe thead th {\n",
       "        text-align: left;\n",
       "    }\n",
       "\n",
       "    .dataframe tbody tr th {\n",
       "        vertical-align: top;\n",
       "    }\n",
       "</style>\n",
       "<table border=\"1\" class=\"dataframe\">\n",
       "  <thead>\n",
       "    <tr style=\"text-align: right;\">\n",
       "      <th></th>\n",
       "      <th>state_name</th>\n",
       "      <th>house_price_change</th>\n",
       "    </tr>\n",
       "  </thead>\n",
       "  <tbody>\n",
       "    <tr>\n",
       "      <th>1</th>\n",
       "      <td>Alabama</td>\n",
       "      <td>7.23234</td>\n",
       "    </tr>\n",
       "    <tr>\n",
       "      <th>2</th>\n",
       "      <td>Alaska</td>\n",
       "      <td>3.13212</td>\n",
       "    </tr>\n",
       "    <tr>\n",
       "      <th>3</th>\n",
       "      <td>Arizona</td>\n",
       "      <td>17.624</td>\n",
       "    </tr>\n",
       "    <tr>\n",
       "      <th>4</th>\n",
       "      <td>Arkansas</td>\n",
       "      <td>7.88215</td>\n",
       "    </tr>\n",
       "    <tr>\n",
       "      <th>5</th>\n",
       "      <td>California</td>\n",
       "      <td>16.2406</td>\n",
       "    </tr>\n",
       "  </tbody>\n",
       "</table>\n",
       "</div>"
      ],
      "text/plain": [
       "   state_name house_price_change\n",
       "1     Alabama            7.23234\n",
       "2      Alaska            3.13212\n",
       "3     Arizona             17.624\n",
       "4    Arkansas            7.88215\n",
       "5  California            16.2406"
      ]
     },
     "execution_count": 50,
     "metadata": {},
     "output_type": "execute_result"
    }
   ],
   "source": [
    "house_df['house_price_change'] = (house_df['2018 Q1'] - house_df['2016 Q1'])/house_df['2016 Q1']*100\n",
    "house_df = house_df[['Region Name','house_price_change']]\n",
    "house_df.columns = ['state_name','house_price_change']\n",
    "house_df.head()"
   ]
  },
  {
   "cell_type": "code",
   "execution_count": 51,
   "metadata": {},
   "outputs": [
    {
     "data": {
      "text/html": [
       "<div>\n",
       "<style>\n",
       "    .dataframe thead tr:only-child th {\n",
       "        text-align: right;\n",
       "    }\n",
       "\n",
       "    .dataframe thead th {\n",
       "        text-align: left;\n",
       "    }\n",
       "\n",
       "    .dataframe tbody tr th {\n",
       "        vertical-align: top;\n",
       "    }\n",
       "</style>\n",
       "<table border=\"1\" class=\"dataframe\">\n",
       "  <thead>\n",
       "    <tr style=\"text-align: right;\">\n",
       "      <th></th>\n",
       "      <th>Population estimates, July 1, 2017,  (V2017)</th>\n",
       "      <th>Population estimates base, April 1, 2010,  (V2017)</th>\n",
       "      <th>Population, percent change - April 1, 2010 (estimates base) to July 1, 2017,  (V2017)</th>\n",
       "      <th>Population, Census, April 1, 2010</th>\n",
       "      <th>Persons under 5 years, percent</th>\n",
       "      <th>Persons under 18 years, percent</th>\n",
       "      <th>Persons 65 years and over, percent</th>\n",
       "      <th>Female persons, percent</th>\n",
       "      <th>White alone, percent</th>\n",
       "      <th>Black or African American alone, percent</th>\n",
       "      <th>...</th>\n",
       "      <th>Women-owned firms, 2012</th>\n",
       "      <th>Minority-owned firms, 2012</th>\n",
       "      <th>Nonminority-owned firms, 2012</th>\n",
       "      <th>Veteran-owned firms, 2012</th>\n",
       "      <th>Nonveteran-owned firms, 2012</th>\n",
       "      <th>Population per square mile, 2010</th>\n",
       "      <th>Land area in square miles, 2010</th>\n",
       "      <th>state_name</th>\n",
       "      <th>addr_state</th>\n",
       "      <th>house_price_change</th>\n",
       "    </tr>\n",
       "  </thead>\n",
       "  <tbody>\n",
       "    <tr>\n",
       "      <th>0</th>\n",
       "      <td>6,113,532</td>\n",
       "      <td>5,988,925</td>\n",
       "      <td>2.1%</td>\n",
       "      <td>5,988,927</td>\n",
       "      <td>6.1%</td>\n",
       "      <td>22.6%</td>\n",
       "      <td>16.5%</td>\n",
       "      <td>50.9%</td>\n",
       "      <td>83.1%</td>\n",
       "      <td>11.8%</td>\n",
       "      <td>...</td>\n",
       "      <td>162,616</td>\n",
       "      <td>61,035</td>\n",
       "      <td>415,972</td>\n",
       "      <td>49,217</td>\n",
       "      <td>415,542</td>\n",
       "      <td>87.1</td>\n",
       "      <td>68,741.52</td>\n",
       "      <td>Missouri</td>\n",
       "      <td>MO</td>\n",
       "      <td>10.5202</td>\n",
       "    </tr>\n",
       "    <tr>\n",
       "      <th>1</th>\n",
       "      <td>10,273,419</td>\n",
       "      <td>9,535,721</td>\n",
       "      <td>7.7%</td>\n",
       "      <td>9,535,483</td>\n",
       "      <td>5.9%</td>\n",
       "      <td>22.4%</td>\n",
       "      <td>15.9%</td>\n",
       "      <td>51.3%</td>\n",
       "      <td>70.8%</td>\n",
       "      <td>22.2%</td>\n",
       "      <td>...</td>\n",
       "      <td>287,058</td>\n",
       "      <td>183,380</td>\n",
       "      <td>603,182</td>\n",
       "      <td>86,571</td>\n",
       "      <td>684,743</td>\n",
       "      <td>196.1</td>\n",
       "      <td>48,617.91</td>\n",
       "      <td>North Carolina</td>\n",
       "      <td>NC</td>\n",
       "      <td>12.4686</td>\n",
       "    </tr>\n",
       "    <tr>\n",
       "      <th>2</th>\n",
       "      <td>5,795,483</td>\n",
       "      <td>5,687,288</td>\n",
       "      <td>1.9%</td>\n",
       "      <td>5,686,986</td>\n",
       "      <td>5.8%</td>\n",
       "      <td>22.1%</td>\n",
       "      <td>16.5%</td>\n",
       "      <td>50.3%</td>\n",
       "      <td>87.3%</td>\n",
       "      <td>6.7%</td>\n",
       "      <td>...</td>\n",
       "      <td>133,859</td>\n",
       "      <td>40,507</td>\n",
       "      <td>379,934</td>\n",
       "      <td>39,830</td>\n",
       "      <td>370,755</td>\n",
       "      <td>105.0</td>\n",
       "      <td>54,157.80</td>\n",
       "      <td>Wisconsin</td>\n",
       "      <td>WI</td>\n",
       "      <td>10.3939</td>\n",
       "    </tr>\n",
       "    <tr>\n",
       "      <th>3</th>\n",
       "      <td>19,849,399</td>\n",
       "      <td>19,378,110</td>\n",
       "      <td>2.4%</td>\n",
       "      <td>19,378,102</td>\n",
       "      <td>5.9%</td>\n",
       "      <td>20.9%</td>\n",
       "      <td>15.9%</td>\n",
       "      <td>51.4%</td>\n",
       "      <td>69.6%</td>\n",
       "      <td>17.7%</td>\n",
       "      <td>...</td>\n",
       "      <td>725,709</td>\n",
       "      <td>709,021</td>\n",
       "      <td>1,248,304</td>\n",
       "      <td>137,532</td>\n",
       "      <td>1,811,544</td>\n",
       "      <td>411.2</td>\n",
       "      <td>47,126.40</td>\n",
       "      <td>New York</td>\n",
       "      <td>NY</td>\n",
       "      <td>11.1661</td>\n",
       "    </tr>\n",
       "    <tr>\n",
       "      <th>4</th>\n",
       "      <td>1,815,857</td>\n",
       "      <td>1,853,006</td>\n",
       "      <td>-2.0%</td>\n",
       "      <td>1,852,994</td>\n",
       "      <td>5.4%</td>\n",
       "      <td>20.4%</td>\n",
       "      <td>19.4%</td>\n",
       "      <td>50.5%</td>\n",
       "      <td>93.6%</td>\n",
       "      <td>3.6%</td>\n",
       "      <td>...</td>\n",
       "      <td>39,065</td>\n",
       "      <td>5,777</td>\n",
       "      <td>104,785</td>\n",
       "      <td>12,912</td>\n",
       "      <td>94,960</td>\n",
       "      <td>77.1</td>\n",
       "      <td>24,038.21</td>\n",
       "      <td>West Virginia</td>\n",
       "      <td>WV</td>\n",
       "      <td>5.11479</td>\n",
       "    </tr>\n",
       "  </tbody>\n",
       "</table>\n",
       "<p>5 rows × 62 columns</p>\n",
       "</div>"
      ],
      "text/plain": [
       "  Population estimates, July 1, 2017,  (V2017)  \\\n",
       "0                                    6,113,532   \n",
       "1                                   10,273,419   \n",
       "2                                    5,795,483   \n",
       "3                                   19,849,399   \n",
       "4                                    1,815,857   \n",
       "\n",
       "  Population estimates base, April 1, 2010,  (V2017)  \\\n",
       "0                                          5,988,925   \n",
       "1                                          9,535,721   \n",
       "2                                          5,687,288   \n",
       "3                                         19,378,110   \n",
       "4                                          1,853,006   \n",
       "\n",
       "  Population, percent change - April 1, 2010 (estimates base) to July 1, 2017,  (V2017)  \\\n",
       "0                                               2.1%                                      \n",
       "1                                               7.7%                                      \n",
       "2                                               1.9%                                      \n",
       "3                                               2.4%                                      \n",
       "4                                              -2.0%                                      \n",
       "\n",
       "  Population, Census, April 1, 2010 Persons under 5 years, percent  \\\n",
       "0                         5,988,927                           6.1%   \n",
       "1                         9,535,483                           5.9%   \n",
       "2                         5,686,986                           5.8%   \n",
       "3                        19,378,102                           5.9%   \n",
       "4                         1,852,994                           5.4%   \n",
       "\n",
       "  Persons under 18 years, percent Persons 65 years and over, percent  \\\n",
       "0                           22.6%                              16.5%   \n",
       "1                           22.4%                              15.9%   \n",
       "2                           22.1%                              16.5%   \n",
       "3                           20.9%                              15.9%   \n",
       "4                           20.4%                              19.4%   \n",
       "\n",
       "  Female persons, percent White alone, percent  \\\n",
       "0                   50.9%                83.1%   \n",
       "1                   51.3%                70.8%   \n",
       "2                   50.3%                87.3%   \n",
       "3                   51.4%                69.6%   \n",
       "4                   50.5%                93.6%   \n",
       "\n",
       "  Black or African American alone, percent        ...          \\\n",
       "0                                    11.8%        ...           \n",
       "1                                    22.2%        ...           \n",
       "2                                     6.7%        ...           \n",
       "3                                    17.7%        ...           \n",
       "4                                     3.6%        ...           \n",
       "\n",
       "  Women-owned firms, 2012 Minority-owned firms, 2012  \\\n",
       "0                 162,616                     61,035   \n",
       "1                 287,058                    183,380   \n",
       "2                 133,859                     40,507   \n",
       "3                 725,709                    709,021   \n",
       "4                  39,065                      5,777   \n",
       "\n",
       "  Nonminority-owned firms, 2012 Veteran-owned firms, 2012  \\\n",
       "0                       415,972                    49,217   \n",
       "1                       603,182                    86,571   \n",
       "2                       379,934                    39,830   \n",
       "3                     1,248,304                   137,532   \n",
       "4                       104,785                    12,912   \n",
       "\n",
       "  Nonveteran-owned firms, 2012 Population per square mile, 2010  \\\n",
       "0                      415,542                             87.1   \n",
       "1                      684,743                            196.1   \n",
       "2                      370,755                            105.0   \n",
       "3                    1,811,544                            411.2   \n",
       "4                       94,960                             77.1   \n",
       "\n",
       "  Land area in square miles, 2010      state_name addr_state  \\\n",
       "0                       68,741.52        Missouri         MO   \n",
       "1                       48,617.91  North Carolina         NC   \n",
       "2                       54,157.80       Wisconsin         WI   \n",
       "3                       47,126.40        New York         NY   \n",
       "4                       24,038.21   West Virginia         WV   \n",
       "\n",
       "  house_price_change  \n",
       "0            10.5202  \n",
       "1            12.4686  \n",
       "2            10.3939  \n",
       "3            11.1661  \n",
       "4            5.11479  \n",
       "\n",
       "[5 rows x 62 columns]"
      ]
     },
     "execution_count": 51,
     "metadata": {},
     "output_type": "execute_result"
    }
   ],
   "source": [
    "states_data = pd.merge(states_data, house_df, on='state_name', how='left')\n",
    "states_data.head()"
   ]
  },
  {
   "cell_type": "code",
   "execution_count": 52,
   "metadata": {},
   "outputs": [
    {
     "data": {
      "text/plain": [
       "Index(['Population estimates, July 1, 2017,  (V2017)',\n",
       "       'Population estimates base, April 1, 2010,  (V2017)',\n",
       "       'Population, percent change - April 1, 2010 (estimates base) to July 1, 2017,  (V2017)',\n",
       "       'Population, Census, April 1, 2010', 'Persons under 5 years, percent',\n",
       "       'Persons under 18 years, percent', 'Persons 65 years and over, percent',\n",
       "       'Female persons, percent', 'White alone, percent',\n",
       "       'Black or African American alone, percent',\n",
       "       'American Indian and Alaska Native alone, percent',\n",
       "       'Asian alone, percent',\n",
       "       'Native Hawaiian and Other Pacific Islander alone, percent',\n",
       "       'Two or More Races, percent', 'Hispanic or Latino, percent',\n",
       "       'White alone, not Hispanic or Latino, percent', 'Veterans, 2012-2016',\n",
       "       'Foreign born persons, percent, 2012-2016',\n",
       "       'Housing units,  July 1, 2017,  (V2017)',\n",
       "       'Owner-occupied housing unit rate, 2012-2016',\n",
       "       'Median value of owner-occupied housing units, 2012-2016',\n",
       "       'Median selected monthly owner costs -with a mortgage, 2012-2016',\n",
       "       'Median selected monthly owner costs -without a mortgage, 2012-2016',\n",
       "       'Median gross rent, 2012-2016', 'Building permits, 2017',\n",
       "       'Households, 2012-2016', 'Persons per household, 2012-2016',\n",
       "       'Living in same house 1 year ago, percent of persons age 1 year+, 2012-2016',\n",
       "       'Language other than English spoken at home, percent of persons age 5 years+, 2012-2016',\n",
       "       'High school graduate or higher, percent of persons age 25 years+, 2012-2016',\n",
       "       'Bachelor's degree or higher, percent of persons age 25 years+, 2012-2016',\n",
       "       'With a disability, under age 65 years, percent, 2012-2016',\n",
       "       'Persons  without health insurance, under age 65 years, percent',\n",
       "       'In civilian labor force, total, percent of population age 16 years+, 2012-2016',\n",
       "       'In civilian labor force, female, percent of population age 16 years+, 2012-2016',\n",
       "       'Total accommodation and food services sales, 2012 ($1,000)',\n",
       "       'Total health care and social assistance receipts/revenue, 2012 ($1,000)',\n",
       "       'Total manufacturers shipments, 2012 ($1,000)',\n",
       "       'Total merchant wholesaler sales, 2012 ($1,000)',\n",
       "       'Total retail sales, 2012 ($1,000)',\n",
       "       'Total retail sales per capita, 2012',\n",
       "       'Mean travel time to work (minutes), workers age 16 years+, 2012-2016',\n",
       "       'Median household income (in 2016 dollars), 2012-2016',\n",
       "       'Per capita income in past 12 months (in 2016 dollars), 2012-2016',\n",
       "       'Persons in poverty, percent', 'Total employer establishments, 2016',\n",
       "       'Total employment, 2016', 'Total annual payroll, 2016 ($1,000)',\n",
       "       'Total employment, percent change, 2015-2016',\n",
       "       'Total nonemployer establishments, 2016', 'All firms, 2012',\n",
       "       'Men-owned firms, 2012', 'Women-owned firms, 2012',\n",
       "       'Minority-owned firms, 2012', 'Nonminority-owned firms, 2012',\n",
       "       'Veteran-owned firms, 2012', 'Nonveteran-owned firms, 2012',\n",
       "       'Population per square mile, 2010', 'Land area in square miles, 2010',\n",
       "       'state_name', 'addr_state', 'house_price_change'],\n",
       "      dtype='object')"
      ]
     },
     "execution_count": 52,
     "metadata": {},
     "output_type": "execute_result"
    }
   ],
   "source": [
    "states_data.columns"
   ]
  },
  {
   "cell_type": "code",
   "execution_count": 53,
   "metadata": {
    "collapsed": true
   },
   "outputs": [],
   "source": [
    "states_data = states_data[['Black or African American alone, percent','Housing units,  July 1, 2017,  (V2017)',\n",
    "       'Owner-occupied housing unit rate, 2012-2016',\n",
    "       'Median value of owner-occupied housing units, 2012-2016',\n",
    "       'Median selected monthly owner costs -with a mortgage, 2012-2016',\n",
    "       'Median selected monthly owner costs -without a mortgage, 2012-2016',\n",
    "       'Median gross rent, 2012-2016', 'Building permits, 2017','Median household income (in 2016 dollars), 2012-2016',\n",
    "       'Per capita income in past 12 months (in 2016 dollars), 2012-2016',\n",
    "       'Persons in poverty, percent', 'state_name','addr_state','house_price_change']]"
   ]
  },
  {
   "cell_type": "code",
   "execution_count": 54,
   "metadata": {
    "collapsed": true
   },
   "outputs": [],
   "source": [
    "states_data.columns = ['africa_american','housing_units','median_owner_occupied_rate','median_owner_occupied_value',\n",
    "                      'median_owner_occupied_monthly_mortgage','median_owner_occupied_monthly_no_mortgage','median_rent',\n",
    "                      'building_permits','median_household_income','percapita_income','poverty_rate','state_name','addr_state','house_price_change']"
   ]
  },
  {
   "cell_type": "code",
   "execution_count": 55,
   "metadata": {},
   "outputs": [
    {
     "data": {
      "text/html": [
       "<div>\n",
       "<style>\n",
       "    .dataframe thead tr:only-child th {\n",
       "        text-align: right;\n",
       "    }\n",
       "\n",
       "    .dataframe thead th {\n",
       "        text-align: left;\n",
       "    }\n",
       "\n",
       "    .dataframe tbody tr th {\n",
       "        vertical-align: top;\n",
       "    }\n",
       "</style>\n",
       "<table border=\"1\" class=\"dataframe\">\n",
       "  <thead>\n",
       "    <tr style=\"text-align: right;\">\n",
       "      <th></th>\n",
       "      <th>africa_american</th>\n",
       "      <th>housing_units</th>\n",
       "      <th>median_owner_occupied_rate</th>\n",
       "      <th>median_owner_occupied_value</th>\n",
       "      <th>median_owner_occupied_monthly_mortgage</th>\n",
       "      <th>median_owner_occupied_monthly_no_mortgage</th>\n",
       "      <th>median_rent</th>\n",
       "      <th>building_permits</th>\n",
       "      <th>median_household_income</th>\n",
       "      <th>percapita_income</th>\n",
       "      <th>poverty_rate</th>\n",
       "      <th>state_name</th>\n",
       "      <th>addr_state</th>\n",
       "      <th>house_price_change</th>\n",
       "    </tr>\n",
       "  </thead>\n",
       "  <tbody>\n",
       "    <tr>\n",
       "      <th>0</th>\n",
       "      <td>11.8%</td>\n",
       "      <td>2,792,506</td>\n",
       "      <td>66.8%</td>\n",
       "      <td>$141,200</td>\n",
       "      <td>$1,210</td>\n",
       "      <td>$407</td>\n",
       "      <td>$759</td>\n",
       "      <td>18,811</td>\n",
       "      <td>$49,593</td>\n",
       "      <td>$27,044</td>\n",
       "      <td>14.0%</td>\n",
       "      <td>Missouri</td>\n",
       "      <td>MO</td>\n",
       "      <td>10.5202</td>\n",
       "    </tr>\n",
       "    <tr>\n",
       "      <th>1</th>\n",
       "      <td>22.2%</td>\n",
       "      <td>4,622,575</td>\n",
       "      <td>64.8%</td>\n",
       "      <td>$157,100</td>\n",
       "      <td>$1,243</td>\n",
       "      <td>$376</td>\n",
       "      <td>$816</td>\n",
       "      <td>67,047</td>\n",
       "      <td>$48,256</td>\n",
       "      <td>$26,779</td>\n",
       "      <td>15.4%</td>\n",
       "      <td>North Carolina</td>\n",
       "      <td>NC</td>\n",
       "      <td>12.4686</td>\n",
       "    </tr>\n",
       "    <tr>\n",
       "      <th>2</th>\n",
       "      <td>6.7%</td>\n",
       "      <td>2,695,462</td>\n",
       "      <td>67.0%</td>\n",
       "      <td>$167,000</td>\n",
       "      <td>$1,391</td>\n",
       "      <td>$532</td>\n",
       "      <td>$789</td>\n",
       "      <td>19,545</td>\n",
       "      <td>$54,610</td>\n",
       "      <td>$29,253</td>\n",
       "      <td>11.8%</td>\n",
       "      <td>Wisconsin</td>\n",
       "      <td>WI</td>\n",
       "      <td>10.3939</td>\n",
       "    </tr>\n",
       "    <tr>\n",
       "      <th>3</th>\n",
       "      <td>17.7%</td>\n",
       "      <td>8,327,388</td>\n",
       "      <td>53.6%</td>\n",
       "      <td>$286,300</td>\n",
       "      <td>$2,030</td>\n",
       "      <td>$712</td>\n",
       "      <td>$1,159</td>\n",
       "      <td>39,350</td>\n",
       "      <td>$60,741</td>\n",
       "      <td>$34,212</td>\n",
       "      <td>14.7%</td>\n",
       "      <td>New York</td>\n",
       "      <td>NY</td>\n",
       "      <td>11.1661</td>\n",
       "    </tr>\n",
       "    <tr>\n",
       "      <th>4</th>\n",
       "      <td>3.6%</td>\n",
       "      <td>892,226</td>\n",
       "      <td>72.5%</td>\n",
       "      <td>$107,400</td>\n",
       "      <td>$977</td>\n",
       "      <td>$298</td>\n",
       "      <td>$658</td>\n",
       "      <td>2,719</td>\n",
       "      <td>$42,644</td>\n",
       "      <td>$24,002</td>\n",
       "      <td>17.9%</td>\n",
       "      <td>West Virginia</td>\n",
       "      <td>WV</td>\n",
       "      <td>5.11479</td>\n",
       "    </tr>\n",
       "  </tbody>\n",
       "</table>\n",
       "</div>"
      ],
      "text/plain": [
       "  africa_american housing_units median_owner_occupied_rate  \\\n",
       "0           11.8%     2,792,506                      66.8%   \n",
       "1           22.2%     4,622,575                      64.8%   \n",
       "2            6.7%     2,695,462                      67.0%   \n",
       "3           17.7%     8,327,388                      53.6%   \n",
       "4            3.6%       892,226                      72.5%   \n",
       "\n",
       "  median_owner_occupied_value median_owner_occupied_monthly_mortgage  \\\n",
       "0                    $141,200                                 $1,210   \n",
       "1                    $157,100                                 $1,243   \n",
       "2                    $167,000                                 $1,391   \n",
       "3                    $286,300                                 $2,030   \n",
       "4                    $107,400                                   $977   \n",
       "\n",
       "  median_owner_occupied_monthly_no_mortgage median_rent building_permits  \\\n",
       "0                                      $407        $759           18,811   \n",
       "1                                      $376        $816           67,047   \n",
       "2                                      $532        $789           19,545   \n",
       "3                                      $712      $1,159           39,350   \n",
       "4                                      $298        $658            2,719   \n",
       "\n",
       "  median_household_income percapita_income poverty_rate      state_name  \\\n",
       "0                 $49,593          $27,044        14.0%        Missouri   \n",
       "1                 $48,256          $26,779        15.4%  North Carolina   \n",
       "2                 $54,610          $29,253        11.8%       Wisconsin   \n",
       "3                 $60,741          $34,212        14.7%        New York   \n",
       "4                 $42,644          $24,002        17.9%   West Virginia   \n",
       "\n",
       "  addr_state house_price_change  \n",
       "0         MO            10.5202  \n",
       "1         NC            12.4686  \n",
       "2         WI            10.3939  \n",
       "3         NY            11.1661  \n",
       "4         WV            5.11479  "
      ]
     },
     "execution_count": 55,
     "metadata": {},
     "output_type": "execute_result"
    }
   ],
   "source": [
    "states_data.head()"
   ]
  },
  {
   "cell_type": "code",
   "execution_count": 56,
   "metadata": {},
   "outputs": [
    {
     "data": {
      "text/html": [
       "<div>\n",
       "<style>\n",
       "    .dataframe thead tr:only-child th {\n",
       "        text-align: right;\n",
       "    }\n",
       "\n",
       "    .dataframe thead th {\n",
       "        text-align: left;\n",
       "    }\n",
       "\n",
       "    .dataframe tbody tr th {\n",
       "        vertical-align: top;\n",
       "    }\n",
       "</style>\n",
       "<table border=\"1\" class=\"dataframe\">\n",
       "  <thead>\n",
       "    <tr style=\"text-align: right;\">\n",
       "      <th></th>\n",
       "      <th>africa_american</th>\n",
       "      <th>housing_units</th>\n",
       "      <th>median_owner_occupied_rate</th>\n",
       "      <th>median_owner_occupied_value</th>\n",
       "      <th>median_owner_occupied_monthly_mortgage</th>\n",
       "      <th>median_owner_occupied_monthly_no_mortgage</th>\n",
       "      <th>median_rent</th>\n",
       "      <th>building_permits</th>\n",
       "      <th>median_household_income</th>\n",
       "      <th>percapita_income</th>\n",
       "      <th>poverty_rate</th>\n",
       "      <th>state_name</th>\n",
       "      <th>addr_state</th>\n",
       "      <th>house_price_change</th>\n",
       "    </tr>\n",
       "  </thead>\n",
       "  <tbody>\n",
       "    <tr>\n",
       "      <th>0</th>\n",
       "      <td>11.8</td>\n",
       "      <td>2792506</td>\n",
       "      <td>66.8</td>\n",
       "      <td>141200</td>\n",
       "      <td>1210</td>\n",
       "      <td>407</td>\n",
       "      <td>759</td>\n",
       "      <td>18811</td>\n",
       "      <td>49593</td>\n",
       "      <td>27044</td>\n",
       "      <td>14.0</td>\n",
       "      <td>Missouri</td>\n",
       "      <td>MO</td>\n",
       "      <td>10.5202</td>\n",
       "    </tr>\n",
       "    <tr>\n",
       "      <th>1</th>\n",
       "      <td>22.2</td>\n",
       "      <td>4622575</td>\n",
       "      <td>64.8</td>\n",
       "      <td>157100</td>\n",
       "      <td>1243</td>\n",
       "      <td>376</td>\n",
       "      <td>816</td>\n",
       "      <td>67047</td>\n",
       "      <td>48256</td>\n",
       "      <td>26779</td>\n",
       "      <td>15.4</td>\n",
       "      <td>North Carolina</td>\n",
       "      <td>NC</td>\n",
       "      <td>12.4686</td>\n",
       "    </tr>\n",
       "    <tr>\n",
       "      <th>2</th>\n",
       "      <td>6.7</td>\n",
       "      <td>2695462</td>\n",
       "      <td>67.0</td>\n",
       "      <td>167000</td>\n",
       "      <td>1391</td>\n",
       "      <td>532</td>\n",
       "      <td>789</td>\n",
       "      <td>19545</td>\n",
       "      <td>54610</td>\n",
       "      <td>29253</td>\n",
       "      <td>11.8</td>\n",
       "      <td>Wisconsin</td>\n",
       "      <td>WI</td>\n",
       "      <td>10.3939</td>\n",
       "    </tr>\n",
       "    <tr>\n",
       "      <th>3</th>\n",
       "      <td>17.7</td>\n",
       "      <td>8327388</td>\n",
       "      <td>53.6</td>\n",
       "      <td>286300</td>\n",
       "      <td>2030</td>\n",
       "      <td>712</td>\n",
       "      <td>1159</td>\n",
       "      <td>39350</td>\n",
       "      <td>60741</td>\n",
       "      <td>34212</td>\n",
       "      <td>14.7</td>\n",
       "      <td>New York</td>\n",
       "      <td>NY</td>\n",
       "      <td>11.1661</td>\n",
       "    </tr>\n",
       "    <tr>\n",
       "      <th>4</th>\n",
       "      <td>3.6</td>\n",
       "      <td>892226</td>\n",
       "      <td>72.5</td>\n",
       "      <td>107400</td>\n",
       "      <td>977</td>\n",
       "      <td>298</td>\n",
       "      <td>658</td>\n",
       "      <td>2719</td>\n",
       "      <td>42644</td>\n",
       "      <td>24002</td>\n",
       "      <td>17.9</td>\n",
       "      <td>West Virginia</td>\n",
       "      <td>WV</td>\n",
       "      <td>5.11479</td>\n",
       "    </tr>\n",
       "  </tbody>\n",
       "</table>\n",
       "</div>"
      ],
      "text/plain": [
       "  africa_american housing_units median_owner_occupied_rate  \\\n",
       "0            11.8       2792506                       66.8   \n",
       "1            22.2       4622575                       64.8   \n",
       "2             6.7       2695462                       67.0   \n",
       "3            17.7       8327388                       53.6   \n",
       "4             3.6        892226                       72.5   \n",
       "\n",
       "  median_owner_occupied_value median_owner_occupied_monthly_mortgage  \\\n",
       "0                      141200                                   1210   \n",
       "1                      157100                                   1243   \n",
       "2                      167000                                   1391   \n",
       "3                      286300                                   2030   \n",
       "4                      107400                                    977   \n",
       "\n",
       "  median_owner_occupied_monthly_no_mortgage median_rent building_permits  \\\n",
       "0                                       407         759            18811   \n",
       "1                                       376         816            67047   \n",
       "2                                       532         789            19545   \n",
       "3                                       712        1159            39350   \n",
       "4                                       298         658             2719   \n",
       "\n",
       "  median_household_income percapita_income poverty_rate      state_name  \\\n",
       "0                   49593            27044         14.0        Missouri   \n",
       "1                   48256            26779         15.4  North Carolina   \n",
       "2                   54610            29253         11.8       Wisconsin   \n",
       "3                   60741            34212         14.7        New York   \n",
       "4                   42644            24002         17.9   West Virginia   \n",
       "\n",
       "  addr_state house_price_change  \n",
       "0         MO            10.5202  \n",
       "1         NC            12.4686  \n",
       "2         WI            10.3939  \n",
       "3         NY            11.1661  \n",
       "4         WV            5.11479  "
      ]
     },
     "execution_count": 56,
     "metadata": {},
     "output_type": "execute_result"
    }
   ],
   "source": [
    "states_data[['africa_american','housing_units','median_owner_occupied_rate','median_owner_occupied_value',\n",
    "                      'median_owner_occupied_monthly_mortgage','median_owner_occupied_monthly_no_mortgage','median_rent',\n",
    "                      'building_permits','median_household_income','percapita_income','poverty_rate']] = states_data[['africa_american','housing_units','median_owner_occupied_rate','median_owner_occupied_value',\n",
    "                      'median_owner_occupied_monthly_mortgage','median_owner_occupied_monthly_no_mortgage','median_rent',\n",
    "                      'building_permits','median_household_income','percapita_income','poverty_rate']].replace([' ','%','\\$',','],'',regex = True)\n",
    "\n",
    "states_data.head()"
   ]
  },
  {
   "cell_type": "code",
   "execution_count": 57,
   "metadata": {
    "collapsed": true
   },
   "outputs": [],
   "source": [
    "states_data[['africa_american','median_owner_occupied_rate','poverty_rate','house_price_change']] = states_data[['africa_american','median_owner_occupied_rate','poverty_rate','house_price_change']].astype('float')"
   ]
  },
  {
   "cell_type": "code",
   "execution_count": 58,
   "metadata": {
    "collapsed": true
   },
   "outputs": [],
   "source": [
    "states_data[['housing_units','median_owner_occupied_value',\n",
    "            'median_owner_occupied_monthly_mortgage','median_owner_occupied_monthly_no_mortgage','median_rent',\n",
    "            'building_permits','median_household_income','percapita_income']] = states_data[['housing_units','median_owner_occupied_value',\n",
    "            'median_owner_occupied_monthly_mortgage','median_owner_occupied_monthly_no_mortgage','median_rent',\n",
    "            'building_permits','median_household_income','percapita_income']].astype('int')"
   ]
  },
  {
   "cell_type": "code",
   "execution_count": 59,
   "metadata": {},
   "outputs": [
    {
     "data": {
      "text/plain": [
       "africa_american                              float64\n",
       "housing_units                                  int64\n",
       "median_owner_occupied_rate                   float64\n",
       "median_owner_occupied_value                    int64\n",
       "median_owner_occupied_monthly_mortgage         int64\n",
       "median_owner_occupied_monthly_no_mortgage      int64\n",
       "median_rent                                    int64\n",
       "building_permits                               int64\n",
       "median_household_income                        int64\n",
       "percapita_income                               int64\n",
       "poverty_rate                                 float64\n",
       "state_name                                    object\n",
       "addr_state                                    object\n",
       "house_price_change                           float64\n",
       "dtype: object"
      ]
     },
     "execution_count": 59,
     "metadata": {},
     "output_type": "execute_result"
    }
   ],
   "source": [
    "states_data.dtypes"
   ]
  },
  {
   "cell_type": "code",
   "execution_count": 60,
   "metadata": {},
   "outputs": [
    {
     "data": {
      "text/plain": [
       "<matplotlib.axes._subplots.AxesSubplot at 0x1a765a2ba8>"
      ]
     },
     "execution_count": 60,
     "metadata": {},
     "output_type": "execute_result"
    },
    {
     "data": {
      "image/png": "[encoded data removed]",
      "text/plain": [
       "<matplotlib.figure.Figure at 0x1a765a2048>"
      ]
     },
     "metadata": {},
     "output_type": "display_data"
    }
   ],
   "source": [
    "%matplotlib inline\n",
    "sb.heatmap(states_data.corr())"
   ]
  },
  {
   "cell_type": "code",
   "execution_count": 61,
   "metadata": {},
   "outputs": [
    {
     "data": {
      "text/html": [
       "<div>\n",
       "<style>\n",
       "    .dataframe thead tr:only-child th {\n",
       "        text-align: right;\n",
       "    }\n",
       "\n",
       "    .dataframe thead th {\n",
       "        text-align: left;\n",
       "    }\n",
       "\n",
       "    .dataframe tbody tr th {\n",
       "        vertical-align: top;\n",
       "    }\n",
       "</style>\n",
       "<table border=\"1\" class=\"dataframe\">\n",
       "  <thead>\n",
       "    <tr style=\"text-align: right;\">\n",
       "      <th></th>\n",
       "      <th>africa_american</th>\n",
       "      <th>housing_units</th>\n",
       "      <th>median_owner_occupied_rate</th>\n",
       "      <th>median_owner_occupied_value</th>\n",
       "      <th>median_owner_occupied_monthly_mortgage</th>\n",
       "      <th>median_owner_occupied_monthly_no_mortgage</th>\n",
       "      <th>median_rent</th>\n",
       "      <th>building_permits</th>\n",
       "      <th>median_household_income</th>\n",
       "      <th>percapita_income</th>\n",
       "      <th>poverty_rate</th>\n",
       "      <th>house_price_change</th>\n",
       "    </tr>\n",
       "  </thead>\n",
       "  <tbody>\n",
       "    <tr>\n",
       "      <th>africa_american</th>\n",
       "      <td>1.000000</td>\n",
       "      <td>0.146775</td>\n",
       "      <td>-0.309935</td>\n",
       "      <td>0.057373</td>\n",
       "      <td>0.072242</td>\n",
       "      <td>-0.034425</td>\n",
       "      <td>0.169138</td>\n",
       "      <td>0.123618</td>\n",
       "      <td>-0.042883</td>\n",
       "      <td>0.164306</td>\n",
       "      <td>0.468441</td>\n",
       "      <td>-0.119126</td>\n",
       "    </tr>\n",
       "    <tr>\n",
       "      <th>housing_units</th>\n",
       "      <td>0.146775</td>\n",
       "      <td>1.000000</td>\n",
       "      <td>-0.263582</td>\n",
       "      <td>0.066456</td>\n",
       "      <td>0.186079</td>\n",
       "      <td>0.100722</td>\n",
       "      <td>0.242221</td>\n",
       "      <td>0.863506</td>\n",
       "      <td>0.001855</td>\n",
       "      <td>-0.000382</td>\n",
       "      <td>0.134411</td>\n",
       "      <td>0.259011</td>\n",
       "    </tr>\n",
       "    <tr>\n",
       "      <th>median_owner_occupied_rate</th>\n",
       "      <td>-0.309935</td>\n",
       "      <td>-0.263582</td>\n",
       "      <td>1.000000</td>\n",
       "      <td>-0.658191</td>\n",
       "      <td>-0.584627</td>\n",
       "      <td>-0.275553</td>\n",
       "      <td>-0.610515</td>\n",
       "      <td>-0.231540</td>\n",
       "      <td>-0.361854</td>\n",
       "      <td>-0.502096</td>\n",
       "      <td>-0.133278</td>\n",
       "      <td>-0.315581</td>\n",
       "    </tr>\n",
       "    <tr>\n",
       "      <th>median_owner_occupied_value</th>\n",
       "      <td>0.057373</td>\n",
       "      <td>0.066456</td>\n",
       "      <td>-0.658191</td>\n",
       "      <td>1.000000</td>\n",
       "      <td>0.905923</td>\n",
       "      <td>0.554739</td>\n",
       "      <td>0.910332</td>\n",
       "      <td>0.006422</td>\n",
       "      <td>0.790058</td>\n",
       "      <td>0.742262</td>\n",
       "      <td>-0.385703</td>\n",
       "      <td>0.124304</td>\n",
       "    </tr>\n",
       "    <tr>\n",
       "      <th>median_owner_occupied_monthly_mortgage</th>\n",
       "      <td>0.072242</td>\n",
       "      <td>0.186079</td>\n",
       "      <td>-0.584627</td>\n",
       "      <td>0.905923</td>\n",
       "      <td>1.000000</td>\n",
       "      <td>0.820918</td>\n",
       "      <td>0.931121</td>\n",
       "      <td>0.077823</td>\n",
       "      <td>0.895060</td>\n",
       "      <td>0.851936</td>\n",
       "      <td>-0.505209</td>\n",
       "      <td>0.039955</td>\n",
       "    </tr>\n",
       "    <tr>\n",
       "      <th>median_owner_occupied_monthly_no_mortgage</th>\n",
       "      <td>-0.034425</td>\n",
       "      <td>0.100722</td>\n",
       "      <td>-0.275553</td>\n",
       "      <td>0.554739</td>\n",
       "      <td>0.820918</td>\n",
       "      <td>1.000000</td>\n",
       "      <td>0.615117</td>\n",
       "      <td>-0.040165</td>\n",
       "      <td>0.747950</td>\n",
       "      <td>0.770410</td>\n",
       "      <td>-0.560127</td>\n",
       "      <td>-0.116285</td>\n",
       "    </tr>\n",
       "    <tr>\n",
       "      <th>median_rent</th>\n",
       "      <td>0.169138</td>\n",
       "      <td>0.242221</td>\n",
       "      <td>-0.610515</td>\n",
       "      <td>0.910332</td>\n",
       "      <td>0.931121</td>\n",
       "      <td>0.615117</td>\n",
       "      <td>1.000000</td>\n",
       "      <td>0.190732</td>\n",
       "      <td>0.842343</td>\n",
       "      <td>0.751198</td>\n",
       "      <td>-0.422066</td>\n",
       "      <td>0.145418</td>\n",
       "    </tr>\n",
       "    <tr>\n",
       "      <th>building_permits</th>\n",
       "      <td>0.123618</td>\n",
       "      <td>0.863506</td>\n",
       "      <td>-0.231540</td>\n",
       "      <td>0.006422</td>\n",
       "      <td>0.077823</td>\n",
       "      <td>-0.040165</td>\n",
       "      <td>0.190732</td>\n",
       "      <td>1.000000</td>\n",
       "      <td>-0.047097</td>\n",
       "      <td>-0.076033</td>\n",
       "      <td>0.131652</td>\n",
       "      <td>0.439077</td>\n",
       "    </tr>\n",
       "    <tr>\n",
       "      <th>median_household_income</th>\n",
       "      <td>-0.042883</td>\n",
       "      <td>0.001855</td>\n",
       "      <td>-0.361854</td>\n",
       "      <td>0.790058</td>\n",
       "      <td>0.895060</td>\n",
       "      <td>0.747950</td>\n",
       "      <td>0.842343</td>\n",
       "      <td>-0.047097</td>\n",
       "      <td>1.000000</td>\n",
       "      <td>0.879760</td>\n",
       "      <td>-0.733362</td>\n",
       "      <td>-0.043972</td>\n",
       "    </tr>\n",
       "    <tr>\n",
       "      <th>percapita_income</th>\n",
       "      <td>0.164306</td>\n",
       "      <td>-0.000382</td>\n",
       "      <td>-0.502096</td>\n",
       "      <td>0.742262</td>\n",
       "      <td>0.851936</td>\n",
       "      <td>0.770410</td>\n",
       "      <td>0.751198</td>\n",
       "      <td>-0.076033</td>\n",
       "      <td>0.879760</td>\n",
       "      <td>1.000000</td>\n",
       "      <td>-0.512298</td>\n",
       "      <td>-0.081842</td>\n",
       "    </tr>\n",
       "    <tr>\n",
       "      <th>poverty_rate</th>\n",
       "      <td>0.468441</td>\n",
       "      <td>0.134411</td>\n",
       "      <td>-0.133278</td>\n",
       "      <td>-0.385703</td>\n",
       "      <td>-0.505209</td>\n",
       "      <td>-0.560127</td>\n",
       "      <td>-0.422066</td>\n",
       "      <td>0.131652</td>\n",
       "      <td>-0.733362</td>\n",
       "      <td>-0.512298</td>\n",
       "      <td>1.000000</td>\n",
       "      <td>-0.026334</td>\n",
       "    </tr>\n",
       "    <tr>\n",
       "      <th>house_price_change</th>\n",
       "      <td>-0.119126</td>\n",
       "      <td>0.259011</td>\n",
       "      <td>-0.315581</td>\n",
       "      <td>0.124304</td>\n",
       "      <td>0.039955</td>\n",
       "      <td>-0.116285</td>\n",
       "      <td>0.145418</td>\n",
       "      <td>0.439077</td>\n",
       "      <td>-0.043972</td>\n",
       "      <td>-0.081842</td>\n",
       "      <td>-0.026334</td>\n",
       "      <td>1.000000</td>\n",
       "    </tr>\n",
       "  </tbody>\n",
       "</table>\n",
       "</div>"
      ],
      "text/plain": [
       "                                           africa_american  housing_units  \\\n",
       "africa_american                                   1.000000       0.146775   \n",
       "housing_units                                     0.146775       1.000000   \n",
       "median_owner_occupied_rate                       -0.309935      -0.263582   \n",
       "median_owner_occupied_value                       0.057373       0.066456   \n",
       "median_owner_occupied_monthly_mortgage            0.072242       0.186079   \n",
       "median_owner_occupied_monthly_no_mortgage        -0.034425       0.100722   \n",
       "median_rent                                       0.169138       0.242221   \n",
       "building_permits                                  0.123618       0.863506   \n",
       "median_household_income                          -0.042883       0.001855   \n",
       "percapita_income                                  0.164306      -0.000382   \n",
       "poverty_rate                                      0.468441       0.134411   \n",
       "house_price_change                               -0.119126       0.259011   \n",
       "\n",
       "                                           median_owner_occupied_rate  \\\n",
       "africa_american                                             -0.309935   \n",
       "housing_units                                               -0.263582   \n",
       "median_owner_occupied_rate                                   1.000000   \n",
       "median_owner_occupied_value                                 -0.658191   \n",
       "median_owner_occupied_monthly_mortgage                      -0.584627   \n",
       "median_owner_occupied_monthly_no_mortgage                   -0.275553   \n",
       "median_rent                                                 -0.610515   \n",
       "building_permits                                            -0.231540   \n",
       "median_household_income                                     -0.361854   \n",
       "percapita_income                                            -0.502096   \n",
       "poverty_rate                                                -0.133278   \n",
       "house_price_change                                          -0.315581   \n",
       "\n",
       "                                           median_owner_occupied_value  \\\n",
       "africa_american                                               0.057373   \n",
       "housing_units                                                 0.066456   \n",
       "median_owner_occupied_rate                                   -0.658191   \n",
       "median_owner_occupied_value                                   1.000000   \n",
       "median_owner_occupied_monthly_mortgage                        0.905923   \n",
       "median_owner_occupied_monthly_no_mortgage                     0.554739   \n",
       "median_rent                                                   0.910332   \n",
       "building_permits                                              0.006422   \n",
       "median_household_income                                       0.790058   \n",
       "percapita_income                                              0.742262   \n",
       "poverty_rate                                                 -0.385703   \n",
       "house_price_change                                            0.124304   \n",
       "\n",
       "                                           median_owner_occupied_monthly_mortgage  \\\n",
       "africa_american                                                          0.072242   \n",
       "housing_units                                                            0.186079   \n",
       "median_owner_occupied_rate                                              -0.584627   \n",
       "median_owner_occupied_value                                              0.905923   \n",
       "median_owner_occupied_monthly_mortgage                                   1.000000   \n",
       "median_owner_occupied_monthly_no_mortgage                                0.820918   \n",
       "median_rent                                                              0.931121   \n",
       "building_permits                                                         0.077823   \n",
       "median_household_income                                                  0.895060   \n",
       "percapita_income                                                         0.851936   \n",
       "poverty_rate                                                            -0.505209   \n",
       "house_price_change                                                       0.039955   \n",
       "\n",
       "                                           median_owner_occupied_monthly_no_mortgage  \\\n",
       "africa_american                                                            -0.034425   \n",
       "housing_units                                                               0.100722   \n",
       "median_owner_occupied_rate                                                 -0.275553   \n",
       "median_owner_occupied_value                                                 0.554739   \n",
       "median_owner_occupied_monthly_mortgage                                      0.820918   \n",
       "median_owner_occupied_monthly_no_mortgage                                   1.000000   \n",
       "median_rent                                                                 0.615117   \n",
       "building_permits                                                           -0.040165   \n",
       "median_household_income                                                     0.747950   \n",
       "percapita_income                                                            0.770410   \n",
       "poverty_rate                                                               -0.560127   \n",
       "house_price_change                                                         -0.116285   \n",
       "\n",
       "                                           median_rent  building_permits  \\\n",
       "africa_american                               0.169138          0.123618   \n",
       "housing_units                                 0.242221          0.863506   \n",
       "median_owner_occupied_rate                   -0.610515         -0.231540   \n",
       "median_owner_occupied_value                   0.910332          0.006422   \n",
       "median_owner_occupied_monthly_mortgage        0.931121          0.077823   \n",
       "median_owner_occupied_monthly_no_mortgage     0.615117         -0.040165   \n",
       "median_rent                                   1.000000          0.190732   \n",
       "building_permits                              0.190732          1.000000   \n",
       "median_household_income                       0.842343         -0.047097   \n",
       "percapita_income                              0.751198         -0.076033   \n",
       "poverty_rate                                 -0.422066          0.131652   \n",
       "house_price_change                            0.145418          0.439077   \n",
       "\n",
       "                                           median_household_income  \\\n",
       "africa_american                                          -0.042883   \n",
       "housing_units                                             0.001855   \n",
       "median_owner_occupied_rate                               -0.361854   \n",
       "median_owner_occupied_value                               0.790058   \n",
       "median_owner_occupied_monthly_mortgage                    0.895060   \n",
       "median_owner_occupied_monthly_no_mortgage                 0.747950   \n",
       "median_rent                                               0.842343   \n",
       "building_permits                                         -0.047097   \n",
       "median_household_income                                   1.000000   \n",
       "percapita_income                                          0.879760   \n",
       "poverty_rate                                             -0.733362   \n",
       "house_price_change                                       -0.043972   \n",
       "\n",
       "                                           percapita_income  poverty_rate  \\\n",
       "africa_american                                    0.164306      0.468441   \n",
       "housing_units                                     -0.000382      0.134411   \n",
       "median_owner_occupied_rate                        -0.502096     -0.133278   \n",
       "median_owner_occupied_value                        0.742262     -0.385703   \n",
       "median_owner_occupied_monthly_mortgage             0.851936     -0.505209   \n",
       "median_owner_occupied_monthly_no_mortgage          0.770410     -0.560127   \n",
       "median_rent                                        0.751198     -0.422066   \n",
       "building_permits                                  -0.076033      0.131652   \n",
       "median_household_income                            0.879760     -0.733362   \n",
       "percapita_income                                   1.000000     -0.512298   \n",
       "poverty_rate                                      -0.512298      1.000000   \n",
       "house_price_change                                -0.081842     -0.026334   \n",
       "\n",
       "                                           house_price_change  \n",
       "africa_american                                     -0.119126  \n",
       "housing_units                                        0.259011  \n",
       "median_owner_occupied_rate                          -0.315581  \n",
       "median_owner_occupied_value                          0.124304  \n",
       "median_owner_occupied_monthly_mortgage               0.039955  \n",
       "median_owner_occupied_monthly_no_mortgage           -0.116285  \n",
       "median_rent                                          0.145418  \n",
       "building_permits                                     0.439077  \n",
       "median_household_income                             -0.043972  \n",
       "percapita_income                                    -0.081842  \n",
       "poverty_rate                                        -0.026334  \n",
       "house_price_change                                   1.000000  "
      ]
     },
     "execution_count": 61,
     "metadata": {},
     "output_type": "execute_result"
    }
   ],
   "source": [
    "states_data.corr()"
   ]
  },
  {
   "cell_type": "code",
   "execution_count": 62,
   "metadata": {},
   "outputs": [
    {
     "data": {
      "text/html": [
       "<div>\n",
       "<style>\n",
       "    .dataframe thead tr:only-child th {\n",
       "        text-align: right;\n",
       "    }\n",
       "\n",
       "    .dataframe thead th {\n",
       "        text-align: left;\n",
       "    }\n",
       "\n",
       "    .dataframe tbody tr th {\n",
       "        vertical-align: top;\n",
       "    }\n",
       "</style>\n",
       "<table border=\"1\" class=\"dataframe\">\n",
       "  <thead>\n",
       "    <tr style=\"text-align: right;\">\n",
       "      <th></th>\n",
       "      <th>home_buying</th>\n",
       "      <th>home_improvement</th>\n",
       "      <th>home_related_loans</th>\n",
       "      <th>moving</th>\n",
       "      <th>africa_american</th>\n",
       "      <th>housing_units</th>\n",
       "      <th>median_owner_occupied_rate</th>\n",
       "      <th>median_owner_occupied_value</th>\n",
       "      <th>median_owner_occupied_monthly_mortgage</th>\n",
       "      <th>median_owner_occupied_monthly_no_mortgage</th>\n",
       "      <th>median_rent</th>\n",
       "      <th>building_permits</th>\n",
       "      <th>median_household_income</th>\n",
       "      <th>percapita_income</th>\n",
       "      <th>poverty_rate</th>\n",
       "      <th>state_name</th>\n",
       "      <th>addr_state</th>\n",
       "      <th>house_price_change</th>\n",
       "    </tr>\n",
       "  </thead>\n",
       "  <tbody>\n",
       "    <tr>\n",
       "      <th>AK</th>\n",
       "      <td>4</td>\n",
       "      <td>13</td>\n",
       "      <td>17</td>\n",
       "      <td>0</td>\n",
       "      <td>3.7</td>\n",
       "      <td>316952</td>\n",
       "      <td>63.7</td>\n",
       "      <td>257100</td>\n",
       "      <td>1846</td>\n",
       "      <td>558</td>\n",
       "      <td>1173</td>\n",
       "      <td>1539</td>\n",
       "      <td>74444</td>\n",
       "      <td>34191</td>\n",
       "      <td>9.9</td>\n",
       "      <td>Alaska</td>\n",
       "      <td>AK</td>\n",
       "      <td>3.132120</td>\n",
       "    </tr>\n",
       "    <tr>\n",
       "      <th>AL</th>\n",
       "      <td>19</td>\n",
       "      <td>92</td>\n",
       "      <td>116</td>\n",
       "      <td>5</td>\n",
       "      <td>26.8</td>\n",
       "      <td>2258596</td>\n",
       "      <td>68.5</td>\n",
       "      <td>128500</td>\n",
       "      <td>1137</td>\n",
       "      <td>343</td>\n",
       "      <td>728</td>\n",
       "      <td>14799</td>\n",
       "      <td>44758</td>\n",
       "      <td>24736</td>\n",
       "      <td>17.1</td>\n",
       "      <td>Alabama</td>\n",
       "      <td>AL</td>\n",
       "      <td>7.232338</td>\n",
       "    </tr>\n",
       "    <tr>\n",
       "      <th>AR</th>\n",
       "      <td>10</td>\n",
       "      <td>48</td>\n",
       "      <td>61</td>\n",
       "      <td>3</td>\n",
       "      <td>15.7</td>\n",
       "      <td>1370111</td>\n",
       "      <td>65.7</td>\n",
       "      <td>114700</td>\n",
       "      <td>1021</td>\n",
       "      <td>329</td>\n",
       "      <td>689</td>\n",
       "      <td>10795</td>\n",
       "      <td>42336</td>\n",
       "      <td>23401</td>\n",
       "      <td>17.2</td>\n",
       "      <td>Arkansas</td>\n",
       "      <td>AR</td>\n",
       "      <td>7.882153</td>\n",
       "    </tr>\n",
       "    <tr>\n",
       "      <th>AZ</th>\n",
       "      <td>33</td>\n",
       "      <td>185</td>\n",
       "      <td>239</td>\n",
       "      <td>21</td>\n",
       "      <td>5.0</td>\n",
       "      <td>2999157</td>\n",
       "      <td>62.6</td>\n",
       "      <td>176900</td>\n",
       "      <td>1332</td>\n",
       "      <td>385</td>\n",
       "      <td>937</td>\n",
       "      <td>39472</td>\n",
       "      <td>51340</td>\n",
       "      <td>26686</td>\n",
       "      <td>16.4</td>\n",
       "      <td>Arizona</td>\n",
       "      <td>AZ</td>\n",
       "      <td>17.624040</td>\n",
       "    </tr>\n",
       "    <tr>\n",
       "      <th>CA</th>\n",
       "      <td>146</td>\n",
       "      <td>774</td>\n",
       "      <td>1014</td>\n",
       "      <td>94</td>\n",
       "      <td>6.5</td>\n",
       "      <td>14176670</td>\n",
       "      <td>54.1</td>\n",
       "      <td>409300</td>\n",
       "      <td>2157</td>\n",
       "      <td>517</td>\n",
       "      <td>1297</td>\n",
       "      <td>114780</td>\n",
       "      <td>63783</td>\n",
       "      <td>31458</td>\n",
       "      <td>14.3</td>\n",
       "      <td>California</td>\n",
       "      <td>CA</td>\n",
       "      <td>16.240577</td>\n",
       "    </tr>\n",
       "  </tbody>\n",
       "</table>\n",
       "</div>"
      ],
      "text/plain": [
       "    home_buying  home_improvement  home_related_loans  moving  \\\n",
       "AK            4                13                  17       0   \n",
       "AL           19                92                 116       5   \n",
       "AR           10                48                  61       3   \n",
       "AZ           33               185                 239      21   \n",
       "CA          146               774                1014      94   \n",
       "\n",
       "    africa_american  housing_units  median_owner_occupied_rate  \\\n",
       "AK              3.7         316952                        63.7   \n",
       "AL             26.8        2258596                        68.5   \n",
       "AR             15.7        1370111                        65.7   \n",
       "AZ              5.0        2999157                        62.6   \n",
       "CA              6.5       14176670                        54.1   \n",
       "\n",
       "    median_owner_occupied_value  median_owner_occupied_monthly_mortgage  \\\n",
       "AK                       257100                                    1846   \n",
       "AL                       128500                                    1137   \n",
       "AR                       114700                                    1021   \n",
       "AZ                       176900                                    1332   \n",
       "CA                       409300                                    2157   \n",
       "\n",
       "    median_owner_occupied_monthly_no_mortgage  median_rent  building_permits  \\\n",
       "AK                                        558         1173              1539   \n",
       "AL                                        343          728             14799   \n",
       "AR                                        329          689             10795   \n",
       "AZ                                        385          937             39472   \n",
       "CA                                        517         1297            114780   \n",
       "\n",
       "    median_household_income  percapita_income  poverty_rate  state_name  \\\n",
       "AK                    74444             34191           9.9      Alaska   \n",
       "AL                    44758             24736          17.1     Alabama   \n",
       "AR                    42336             23401          17.2    Arkansas   \n",
       "AZ                    51340             26686          16.4     Arizona   \n",
       "CA                    63783             31458          14.3  California   \n",
       "\n",
       "   addr_state  house_price_change  \n",
       "AK         AK            3.132120  \n",
       "AL         AL            7.232338  \n",
       "AR         AR            7.882153  \n",
       "AZ         AZ           17.624040  \n",
       "CA         CA           16.240577  "
      ]
     },
     "execution_count": 62,
     "metadata": {},
     "output_type": "execute_result"
    }
   ],
   "source": [
    "states_data.index = states_data['addr_state']\n",
    "states_data.head()\n",
    "home_df = home_df.join(states_data)\n",
    "home_df.head()"
   ]
  },
  {
   "cell_type": "code",
   "execution_count": 63,
   "metadata": {},
   "outputs": [
    {
     "data": {
      "text/plain": [
       "<matplotlib.axes._subplots.AxesSubplot at 0x1a7397a828>"
      ]
     },
     "execution_count": 63,
     "metadata": {},
     "output_type": "execute_result"
    },
    {
     "data": {
      "image/png": "[encoded data removed]",
      "text/plain": [
       "<matplotlib.figure.Figure at 0x1a76592b38>"
      ]
     },
     "metadata": {},
     "output_type": "display_data"
    }
   ],
   "source": [
    "sb.heatmap(home_df.corr())"
   ]
  },
  {
   "cell_type": "code",
   "execution_count": 64,
   "metadata": {},
   "outputs": [
    {
     "name": "stderr",
     "output_type": "stream",
     "text": [
      "/Applications/anaconda3/lib/python3.6/site-packages/statsmodels/compat/pandas.py:56: FutureWarning:\n",
      "\n",
      "The pandas.core.datetools module is deprecated and will be removed in a future version. Please use the pandas.tseries module instead.\n",
      "\n"
     ]
    }
   ],
   "source": [
    "import statsmodels.api as sm"
   ]
  },
  {
   "cell_type": "code",
   "execution_count": 65,
   "metadata": {},
   "outputs": [
    {
     "data": {
      "text/html": [
       "<table class=\"simpletable\">\n",
       "<caption>OLS Regression Results</caption>\n",
       "<tr>\n",
       "  <th>Dep. Variable:</th>    <td>home_related_loans</td> <th>  R-squared:         </th> <td>   0.985</td>\n",
       "</tr>\n",
       "<tr>\n",
       "  <th>Model:</th>                    <td>OLS</td>        <th>  Adj. R-squared:    </th> <td>   0.980</td>\n",
       "</tr>\n",
       "<tr>\n",
       "  <th>Method:</th>              <td>Least Squares</td>   <th>  F-statistic:       </th> <td>   207.0</td>\n",
       "</tr>\n",
       "<tr>\n",
       "  <th>Date:</th>              <td>Sat, 07 Jul 2018</td>  <th>  Prob (F-statistic):</th> <td>9.54e-31</td>\n",
       "</tr>\n",
       "<tr>\n",
       "  <th>Time:</th>                  <td>13:19:54</td>      <th>  Log-Likelihood:    </th> <td> -248.35</td>\n",
       "</tr>\n",
       "<tr>\n",
       "  <th>No. Observations:</th>       <td>    50</td>       <th>  AIC:               </th> <td>   520.7</td>\n",
       "</tr>\n",
       "<tr>\n",
       "  <th>Df Residuals:</th>           <td>    38</td>       <th>  BIC:               </th> <td>   543.6</td>\n",
       "</tr>\n",
       "<tr>\n",
       "  <th>Df Model:</th>               <td>    12</td>       <th>                     </th>     <td> </td>   \n",
       "</tr>\n",
       "<tr>\n",
       "  <th>Covariance Type:</th>       <td>nonrobust</td>     <th>                     </th>     <td> </td>   \n",
       "</tr>\n",
       "</table>\n",
       "<table class=\"simpletable\">\n",
       "<tr>\n",
       "                      <td></td>                         <th>coef</th>     <th>std err</th>      <th>t</th>      <th>P>|t|</th>  <th>[0.025</th>    <th>0.975]</th>  \n",
       "</tr>\n",
       "<tr>\n",
       "  <th>africa_american</th>                           <td>   -0.8223</td> <td>    0.780</td> <td>   -1.055</td> <td> 0.298</td> <td>   -2.401</td> <td>    0.756</td>\n",
       "</tr>\n",
       "<tr>\n",
       "  <th>housing_units</th>                             <td>   5.8e-05</td> <td> 4.79e-06</td> <td>   12.103</td> <td> 0.000</td> <td> 4.83e-05</td> <td> 6.77e-05</td>\n",
       "</tr>\n",
       "<tr>\n",
       "  <th>median_owner_occupied_rate</th>                <td>   -1.6725</td> <td>    1.176</td> <td>   -1.422</td> <td> 0.163</td> <td>   -4.054</td> <td>    0.709</td>\n",
       "</tr>\n",
       "<tr>\n",
       "  <th>median_owner_occupied_value</th>               <td>   -0.0006</td> <td>    0.000</td> <td>   -1.882</td> <td> 0.067</td> <td>   -0.001</td> <td>  4.7e-05</td>\n",
       "</tr>\n",
       "<tr>\n",
       "  <th>median_owner_occupied_monthly_mortgage</th>    <td>    0.0855</td> <td>    0.188</td> <td>    0.455</td> <td> 0.652</td> <td>   -0.295</td> <td>    0.466</td>\n",
       "</tr>\n",
       "<tr>\n",
       "  <th>median_owner_occupied_monthly_no_mortgage</th> <td>    0.0350</td> <td>    0.194</td> <td>    0.181</td> <td> 0.858</td> <td>   -0.357</td> <td>    0.427</td>\n",
       "</tr>\n",
       "<tr>\n",
       "  <th>median_rent</th>                               <td>    0.3660</td> <td>    0.138</td> <td>    2.653</td> <td> 0.012</td> <td>    0.087</td> <td>    0.645</td>\n",
       "</tr>\n",
       "<tr>\n",
       "  <th>building_permits</th>                          <td>    0.0011</td> <td>    0.000</td> <td>    2.721</td> <td> 0.010</td> <td>    0.000</td> <td>    0.002</td>\n",
       "</tr>\n",
       "<tr>\n",
       "  <th>median_household_income</th>                   <td>   -0.0045</td> <td>    0.003</td> <td>   -1.375</td> <td> 0.177</td> <td>   -0.011</td> <td>    0.002</td>\n",
       "</tr>\n",
       "<tr>\n",
       "  <th>percapita_income</th>                          <td>    0.0017</td> <td>    0.003</td> <td>    0.503</td> <td> 0.618</td> <td>   -0.005</td> <td>    0.009</td>\n",
       "</tr>\n",
       "<tr>\n",
       "  <th>poverty_rate</th>                              <td>   -1.8725</td> <td>    3.321</td> <td>   -0.564</td> <td> 0.576</td> <td>   -8.595</td> <td>    4.850</td>\n",
       "</tr>\n",
       "<tr>\n",
       "  <th>house_price_change</th>                        <td>   -1.2349</td> <td>    1.337</td> <td>   -0.924</td> <td> 0.362</td> <td>   -3.942</td> <td>    1.472</td>\n",
       "</tr>\n",
       "</table>\n",
       "<table class=\"simpletable\">\n",
       "<tr>\n",
       "  <th>Omnibus:</th>       <td> 1.778</td> <th>  Durbin-Watson:     </th> <td>   1.831</td>\n",
       "</tr>\n",
       "<tr>\n",
       "  <th>Prob(Omnibus):</th> <td> 0.411</td> <th>  Jarque-Bera (JB):  </th> <td>   1.597</td>\n",
       "</tr>\n",
       "<tr>\n",
       "  <th>Skew:</th>          <td> 0.314</td> <th>  Prob(JB):          </th> <td>   0.450</td>\n",
       "</tr>\n",
       "<tr>\n",
       "  <th>Kurtosis:</th>      <td> 2.390</td> <th>  Cond. No.          </th> <td>2.42e+06</td>\n",
       "</tr>\n",
       "</table>"
      ],
      "text/plain": [
       "<class 'statsmodels.iolib.summary.Summary'>\n",
       "\"\"\"\n",
       "                            OLS Regression Results                            \n",
       "==============================================================================\n",
       "Dep. Variable:     home_related_loans   R-squared:                       0.985\n",
       "Model:                            OLS   Adj. R-squared:                  0.980\n",
       "Method:                 Least Squares   F-statistic:                     207.0\n",
       "Date:                Sat, 07 Jul 2018   Prob (F-statistic):           9.54e-31\n",
       "Time:                        13:19:54   Log-Likelihood:                -248.35\n",
       "No. Observations:                  50   AIC:                             520.7\n",
       "Df Residuals:                      38   BIC:                             543.6\n",
       "Df Model:                          12                                         \n",
       "Covariance Type:            nonrobust                                         \n",
       "=============================================================================================================\n",
       "                                                coef    std err          t      P>|t|      [0.025      0.975]\n",
       "-------------------------------------------------------------------------------------------------------------\n",
       "africa_american                              -0.8223      0.780     -1.055      0.298      -2.401       0.756\n",
       "housing_units                                5.8e-05   4.79e-06     12.103      0.000    4.83e-05    6.77e-05\n",
       "median_owner_occupied_rate                   -1.6725      1.176     -1.422      0.163      -4.054       0.709\n",
       "median_owner_occupied_value                  -0.0006      0.000     -1.882      0.067      -0.001     4.7e-05\n",
       "median_owner_occupied_monthly_mortgage        0.0855      0.188      0.455      0.652      -0.295       0.466\n",
       "median_owner_occupied_monthly_no_mortgage     0.0350      0.194      0.181      0.858      -0.357       0.427\n",
       "median_rent                                   0.3660      0.138      2.653      0.012       0.087       0.645\n",
       "building_permits                              0.0011      0.000      2.721      0.010       0.000       0.002\n",
       "median_household_income                      -0.0045      0.003     -1.375      0.177      -0.011       0.002\n",
       "percapita_income                              0.0017      0.003      0.503      0.618      -0.005       0.009\n",
       "poverty_rate                                 -1.8725      3.321     -0.564      0.576      -8.595       4.850\n",
       "house_price_change                           -1.2349      1.337     -0.924      0.362      -3.942       1.472\n",
       "==============================================================================\n",
       "Omnibus:                        1.778   Durbin-Watson:                   1.831\n",
       "Prob(Omnibus):                  0.411   Jarque-Bera (JB):                1.597\n",
       "Skew:                           0.314   Prob(JB):                        0.450\n",
       "Kurtosis:                       2.390   Cond. No.                     2.42e+06\n",
       "==============================================================================\n",
       "\n",
       "Warnings:\n",
       "[1] Standard Errors assume that the covariance matrix of the errors is correctly specified.\n",
       "[2] The condition number is large, 2.42e+06. This might indicate that there are\n",
       "strong multicollinearity or other numerical problems.\n",
       "\"\"\""
      ]
     },
     "execution_count": 65,
     "metadata": {},
     "output_type": "execute_result"
    }
   ],
   "source": [
    "X = home_df[['africa_american', 'housing_units', 'median_owner_occupied_rate',\n",
    "       'median_owner_occupied_value', 'median_owner_occupied_monthly_mortgage',\n",
    "       'median_owner_occupied_monthly_no_mortgage', 'median_rent',\n",
    "       'building_permits', 'median_household_income', 'percapita_income',\n",
    "       'poverty_rate', 'house_price_change']]\n",
    "y = home_df['home_related_loans']\n",
    "model = sm.OLS(y, X.astype(float)).fit()\n",
    "predictions = model.predict(X)\n",
    "model.summary()"
   ]
  },
  {
   "cell_type": "code",
   "execution_count": 66,
   "metadata": {},
   "outputs": [
    {
     "data": {
      "text/plain": [
       "Index(['home_buying', 'home_improvement', 'home_related_loans', 'moving',\n",
       "       'africa_american', 'housing_units', 'median_owner_occupied_rate',\n",
       "       'median_owner_occupied_value', 'median_owner_occupied_monthly_mortgage',\n",
       "       'median_owner_occupied_monthly_no_mortgage', 'median_rent',\n",
       "       'building_permits', 'median_household_income', 'percapita_income',\n",
       "       'poverty_rate', 'state_name', 'addr_state', 'house_price_change'],\n",
       "      dtype='object')"
      ]
     },
     "execution_count": 66,
     "metadata": {},
     "output_type": "execute_result"
    }
   ],
   "source": [
    "home_df.columns"
   ]
  },
  {
   "cell_type": "code",
   "execution_count": null,
   "metadata": {
    "collapsed": true
   },
   "outputs": [],
   "source": []
  },
  {
   "cell_type": "code",
   "execution_count": null,
   "metadata": {
    "collapsed": true
   },
   "outputs": [],
   "source": []
  },
  {
   "cell_type": "code",
   "execution_count": null,
   "metadata": {
    "collapsed": true
   },
   "outputs": [],
   "source": []
  }
 ],
 "metadata": {
  "kernelspec": {
   "display_name": "Python 3",
   "language": "python",
   "name": "python3"
  },
  "language_info": {
   "codemirror_mode": {
    "name": "ipython",
    "version": 3
   },
   "file_extension": ".py",
   "mimetype": "text/x-python",
   "name": "python",
   "nbconvert_exporter": "python",
   "pygments_lexer": "ipython3",
   "version": "3.6.3"
  }
 },
 "nbformat": 4,
 "nbformat_minor": 2
}
