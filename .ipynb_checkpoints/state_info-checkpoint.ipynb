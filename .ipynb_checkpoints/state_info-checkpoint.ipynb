{
 "cells": [
  {
   "cell_type": "code",
   "execution_count": 14,
   "metadata": {
    "collapsed": true
   },
   "outputs": [],
   "source": [
    "import pandas as pd\n",
    "import seaborn as sb\n",
    "import numpy as np\n",
    "import matplotlib\n",
    "import matplotlib.pyplot as plt\n",
    "import missingno as msno\n",
    "from itertools import islice\n",
    "import csv"
   ]
  },
  {
   "cell_type": "code",
   "execution_count": 43,
   "metadata": {},
   "outputs": [],
   "source": [
    "state_hash =  {'AL': 'Alabama',\n",
    "    'AK': 'Alaska',\n",
    "    'AS': 'American Samoa',\n",
    "    'AZ': 'Arizona',\n",
    "    'AR': 'Arkansas',\n",
    "    'CA': 'California',\n",
    "    'CO': 'Colorado',\n",
    "    'CT': 'Connecticut',\n",
    "    'DE': 'Delaware',\n",
    "    'DC': 'District Of Columbia',\n",
    "    'FM': 'Federated States Of Micronesia',\n",
    "    'FL': 'Florida',\n",
    "    'GA': 'Georgia',\n",
    "    'GU': 'Guam',\n",
    "    'HI': 'Hawaii',\n",
    "    'ID': 'Idaho',\n",
    "    'IL': 'Illinois',\n",
    "    'IN': 'Indiana',\n",
    "    'IA': 'Iowa',\n",
    "    'KS': 'Kansas',\n",
    "    'KY': 'Kentucky',\n",
    "    'LA': 'Louisiana',\n",
    "    'ME': 'Maine',\n",
    "    'MH': 'Marshall Islands',\n",
    "    'MD': 'Maryland',\n",
    "    'MA': 'Massachusetts',\n",
    "    'MI': 'Michigan',\n",
    "    'MN': 'Minnesota',\n",
    "    'MS': 'Mississippi',\n",
    "    'MO': 'Missouri',\n",
    "    'MT': 'Montana',\n",
    "    'NE': 'Nebraska',\n",
    "    'NV': 'Nevada',\n",
    "    'NH': 'New Hampshire',\n",
    "    'NJ': 'New Jersey',\n",
    "    'NM': 'New Mexico',\n",
    "    'NY': 'New York',\n",
    "    'NC': 'North Carolina',\n",
    "    'ND': 'North Dakota',\n",
    "    'MP': 'Northern Mariana Islands',\n",
    "    'OH': 'Ohio',\n",
    "    'OK': 'Oklahoma',\n",
    "    'OR': 'Oregon',\n",
    "    'PW': 'Palau',\n",
    "    'PA': 'Pennsylvania',\n",
    "    'PR': 'Puerto Rico',\n",
    "    'RI': 'Rhode Island',\n",
    "    'SC': 'South Carolina',\n",
    "    'SD': 'South Dakota',\n",
    "    'TN': 'Tennessee',\n",
    "    'TX': 'Texas',\n",
    "    'UT': 'Utah',\n",
    "    'VT': 'Vermont',\n",
    "    'VI': 'Virgin Islands',\n",
    "    'VA': 'Virginia',\n",
    "    'WA': 'Washington',\n",
    "    'WV': 'West Virginia',\n",
    "    'WI': 'Wisconsin',\n",
    "    'WY': 'Wyoming'\n",
    "  };"
   ]
  },
  {
   "cell_type": "code",
   "execution_count": 44,
   "metadata": {},
   "outputs": [
    {
     "name": "stdout",
     "output_type": "stream",
     "text": [
      "{'MO': 'Missouri', 'NC': 'North Carolina', 'WI': 'Wisconsin', 'NY': 'New York', 'WV': 'West Virginia', 'LA': 'Louisiana', 'TX': 'Texas', 'NJ': 'New Jersey', 'FL': 'Florida', 'TN': 'Tennessee', 'GA': 'Georgia', 'WA': 'Washington', 'AR': 'Arkansas', 'IL': 'Illinois', 'CA': 'California', 'WY': 'Wyoming', 'MN': 'Minnesota', 'CO': 'Colorado', 'DC': 'District Of Columbia', 'PA': 'Pennsylvania', 'ME': 'Maine', 'IN': 'Indiana', 'MI': 'Michigan', 'OR': 'Oregon', 'OK': 'Oklahoma', 'UT': 'Utah', 'AL': 'Alabama', 'NV': 'Nevada', 'AZ': 'Arizona', 'CT': 'Connecticut', 'OH': 'Ohio', 'VA': 'Virginia', 'HI': 'Hawaii', 'NM': 'New Mexico', 'MD': 'Maryland', 'MA': 'Massachusetts', 'KY': 'Kentucky', 'NH': 'New Hampshire', 'ND': 'North Dakota', 'MS': 'Mississippi', 'DE': 'Delaware', 'SC': 'South Carolina', 'KS': 'Kansas', 'NE': 'Nebraska', 'AK': 'Alaska', 'RI': 'Rhode Island', 'VT': 'Vermont', 'MT': 'Montana', 'ID': 'Idaho', 'SD': 'South Dakota'}\n"
     ]
    }
   ],
   "source": [
    "state_codes = ['MO', 'NC', 'WI', 'NY', 'WV', 'LA', 'TX', 'NJ', 'FL', 'TN', 'GA',\n",
    "       'WA', 'AR', 'IL', 'CA', 'WY', 'MN', 'CO', 'DC', 'PA', 'ME', 'IN',\n",
    "       'MI', 'OR', 'OK', 'UT', 'AL', 'NV', 'AZ', 'CT', 'OH', 'VA', 'HI',\n",
    "       'NM', 'MD', 'MA', 'KY', 'NH', 'ND', 'MS', 'DE', 'SC', 'KS', 'NE',\n",
    "       'AK', 'RI', 'VT', 'MT', 'ID', 'SD']\n",
    "\n",
    "state_names = dict.fromkeys(state_codes)\n",
    "for key in state_codes:\n",
    "    state_names[key] = state_hash[key]\n",
    "print(state_names)"
   ]
  },
  {
   "cell_type": "code",
   "execution_count": null,
   "metadata": {},
   "outputs": [],
   "source": []
  },
  {
   "cell_type": "code",
   "execution_count": null,
   "metadata": {},
   "outputs": [],
   "source": []
  },
  {
   "cell_type": "code",
   "execution_count": null,
   "metadata": {
    "collapsed": true
   },
   "outputs": [],
   "source": []
  },
  {
   "cell_type": "code",
   "execution_count": null,
   "metadata": {
    "collapsed": true
   },
   "outputs": [],
   "source": []
  },
  {
   "cell_type": "code",
   "execution_count": null,
   "metadata": {
    "collapsed": true
   },
   "outputs": [],
   "source": []
  },
  {
   "cell_type": "code",
   "execution_count": null,
   "metadata": {
    "collapsed": true
   },
   "outputs": [],
   "source": []
  },
  {
   "cell_type": "code",
   "execution_count": null,
   "metadata": {
    "collapsed": true
   },
   "outputs": [],
   "source": []
  },
  {
   "cell_type": "code",
   "execution_count": null,
   "metadata": {
    "collapsed": true
   },
   "outputs": [],
   "source": []
  },
  {
   "cell_type": "code",
   "execution_count": 16,
   "metadata": {},
   "outputs": [],
   "source": [
    "data1 = pd.read_csv('https://www.census.gov/quickfacts/fact/csv/ny,US/PST045217')\n",
    "data2 = pd.read_csv('https://www.census.gov/quickfacts/fact/csv/ma,US/PST045217')"
   ]
  },
  {
   "cell_type": "code",
   "execution_count": 17,
   "metadata": {},
   "outputs": [
    {
     "data": {
      "text/html": [
       "<div>\n",
       "<style>\n",
       "    .dataframe thead tr:only-child th {\n",
       "        text-align: right;\n",
       "    }\n",
       "\n",
       "    .dataframe thead th {\n",
       "        text-align: left;\n",
       "    }\n",
       "\n",
       "    .dataframe tbody tr th {\n",
       "        vertical-align: top;\n",
       "    }\n",
       "</style>\n",
       "<table border=\"1\" class=\"dataframe\">\n",
       "  <thead>\n",
       "    <tr style=\"text-align: right;\">\n",
       "      <th></th>\n",
       "      <th>Fact</th>\n",
       "      <th>Fact Note</th>\n",
       "      <th>New York</th>\n",
       "      <th>Value Note for New York</th>\n",
       "      <th>UNITED STATES</th>\n",
       "      <th>Value Note for UNITED STATES</th>\n",
       "    </tr>\n",
       "  </thead>\n",
       "  <tbody>\n",
       "    <tr>\n",
       "      <th>0</th>\n",
       "      <td>Population estimates, July 1, 2017,  (V2017)</td>\n",
       "      <td>NaN</td>\n",
       "      <td>19,849,399</td>\n",
       "      <td>NaN</td>\n",
       "      <td>325,719,178</td>\n",
       "      <td>NaN</td>\n",
       "    </tr>\n",
       "    <tr>\n",
       "      <th>1</th>\n",
       "      <td>Population estimates base, April 1, 2010,  (V2...</td>\n",
       "      <td>NaN</td>\n",
       "      <td>19,378,110</td>\n",
       "      <td>NaN</td>\n",
       "      <td>308,758,105</td>\n",
       "      <td>NaN</td>\n",
       "    </tr>\n",
       "    <tr>\n",
       "      <th>2</th>\n",
       "      <td>Population, percent change - April 1, 2010 (es...</td>\n",
       "      <td>NaN</td>\n",
       "      <td>2.4%</td>\n",
       "      <td>NaN</td>\n",
       "      <td>5.5%</td>\n",
       "      <td>NaN</td>\n",
       "    </tr>\n",
       "    <tr>\n",
       "      <th>3</th>\n",
       "      <td>Population, Census, April 1, 2010</td>\n",
       "      <td>NaN</td>\n",
       "      <td>19,378,102</td>\n",
       "      <td>NaN</td>\n",
       "      <td>308,745,538</td>\n",
       "      <td>NaN</td>\n",
       "    </tr>\n",
       "    <tr>\n",
       "      <th>4</th>\n",
       "      <td>Persons under 5 years, percent</td>\n",
       "      <td>NaN</td>\n",
       "      <td>5.9%</td>\n",
       "      <td>NaN</td>\n",
       "      <td>6.1%</td>\n",
       "      <td>NaN</td>\n",
       "    </tr>\n",
       "  </tbody>\n",
       "</table>\n",
       "</div>"
      ],
      "text/plain": [
       "                                                Fact Fact Note    New York  \\\n",
       "0       Population estimates, July 1, 2017,  (V2017)       NaN  19,849,399   \n",
       "1  Population estimates base, April 1, 2010,  (V2...       NaN  19,378,110   \n",
       "2  Population, percent change - April 1, 2010 (es...       NaN        2.4%   \n",
       "3                  Population, Census, April 1, 2010       NaN  19,378,102   \n",
       "4                     Persons under 5 years, percent       NaN        5.9%   \n",
       "\n",
       "   Value Note for New York UNITED STATES  Value Note for UNITED STATES  \n",
       "0                      NaN   325,719,178                           NaN  \n",
       "1                      NaN   308,758,105                           NaN  \n",
       "2                      NaN          5.5%                           NaN  \n",
       "3                      NaN   308,745,538                           NaN  \n",
       "4                      NaN          6.1%                           NaN  "
      ]
     },
     "execution_count": 17,
     "metadata": {},
     "output_type": "execute_result"
    }
   ],
   "source": [
    "data1.head()"
   ]
  },
  {
   "cell_type": "code",
   "execution_count": 11,
   "metadata": {},
   "outputs": [
    {
     "data": {
      "text/html": [
       "<div>\n",
       "<style>\n",
       "    .dataframe thead tr:only-child th {\n",
       "        text-align: right;\n",
       "    }\n",
       "\n",
       "    .dataframe thead th {\n",
       "        text-align: left;\n",
       "    }\n",
       "\n",
       "    .dataframe tbody tr th {\n",
       "        vertical-align: top;\n",
       "    }\n",
       "</style>\n",
       "<table border=\"1\" class=\"dataframe\">\n",
       "  <thead>\n",
       "    <tr style=\"text-align: right;\">\n",
       "      <th></th>\n",
       "      <th>Fact</th>\n",
       "      <th>Fact Note</th>\n",
       "      <th>Massachusetts</th>\n",
       "      <th>Value Note for Massachusetts</th>\n",
       "      <th>UNITED STATES</th>\n",
       "      <th>Value Note for UNITED STATES</th>\n",
       "    </tr>\n",
       "  </thead>\n",
       "  <tbody>\n",
       "    <tr>\n",
       "      <th>0</th>\n",
       "      <td>Population estimates, July 1, 2017,  (V2017)</td>\n",
       "      <td>NaN</td>\n",
       "      <td>6,859,819</td>\n",
       "      <td>NaN</td>\n",
       "      <td>325,719,178</td>\n",
       "      <td>NaN</td>\n",
       "    </tr>\n",
       "    <tr>\n",
       "      <th>1</th>\n",
       "      <td>Population estimates base, April 1, 2010,  (V2...</td>\n",
       "      <td>NaN</td>\n",
       "      <td>6,547,808</td>\n",
       "      <td>NaN</td>\n",
       "      <td>308,758,105</td>\n",
       "      <td>NaN</td>\n",
       "    </tr>\n",
       "    <tr>\n",
       "      <th>2</th>\n",
       "      <td>Population, percent change - April 1, 2010 (es...</td>\n",
       "      <td>NaN</td>\n",
       "      <td>4.8%</td>\n",
       "      <td>NaN</td>\n",
       "      <td>5.5%</td>\n",
       "      <td>NaN</td>\n",
       "    </tr>\n",
       "    <tr>\n",
       "      <th>3</th>\n",
       "      <td>Population, Census, April 1, 2010</td>\n",
       "      <td>NaN</td>\n",
       "      <td>6,547,629</td>\n",
       "      <td>NaN</td>\n",
       "      <td>308,745,538</td>\n",
       "      <td>NaN</td>\n",
       "    </tr>\n",
       "    <tr>\n",
       "      <th>4</th>\n",
       "      <td>Persons under 5 years, percent</td>\n",
       "      <td>NaN</td>\n",
       "      <td>5.3%</td>\n",
       "      <td>NaN</td>\n",
       "      <td>6.1%</td>\n",
       "      <td>NaN</td>\n",
       "    </tr>\n",
       "  </tbody>\n",
       "</table>\n",
       "</div>"
      ],
      "text/plain": [
       "                                                Fact Fact Note Massachusetts  \\\n",
       "0       Population estimates, July 1, 2017,  (V2017)       NaN     6,859,819   \n",
       "1  Population estimates base, April 1, 2010,  (V2...       NaN     6,547,808   \n",
       "2  Population, percent change - April 1, 2010 (es...       NaN          4.8%   \n",
       "3                  Population, Census, April 1, 2010       NaN     6,547,629   \n",
       "4                     Persons under 5 years, percent       NaN          5.3%   \n",
       "\n",
       "   Value Note for Massachusetts UNITED STATES  Value Note for UNITED STATES  \n",
       "0                           NaN   325,719,178                           NaN  \n",
       "1                           NaN   308,758,105                           NaN  \n",
       "2                           NaN          5.5%                           NaN  \n",
       "3                           NaN   308,745,538                           NaN  \n",
       "4                           NaN          6.1%                           NaN  "
      ]
     },
     "execution_count": 11,
     "metadata": {},
     "output_type": "execute_result"
    }
   ],
   "source": [
    "data2.head()"
   ]
  },
  {
   "cell_type": "code",
   "execution_count": null,
   "metadata": {
    "collapsed": true
   },
   "outputs": [],
   "source": []
  }
 ],
 "metadata": {
  "kernelspec": {
   "display_name": "Python 3",
   "language": "python",
   "name": "python3"
  },
  "language_info": {
   "codemirror_mode": {
    "name": "ipython",
    "version": 3
   },
   "file_extension": ".py",
   "mimetype": "text/x-python",
   "name": "python",
   "nbconvert_exporter": "python",
   "pygments_lexer": "ipython3",
   "version": "3.6.3"
  }
 },
 "nbformat": 4,
 "nbformat_minor": 2
}
