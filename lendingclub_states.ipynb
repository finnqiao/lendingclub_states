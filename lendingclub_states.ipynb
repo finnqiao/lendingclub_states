{
 "cells": [
  {
   "cell_type": "markdown",
   "metadata": {},
   "source": [
    "### Lending Club P2P loans 2018 Q1"
   ]
  },
  {
   "cell_type": "markdown",
   "metadata": {},
   "source": [
    "The rise of peer-to-peer (P2P) lending in recent years has contributed greatly to democratizing access to financing for previously underserved population groups. What are the characteristics of such borrowers and what can we learn about their credit habits?\n",
    "\n",
    "Thankfully, Lending Club releases quarterly data on loans issued during a particular period. I will be using the most recent loan data on 2018 Q1 to look at the most recent batch of borrowers. Understandably, due to the recency of the data, repayment information is still incomplete. It would be interesting down the road to look at an older data set with more repayment information or at the declined loans data that Lending Club provides."
   ]
  },
  {
   "cell_type": "code",
   "execution_count": 213,
   "metadata": {
    "collapsed": true
   },
   "outputs": [],
   "source": [
    "import pandas as pd\n",
    "import seaborn as sb\n",
    "import numpy as np\n",
    "import matplotlib\n",
    "import matplotlib.pyplot as plt\n",
    "import missingno as msno\n",
    "from itertools import islice\n",
    "import csv"
   ]
  },
  {
   "cell_type": "code",
   "execution_count": 214,
   "metadata": {},
   "outputs": [
    {
     "data": {
      "text/html": [
       "<div>\n",
       "<style>\n",
       "    .dataframe thead tr:only-child th {\n",
       "        text-align: right;\n",
       "    }\n",
       "\n",
       "    .dataframe thead th {\n",
       "        text-align: left;\n",
       "    }\n",
       "\n",
       "    .dataframe tbody tr th {\n",
       "        vertical-align: top;\n",
       "    }\n",
       "</style>\n",
       "<table border=\"1\" class=\"dataframe\">\n",
       "  <thead>\n",
       "    <tr style=\"text-align: right;\">\n",
       "      <th></th>\n",
       "      <th>id</th>\n",
       "      <th>member_id</th>\n",
       "      <th>loan_amnt</th>\n",
       "      <th>funded_amnt</th>\n",
       "      <th>funded_amnt_inv</th>\n",
       "      <th>term</th>\n",
       "      <th>int_rate</th>\n",
       "      <th>installment</th>\n",
       "      <th>grade</th>\n",
       "      <th>sub_grade</th>\n",
       "      <th>...</th>\n",
       "      <th>hardship_payoff_balance_amount</th>\n",
       "      <th>hardship_last_payment_amount</th>\n",
       "      <th>disbursement_method</th>\n",
       "      <th>debt_settlement_flag</th>\n",
       "      <th>debt_settlement_flag_date</th>\n",
       "      <th>settlement_status</th>\n",
       "      <th>settlement_date</th>\n",
       "      <th>settlement_amount</th>\n",
       "      <th>settlement_percentage</th>\n",
       "      <th>settlement_term</th>\n",
       "    </tr>\n",
       "  </thead>\n",
       "  <tbody>\n",
       "    <tr>\n",
       "      <th>1</th>\n",
       "      <td></td>\n",
       "      <td></td>\n",
       "      <td>3000</td>\n",
       "      <td>3000</td>\n",
       "      <td>3000</td>\n",
       "      <td>36 months</td>\n",
       "      <td>10.41%</td>\n",
       "      <td>97.39</td>\n",
       "      <td>B</td>\n",
       "      <td>B3</td>\n",
       "      <td>...</td>\n",
       "      <td></td>\n",
       "      <td></td>\n",
       "      <td>Cash</td>\n",
       "      <td>N</td>\n",
       "      <td></td>\n",
       "      <td></td>\n",
       "      <td></td>\n",
       "      <td></td>\n",
       "      <td></td>\n",
       "      <td></td>\n",
       "    </tr>\n",
       "    <tr>\n",
       "      <th>2</th>\n",
       "      <td></td>\n",
       "      <td></td>\n",
       "      <td>14100</td>\n",
       "      <td>14100</td>\n",
       "      <td>14100</td>\n",
       "      <td>36 months</td>\n",
       "      <td>23.87%</td>\n",
       "      <td>552.23</td>\n",
       "      <td>E</td>\n",
       "      <td>E2</td>\n",
       "      <td>...</td>\n",
       "      <td></td>\n",
       "      <td></td>\n",
       "      <td>Cash</td>\n",
       "      <td>N</td>\n",
       "      <td></td>\n",
       "      <td></td>\n",
       "      <td></td>\n",
       "      <td></td>\n",
       "      <td></td>\n",
       "      <td></td>\n",
       "    </tr>\n",
       "    <tr>\n",
       "      <th>3</th>\n",
       "      <td></td>\n",
       "      <td></td>\n",
       "      <td>10000</td>\n",
       "      <td>10000</td>\n",
       "      <td>10000</td>\n",
       "      <td>36 months</td>\n",
       "      <td>6.07%</td>\n",
       "      <td>304.54</td>\n",
       "      <td>A</td>\n",
       "      <td>A2</td>\n",
       "      <td>...</td>\n",
       "      <td></td>\n",
       "      <td></td>\n",
       "      <td>Cash</td>\n",
       "      <td>N</td>\n",
       "      <td></td>\n",
       "      <td></td>\n",
       "      <td></td>\n",
       "      <td></td>\n",
       "      <td></td>\n",
       "      <td></td>\n",
       "    </tr>\n",
       "    <tr>\n",
       "      <th>4</th>\n",
       "      <td></td>\n",
       "      <td></td>\n",
       "      <td>40000</td>\n",
       "      <td>40000</td>\n",
       "      <td>40000</td>\n",
       "      <td>60 months</td>\n",
       "      <td>9.43%</td>\n",
       "      <td>838.71</td>\n",
       "      <td>B</td>\n",
       "      <td>B1</td>\n",
       "      <td>...</td>\n",
       "      <td></td>\n",
       "      <td></td>\n",
       "      <td>Cash</td>\n",
       "      <td>N</td>\n",
       "      <td></td>\n",
       "      <td></td>\n",
       "      <td></td>\n",
       "      <td></td>\n",
       "      <td></td>\n",
       "      <td></td>\n",
       "    </tr>\n",
       "    <tr>\n",
       "      <th>5</th>\n",
       "      <td></td>\n",
       "      <td></td>\n",
       "      <td>6300</td>\n",
       "      <td>6300</td>\n",
       "      <td>6300</td>\n",
       "      <td>36 months</td>\n",
       "      <td>9.43%</td>\n",
       "      <td>201.61</td>\n",
       "      <td>B</td>\n",
       "      <td>B1</td>\n",
       "      <td>...</td>\n",
       "      <td></td>\n",
       "      <td></td>\n",
       "      <td>Cash</td>\n",
       "      <td>N</td>\n",
       "      <td></td>\n",
       "      <td></td>\n",
       "      <td></td>\n",
       "      <td></td>\n",
       "      <td></td>\n",
       "      <td></td>\n",
       "    </tr>\n",
       "  </tbody>\n",
       "</table>\n",
       "<p>5 rows × 145 columns</p>\n",
       "</div>"
      ],
      "text/plain": [
       "0 id member_id loan_amnt funded_amnt funded_amnt_inv        term int_rate  \\\n",
       "1                   3000        3000            3000   36 months   10.41%   \n",
       "2                  14100       14100           14100   36 months   23.87%   \n",
       "3                  10000       10000           10000   36 months    6.07%   \n",
       "4                  40000       40000           40000   60 months    9.43%   \n",
       "5                   6300        6300            6300   36 months    9.43%   \n",
       "\n",
       "0 installment grade sub_grade       ...       hardship_payoff_balance_amount  \\\n",
       "1       97.39     B        B3       ...                                        \n",
       "2      552.23     E        E2       ...                                        \n",
       "3      304.54     A        A2       ...                                        \n",
       "4      838.71     B        B1       ...                                        \n",
       "5      201.61     B        B1       ...                                        \n",
       "\n",
       "0 hardship_last_payment_amount disbursement_method debt_settlement_flag  \\\n",
       "1                                             Cash                    N   \n",
       "2                                             Cash                    N   \n",
       "3                                             Cash                    N   \n",
       "4                                             Cash                    N   \n",
       "5                                             Cash                    N   \n",
       "\n",
       "0 debt_settlement_flag_date settlement_status settlement_date  \\\n",
       "1                                                               \n",
       "2                                                               \n",
       "3                                                               \n",
       "4                                                               \n",
       "5                                                               \n",
       "\n",
       "0 settlement_amount settlement_percentage settlement_term  \n",
       "1                                                          \n",
       "2                                                          \n",
       "3                                                          \n",
       "4                                                          \n",
       "5                                                          \n",
       "\n",
       "[5 rows x 145 columns]"
      ]
     },
     "execution_count": 214,
     "metadata": {},
     "output_type": "execute_result"
    }
   ],
   "source": [
    "all_data = []\n",
    "with open('LoanStats_2018Q1.csv') as data:\n",
    "    for row in islice(csv.reader(data), 1, None):\n",
    "        all_data.append(np.array(row))\n",
    "        \n",
    "df = pd.DataFrame(all_data)\n",
    "df.columns = df.iloc[0]\n",
    "df = df.drop([0])\n",
    "df.head()"
   ]
  },
  {
   "cell_type": "code",
   "execution_count": 215,
   "metadata": {},
   "outputs": [
    {
     "data": {
      "text/plain": [
       "(107868, 145)"
      ]
     },
     "execution_count": 215,
     "metadata": {},
     "output_type": "execute_result"
    }
   ],
   "source": [
    "df.shape"
   ]
  },
  {
   "cell_type": "markdown",
   "metadata": {},
   "source": [
    "A look at the shape reveals 107,868 loans originated in Q1 of 2018. There are 145 columns with some columns that are completely empty.\n",
    "\n",
    "Some empty columns such as id and member_id are understandeable they are personally identifiable information. Many of the variables also relate to detailed loan information. For the purposes of this analysis, we focus on a few demographic variables and basic loan information:\n",
    "\n",
    "1. loan_amnt\n",
    "2. funded_amnt\n",
    "3. term\n",
    "4. int_rate\n",
    "5. grade\n",
    "6. emp_length\n",
    "7. home_ownership\n",
    "8. annual_inc\n",
    "9. title\n",
    "10. addr_state\n",
    "11. dti\n",
    "12. open_acc\n",
    "13. total_acc\n",
    "14. pub_rec"
   ]
  },
  {
   "cell_type": "code",
   "execution_count": 216,
   "metadata": {},
   "outputs": [
    {
     "data": {
      "text/html": [
       "<div>\n",
       "<style>\n",
       "    .dataframe thead tr:only-child th {\n",
       "        text-align: right;\n",
       "    }\n",
       "\n",
       "    .dataframe thead th {\n",
       "        text-align: left;\n",
       "    }\n",
       "\n",
       "    .dataframe tbody tr th {\n",
       "        vertical-align: top;\n",
       "    }\n",
       "</style>\n",
       "<table border=\"1\" class=\"dataframe\">\n",
       "  <thead>\n",
       "    <tr style=\"text-align: right;\">\n",
       "      <th></th>\n",
       "      <th>loan_amnt</th>\n",
       "      <th>funded_amnt</th>\n",
       "      <th>term</th>\n",
       "      <th>int_rate</th>\n",
       "      <th>grade</th>\n",
       "      <th>emp_length</th>\n",
       "      <th>home_ownership</th>\n",
       "      <th>annual_inc</th>\n",
       "      <th>title</th>\n",
       "      <th>addr_state</th>\n",
       "      <th>dti</th>\n",
       "      <th>open_acc</th>\n",
       "      <th>total_acc</th>\n",
       "      <th>pub_rec</th>\n",
       "    </tr>\n",
       "  </thead>\n",
       "  <tbody>\n",
       "    <tr>\n",
       "      <th>1</th>\n",
       "      <td>3000</td>\n",
       "      <td>3000</td>\n",
       "      <td>36 months</td>\n",
       "      <td>10.41%</td>\n",
       "      <td>B</td>\n",
       "      <td>10+ years</td>\n",
       "      <td>MORTGAGE</td>\n",
       "      <td>60000</td>\n",
       "      <td>Debt consolidation</td>\n",
       "      <td>MO</td>\n",
       "      <td>27.94</td>\n",
       "      <td>20</td>\n",
       "      <td>36</td>\n",
       "      <td>0</td>\n",
       "    </tr>\n",
       "    <tr>\n",
       "      <th>2</th>\n",
       "      <td>14100</td>\n",
       "      <td>14100</td>\n",
       "      <td>36 months</td>\n",
       "      <td>23.87%</td>\n",
       "      <td>E</td>\n",
       "      <td>&lt; 1 year</td>\n",
       "      <td>OWN</td>\n",
       "      <td>128000</td>\n",
       "      <td>Debt consolidation</td>\n",
       "      <td>NC</td>\n",
       "      <td>14.12</td>\n",
       "      <td>12</td>\n",
       "      <td>32</td>\n",
       "      <td>0</td>\n",
       "    </tr>\n",
       "    <tr>\n",
       "      <th>3</th>\n",
       "      <td>10000</td>\n",
       "      <td>10000</td>\n",
       "      <td>36 months</td>\n",
       "      <td>6.07%</td>\n",
       "      <td>A</td>\n",
       "      <td>5 years</td>\n",
       "      <td>OWN</td>\n",
       "      <td>50000</td>\n",
       "      <td>Credit card refinancing</td>\n",
       "      <td>WI</td>\n",
       "      <td>8.93</td>\n",
       "      <td>9</td>\n",
       "      <td>16</td>\n",
       "      <td>1</td>\n",
       "    </tr>\n",
       "    <tr>\n",
       "      <th>4</th>\n",
       "      <td>40000</td>\n",
       "      <td>40000</td>\n",
       "      <td>60 months</td>\n",
       "      <td>9.43%</td>\n",
       "      <td>B</td>\n",
       "      <td>10+ years</td>\n",
       "      <td>MORTGAGE</td>\n",
       "      <td>150000</td>\n",
       "      <td>Debt consolidation</td>\n",
       "      <td>NY</td>\n",
       "      <td>4.09</td>\n",
       "      <td>6</td>\n",
       "      <td>9</td>\n",
       "      <td>1</td>\n",
       "    </tr>\n",
       "    <tr>\n",
       "      <th>5</th>\n",
       "      <td>6300</td>\n",
       "      <td>6300</td>\n",
       "      <td>36 months</td>\n",
       "      <td>9.43%</td>\n",
       "      <td>B</td>\n",
       "      <td>6 years</td>\n",
       "      <td>RENT</td>\n",
       "      <td>60000</td>\n",
       "      <td>Credit card refinancing</td>\n",
       "      <td>WV</td>\n",
       "      <td>13.36</td>\n",
       "      <td>7</td>\n",
       "      <td>32</td>\n",
       "      <td>1</td>\n",
       "    </tr>\n",
       "  </tbody>\n",
       "</table>\n",
       "</div>"
      ],
      "text/plain": [
       "0 loan_amnt funded_amnt        term int_rate grade emp_length home_ownership  \\\n",
       "1      3000        3000   36 months   10.41%     B  10+ years       MORTGAGE   \n",
       "2     14100       14100   36 months   23.87%     E   < 1 year            OWN   \n",
       "3     10000       10000   36 months    6.07%     A    5 years            OWN   \n",
       "4     40000       40000   60 months    9.43%     B  10+ years       MORTGAGE   \n",
       "5      6300        6300   36 months    9.43%     B    6 years           RENT   \n",
       "\n",
       "0 annual_inc                    title addr_state    dti open_acc total_acc  \\\n",
       "1      60000       Debt consolidation         MO  27.94       20        36   \n",
       "2     128000       Debt consolidation         NC  14.12       12        32   \n",
       "3      50000  Credit card refinancing         WI   8.93        9        16   \n",
       "4     150000       Debt consolidation         NY   4.09        6         9   \n",
       "5      60000  Credit card refinancing         WV  13.36        7        32   \n",
       "\n",
       "0 pub_rec  \n",
       "1       0  \n",
       "2       0  \n",
       "3       1  \n",
       "4       1  \n",
       "5       1  "
      ]
     },
     "execution_count": 216,
     "metadata": {},
     "output_type": "execute_result"
    }
   ],
   "source": [
    "cols = ['loan_amnt','funded_amnt','term','int_rate','grade','emp_length','home_ownership','annual_inc','title','addr_state','dti','open_acc','total_acc','pub_rec']\n",
    "new_df = df[cols]\n",
    "new_df.head()"
   ]
  },
  {
   "cell_type": "code",
   "execution_count": 217,
   "metadata": {},
   "outputs": [
    {
     "name": "stdout",
     "output_type": "stream",
     "text": [
      "<class 'pandas.core.frame.DataFrame'>\n",
      "Int64Index: 107868 entries, 1 to 107868\n",
      "Data columns (total 14 columns):\n",
      "loan_amnt         107864 non-null object\n",
      "funded_amnt       107864 non-null object\n",
      "term              107864 non-null object\n",
      "int_rate          107864 non-null object\n",
      "grade             107864 non-null object\n",
      "emp_length        107864 non-null object\n",
      "home_ownership    107864 non-null object\n",
      "annual_inc        107864 non-null object\n",
      "title             107864 non-null object\n",
      "addr_state        107864 non-null object\n",
      "dti               107864 non-null object\n",
      "open_acc          107864 non-null object\n",
      "total_acc         107864 non-null object\n",
      "pub_rec           107864 non-null object\n",
      "dtypes: object(14)\n",
      "memory usage: 12.3+ MB\n"
     ]
    }
   ],
   "source": [
    "new_df.info()"
   ]
  },
  {
   "cell_type": "markdown",
   "metadata": {},
   "source": [
    "Looking at the data types for the variables, they are currently all non-null objects. For variables that should indicate a sense of scale or order, the data should be changed accordingly."
   ]
  },
  {
   "cell_type": "code",
   "execution_count": 218,
   "metadata": {},
   "outputs": [],
   "source": [
    "new_df = new_df.replace(['',None,'n/a'], np.nan, regex = True)"
   ]
  },
  {
   "cell_type": "code",
   "execution_count": 219,
   "metadata": {},
   "outputs": [
    {
     "data": {
      "text/plain": [
       "<matplotlib.axes._subplots.AxesSubplot at 0x1c5be67550>"
      ]
     },
     "execution_count": 219,
     "metadata": {},
     "output_type": "execute_result"
    },
    {
     "data": {
      "image/png": "[encoded data removed]",
      "text/plain": [
       "<matplotlib.figure.Figure at 0x1c0e13e748>"
      ]
     },
     "metadata": {},
     "output_type": "display_data"
    }
   ],
   "source": [
    "%matplotlib inline\n",
    "msno.bar(new_df)"
   ]
  },
  {
   "cell_type": "code",
   "execution_count": 220,
   "metadata": {},
   "outputs": [],
   "source": [
    "new_df = new_df.dropna()"
   ]
  },
  {
   "cell_type": "markdown",
   "metadata": {},
   "source": [
    "A look at individual entries reveal that empty data is represented by an empty string object, a Nonetype object, or a string 'n/a'. By replacing those with NaN and running missingno, we see a large number of missing fields under 'emp_length'. \n",
    "\n",
    "Dropping the records with missing data yield 98,424 rows, not a large dilution of the initial number.\n",
    "\n",
    "Based on the nature of the individual variables, they have to be converted to the following data types to be useful in any subsequent analysis:\n",
    "\n",
    "Integer data type:\n",
    "- loan_amnt\n",
    "- funded_amnt\n",
    "- term\n",
    "- open_acc\n",
    "- total_acc\n",
    "- pub_rec\n",
    "\n",
    "Float data type:\n",
    "- int_rate\n",
    "- dti\n",
    "\n",
    "Ordered category data type:\n",
    "- grade\n",
    "- emp_length\n",
    "- annual_inc"
   ]
  },
  {
   "cell_type": "markdown",
   "metadata": {},
   "source": [
    "### Integer data types\n",
    "\n",
    "For most of the integer type conversions, a simple conversion is possible with 'astype'. However, the 'term' variable is currently represented by '36 Months' and '60 Months'. Additional transformation will have to be applied on it."
   ]
  },
  {
   "cell_type": "code",
   "execution_count": 221,
   "metadata": {},
   "outputs": [
    {
     "data": {
      "text/plain": [
       "array([' 36 months', ' 60 months'], dtype=object)"
      ]
     },
     "execution_count": 221,
     "metadata": {},
     "output_type": "execute_result"
    }
   ],
   "source": [
    "new_df['term'].unique()"
   ]
  },
  {
   "cell_type": "code",
   "execution_count": 222,
   "metadata": {},
   "outputs": [],
   "source": [
    "new_df['term'] = new_df['term'].map({' 36 months':np.int(36),' 60 months':np.int(60)})"
   ]
  },
  {
   "cell_type": "code",
   "execution_count": 223,
   "metadata": {},
   "outputs": [],
   "source": [
    "int_cols = ['loan_amnt','funded_amnt','open_acc','total_acc','pub_rec']\n",
    "for col in int_cols:\n",
    "    new_df[col] = new_df[col].astype(int)"
   ]
  },
  {
   "cell_type": "markdown",
   "metadata": {},
   "source": [
    "### Float data types\n",
    "\n",
    "The interest rate column has to be sanitized before conversion to float due to the spaces and percentage symbol."
   ]
  },
  {
   "cell_type": "code",
   "execution_count": 224,
   "metadata": {
    "collapsed": true
   },
   "outputs": [],
   "source": [
    "new_df['int_rate'] = new_df['int_rate'].replace([' ','%'],'',regex = True)"
   ]
  },
  {
   "cell_type": "code",
   "execution_count": 225,
   "metadata": {},
   "outputs": [],
   "source": [
    "float_cols = ['int_rate','dti']\n",
    "for col in float_cols:\n",
    "    new_df[col] = new_df[col].astype(float)"
   ]
  },
  {
   "cell_type": "markdown",
   "metadata": {},
   "source": [
    "### Ordered categorical data types\n",
    "\n",
    "Categorical data types are slightly trickier and we will go through them one by one.\n",
    "\n",
    "For the 'grade' variable, the order matters and a grade of A conveys the highest loan quality. The categorical variable is thus ordered as such."
   ]
  },
  {
   "cell_type": "code",
   "execution_count": 226,
   "metadata": {},
   "outputs": [
    {
     "data": {
      "text/plain": [
       "array(['B', 'E', 'A', 'C', 'D', 'G', 'F'], dtype=object)"
      ]
     },
     "execution_count": 226,
     "metadata": {},
     "output_type": "execute_result"
    }
   ],
   "source": [
    "new_df['grade'].unique()"
   ]
  },
  {
   "cell_type": "code",
   "execution_count": 227,
   "metadata": {},
   "outputs": [],
   "source": [
    "ordered_grade = ['G','F','E','D','C','B','A']\n",
    "new_df['grade'] = new_df['grade'].astype('category', ordered = True, categories=ordered_grade).cat.codes"
   ]
  },
  {
   "cell_type": "markdown",
   "metadata": {},
   "source": [
    "By the same process, we can convert employment length to an ordinal variable as well since the entire '>1 year' and '10+ years' don't convey the necessary information."
   ]
  },
  {
   "cell_type": "code",
   "execution_count": 228,
   "metadata": {},
   "outputs": [
    {
     "data": {
      "text/plain": [
       "array(['10+ years', '< 1 year', '5 years', '6 years', '3 years', '2 years',\n",
       "       '7 years', '4 years', '1 year', '9 years', '8 years'], dtype=object)"
      ]
     },
     "execution_count": 228,
     "metadata": {},
     "output_type": "execute_result"
    }
   ],
   "source": [
    "new_df['emp_length'].unique()"
   ]
  },
  {
   "cell_type": "code",
   "execution_count": 229,
   "metadata": {
    "collapsed": true
   },
   "outputs": [],
   "source": [
    "ordered_emp = ['< 1 year','1 year','2 years','3 years','4 years',\n",
    "               '5 years', '6 years', '7 years','8 years','9 years',\n",
    "                '10+ years']\n",
    "new_df['emp_length'] = new_df['emp_length'].astype('category', ordered = True, categories=ordered_emp).cat.codes"
   ]
  },
  {
   "cell_type": "code",
   "execution_count": 230,
   "metadata": {},
   "outputs": [
    {
     "data": {
      "text/plain": [
       "array(['MORTGAGE', 'OWN', 'RENT', 'ANY'], dtype=object)"
      ]
     },
     "execution_count": 230,
     "metadata": {},
     "output_type": "execute_result"
    }
   ],
   "source": [
    "new_df['home_ownership'].unique()"
   ]
  },
  {
   "cell_type": "code",
   "execution_count": 231,
   "metadata": {},
   "outputs": [
    {
     "data": {
      "text/plain": [
       "count    9.842400e+04\n",
       "mean     8.163789e+04\n",
       "std      7.906254e+04\n",
       "min      3.300000e+01\n",
       "25%      4.800000e+04\n",
       "50%      6.800000e+04\n",
       "75%      9.800000e+04\n",
       "max      8.365188e+06\n",
       "Name: annual_inc, dtype: float64"
      ]
     },
     "execution_count": 231,
     "metadata": {},
     "output_type": "execute_result"
    }
   ],
   "source": [
    "new_df['annual_inc'] = new_df['annual_inc'].astype(float)\n",
    "new_df['annual_inc'].describe()"
   ]
  },
  {
   "cell_type": "code",
   "execution_count": 232,
   "metadata": {},
   "outputs": [
    {
     "data": {
      "text/plain": [
       "8365188.0"
      ]
     },
     "execution_count": 232,
     "metadata": {},
     "output_type": "execute_result"
    }
   ],
   "source": [
    "new_df['annual_inc'].max()"
   ]
  },
  {
   "cell_type": "markdown",
   "metadata": {},
   "source": [
    "As there are too many unique values in annual income, it is more useful to separate them into categories based on the value band that they fall in. I have used pd.qcut in this case to allocate a bin for each range of values.\n",
    "\n",
    "'qcut' will divide the items such that there are an equal number of items in each bin. Note that there is another method called pd.cut. 'cut' allocates items to bins by the values, regardless of the number of items in each bin. \n",
    "\n",
    "While my initial inclination was to use cut to get a better perspective of the income ranges, it turns out that there were multiple outliers that skewed the data greatly. As seen from the number of items in each bin, using 'cut' provided a balanced view of the income data."
   ]
  },
  {
   "cell_type": "code",
   "execution_count": 233,
   "metadata": {},
   "outputs": [
    {
     "name": "stdout",
     "output_type": "stream",
     "text": [
      "(-8332.155, 1673064.0]    98409\n",
      "(1673064.0, 3346095.0]        9\n",
      "(6692157.0, 8365188.0]        3\n",
      "(3346095.0, 5019126.0]        2\n",
      "(5019126.0, 6692157.0]        1\n",
      "Name: annual_inc, dtype: int64\n"
     ]
    }
   ],
   "source": [
    "income_bins = [1,2,3,4,5]\n",
    "print(pd.cut(new_df['annual_inc'],5).value_counts())"
   ]
  },
  {
   "cell_type": "code",
   "execution_count": 234,
   "metadata": {},
   "outputs": [
    {
     "name": "stdout",
     "output_type": "stream",
     "text": [
      "(44000.0, 60000.0]       22121\n",
      "(32.999, 44000.0]        19739\n",
      "(107000.0, 8365188.0]    19535\n",
      "(78000.0, 107000.0]      19400\n",
      "(60000.0, 78000.0]       17629\n",
      "Name: annual_inc, dtype: int64\n"
     ]
    }
   ],
   "source": [
    "print(pd.qcut(new_df['annual_inc'],5).value_counts())"
   ]
  },
  {
   "cell_type": "code",
   "execution_count": 235,
   "metadata": {},
   "outputs": [
    {
     "data": {
      "text/plain": [
       "1    1\n",
       "2    4\n",
       "3    1\n",
       "4    4\n",
       "5    1\n",
       "Name: income_bins, dtype: int8"
      ]
     },
     "execution_count": 235,
     "metadata": {},
     "output_type": "execute_result"
    }
   ],
   "source": [
    "new_df['income_bins'] = pd.qcut(new_df['annual_inc'],5,income_bins).cat.codes\n",
    "new_df['income_bins'].head()"
   ]
  },
  {
   "cell_type": "code",
   "execution_count": 236,
   "metadata": {},
   "outputs": [
    {
     "data": {
      "text/plain": [
       "array(['Debt consolidation', 'Credit card refinancing', 'Major purchase',\n",
       "       'Home improvement', 'Home buying', 'Other', 'Car financing',\n",
       "       'Business', 'Medical expenses', 'Moving and relocation', 'Vacation',\n",
       "       'Green loan'], dtype=object)"
      ]
     },
     "execution_count": 236,
     "metadata": {},
     "output_type": "execute_result"
    }
   ],
   "source": [
    "new_df['title'].unique()"
   ]
  },
  {
   "cell_type": "code",
   "execution_count": 237,
   "metadata": {},
   "outputs": [
    {
     "data": {
      "text/plain": [
       "array(['MO', 'NC', 'WI', 'NY', 'WV', 'LA', 'TX', 'NJ', 'FL', 'TN', 'GA',\n",
       "       'WA', 'AR', 'IL', 'CA', 'WY', 'MN', 'CO', 'DC', 'PA', 'ME', 'IN',\n",
       "       'MI', 'OR', 'OK', 'UT', 'AL', 'NV', 'AZ', 'CT', 'OH', 'VA', 'HI',\n",
       "       'NM', 'MD', 'MA', 'KY', 'NH', 'ND', 'MS', 'DE', 'SC', 'KS', 'NE',\n",
       "       'AK', 'RI', 'VT', 'MT', 'ID', 'SD'], dtype=object)"
      ]
     },
     "execution_count": 237,
     "metadata": {},
     "output_type": "execute_result"
    }
   ],
   "source": [
    "new_df['addr_state'].unique()"
   ]
  },
  {
   "cell_type": "code",
   "execution_count": 242,
   "metadata": {},
   "outputs": [
    {
     "name": "stdout",
     "output_type": "stream",
     "text": [
      "<class 'pandas.core.frame.DataFrame'>\n",
      "Int64Index: 98424 entries, 1 to 107864\n",
      "Data columns (total 15 columns):\n",
      "loan_amnt         98424 non-null int64\n",
      "funded_amnt       98424 non-null int64\n",
      "term              98424 non-null int64\n",
      "int_rate          98424 non-null float64\n",
      "grade             98424 non-null int8\n",
      "emp_length        98424 non-null int8\n",
      "home_ownership    98424 non-null object\n",
      "annual_inc        98424 non-null float64\n",
      "title             98424 non-null object\n",
      "addr_state        98424 non-null object\n",
      "dti               98424 non-null float64\n",
      "open_acc          98424 non-null int64\n",
      "total_acc         98424 non-null int64\n",
      "pub_rec           98424 non-null int64\n",
      "income_bins       98424 non-null int8\n",
      "dtypes: float64(3), int64(6), int8(3), object(3)\n",
      "memory usage: 10.0+ MB\n"
     ]
    }
   ],
   "source": [
    "new_df.info()"
   ]
  },
  {
   "cell_type": "markdown",
   "metadata": {},
   "source": [
    "### External data"
   ]
  },
  {
   "cell_type": "code",
   "execution_count": 264,
   "metadata": {
    "collapsed": true
   },
   "outputs": [],
   "source": [
    "state_codes = new_df['addr_state'].unique()"
   ]
  },
  {
   "cell_type": "code",
   "execution_count": 267,
   "metadata": {},
   "outputs": [
    {
     "data": {
      "text/plain": [
       "array(['MO', 'NC', 'WI', 'NY', 'WV', 'LA', 'TX', 'NJ', 'FL', 'TN', 'GA',\n",
       "       'WA', 'AR', 'IL', 'CA', 'WY', 'MN', 'CO', 'DC', 'PA', 'ME', 'IN',\n",
       "       'MI', 'OR', 'OK', 'UT', 'AL', 'NV', 'AZ', 'CT', 'OH', 'VA', 'HI',\n",
       "       'NM', 'MD', 'MA', 'KY', 'NH', 'ND', 'MS', 'DE', 'SC', 'KS', 'NE',\n",
       "       'AK', 'RI', 'VT', 'MT', 'ID', 'SD'], dtype=object)"
      ]
     },
     "execution_count": 267,
     "metadata": {},
     "output_type": "execute_result"
    }
   ],
   "source": [
    "state_codes"
   ]
  },
  {
   "cell_type": "code",
   "execution_count": 251,
   "metadata": {},
   "outputs": [],
   "source": []
  },
  {
   "cell_type": "code",
   "execution_count": null,
   "metadata": {
    "collapsed": true
   },
   "outputs": [],
   "source": []
  },
  {
   "cell_type": "code",
   "execution_count": null,
   "metadata": {
    "collapsed": true
   },
   "outputs": [],
   "source": []
  },
  {
   "cell_type": "code",
   "execution_count": null,
   "metadata": {
    "collapsed": true
   },
   "outputs": [],
   "source": []
  },
  {
   "cell_type": "code",
   "execution_count": 239,
   "metadata": {},
   "outputs": [
    {
     "data": {
      "text/plain": [
       "<matplotlib.axes._subplots.AxesSubplot at 0x1c05215a58>"
      ]
     },
     "execution_count": 239,
     "metadata": {},
     "output_type": "execute_result"
    },
    {
     "data": {
      "image/png": "[encoded data removed]",
      "text/plain": [
       "<matplotlib.figure.Figure at 0x1cd9c05a90>"
      ]
     },
     "metadata": {},
     "output_type": "display_data"
    }
   ],
   "source": [
    "sb.heatmap(new_df.corr())"
   ]
  },
  {
   "cell_type": "code",
   "execution_count": null,
   "metadata": {},
   "outputs": [],
   "source": []
  },
  {
   "cell_type": "code",
   "execution_count": null,
   "metadata": {
    "collapsed": true
   },
   "outputs": [],
   "source": []
  },
  {
   "cell_type": "code",
   "execution_count": null,
   "metadata": {
    "collapsed": true
   },
   "outputs": [],
   "source": []
  }
 ],
 "metadata": {
  "kernelspec": {
   "display_name": "Python 3",
   "language": "python",
   "name": "python3"
  },
  "language_info": {
   "codemirror_mode": {
    "name": "ipython",
    "version": 3
   },
   "file_extension": ".py",
   "mimetype": "text/x-python",
   "name": "python",
   "nbconvert_exporter": "python",
   "pygments_lexer": "ipython3",
   "version": "3.6.3"
  }
 },
 "nbformat": 4,
 "nbformat_minor": 2
}
